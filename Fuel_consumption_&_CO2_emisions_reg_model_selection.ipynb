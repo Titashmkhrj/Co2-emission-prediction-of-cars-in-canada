{
 "cells": [
  {
   "cell_type": "markdown",
   "metadata": {},
   "source": [
    "**Okay so prima facie, lets import some of the libraries we will be needing for this project.**  \n",
    "(even if we are missing out on some library, we can always import it later on in the project.)"
   ]
  },
  {
   "cell_type": "code",
   "execution_count": 1,
   "metadata": {},
   "outputs": [],
   "source": [
    "import sys\n",
    "import requests\n",
    "\n",
    "import pandas as pd\n",
    "import numpy as np\n",
    "import matplotlib.pyplot as plt\n",
    "\n",
    "import sklearn"
   ]
  },
  {
   "cell_type": "markdown",
   "metadata": {},
   "source": [
    "**Okay so now we will be able to load and manupulate our data.**  \n",
    "**So let's get started with loading our data.**  \n",
    "\n",
    "**Data source : https://open.canada.ca/data/en/dataset/98f1a129-f628-4ce4-b24d-6f16bf24dd64** \n",
    "\n",
    "**So our datasets contain model-specific fuel consumption ratings and estimated carbon dioxide emissions for new light-duty vehicles for retail sale in Canada from the year of 1995 to 2020.**  \n",
    "\n",
    "**A <u>note</u> from the data provider** : \"To help you compare vehicles from different model years, the fuel consumption ratings for 1995 to 2014 vehicles have been adjusted to reflect the improved testing that is more representative of everyday driving. Note that these are approximate values that were generated from the original ratings, not from vehicle testing.\""
   ]
  },
  {
   "cell_type": "markdown",
   "metadata": {},
   "source": [
    "# Loading the data."
   ]
  },
  {
   "cell_type": "code",
   "execution_count": 2,
   "metadata": {},
   "outputs": [
    {
     "name": "stdout",
     "output_type": "stream",
     "text": [
      "(3520, 13)\n",
      "(14281, 13)\n",
      "(1133, 13)\n",
      "(1109, 14)\n",
      "(1057, 15)\n",
      "(1084, 15)\n",
      "(1047, 15)\n",
      "(869, 15)\n"
     ]
    }
   ],
   "source": [
    "\"\"\"okay so the datasets when downloadong from the source was availaible in the chunks of - \n",
    "                1995 to 1999, 2000 to 2014, 2015, 2016, 2017, 2018, 2019 and 2020.\n",
    "so we are converting each of those CSV files into a pandas dataframe so that we can ease of manuulation, and then we are going to \n",
    "concatenate all of them in order to get our full dataset.\n",
    "The individual datasets have been named according to the corresponding years they relate to.\n",
    "\"\"\"\n",
    "\n",
    "df_95_99 = pd.read_csv(\"Original_1995-1999_Fuel_Consumption_Ratings_(2-cycle).csv\")\n",
    "print(df_95_99.shape)\n",
    "df_00_14 = pd.read_csv(\"Original MY2000-2014 Fuel Consumption Ratings (2-cycle).csv\")\n",
    "print(df_00_14.shape)\n",
    "df_15 = pd.read_csv(\"MY2015 Fuel Consumption Ratings (5-cycle).csv\")\n",
    "print(df_15.shape)\n",
    "df_16 = pd.read_csv(\"MY2016 Fuel Consumption Ratings.csv\")\n",
    "print(df_16.shape)\n",
    "df_17 = pd.read_csv(\"MY2017 Fuel Consumption Ratings.csv\")\n",
    "print(df_17.shape)\n",
    "df_18 = pd.read_csv(\"MY2018 Fuel Consumption Ratings.csv\")\n",
    "print(df_18.shape)\n",
    "df_19 = pd.read_csv(\"MY2019 Fuel Consumption Ratings.csv\")\n",
    "print(df_19.shape)\n",
    "df_20 = pd.read_csv(\"MY2020 Fuel Consumption Ratings.csv\")\n",
    "print(df_20.shape)"
   ]
  },
  {
   "cell_type": "markdown",
   "metadata": {},
   "source": [
    "**okay so there are some extra columns in our data from 2016 till 2020**\n",
    "**let's try to figure out what those are exactly.**\n",
    "**So lets check the column names**"
   ]
  },
  {
   "cell_type": "code",
   "execution_count": 3,
   "metadata": {
    "scrolled": true
   },
   "outputs": [
    {
     "name": "stdout",
     "output_type": "stream",
     "text": [
      "Index(['MODEL', 'MAKE', 'MODEL.1', 'VEHICLE CLASS', 'ENGINE SIZE', 'CYLINDERS',\n",
      "       'TRANSMISSION', 'FUEL', 'FUEL CONSUMPTION', 'Unnamed: 9', 'Unnamed: 10',\n",
      "       'Unnamed: 11', 'CO2 EMISSIONS '],\n",
      "      dtype='object') Index(['MODEL', 'MAKE', 'MODEL.1', 'VEHICLE CLASS', 'ENGINE SIZE', 'CYLINDERS',\n",
      "       'TRANSMISSION', 'FUEL', 'FUEL CONSUMPTION', 'Unnamed: 9', 'Unnamed: 10',\n",
      "       'Unnamed: 11', 'CO2 EMISSIONS '],\n",
      "      dtype='object') Index(['MODEL', 'MAKE', 'MODEL.1', 'VEHICLE CLASS', 'ENGINE SIZE', 'CYLINDERS',\n",
      "       'TRANSMISSION', 'FUEL', 'FUEL CONSUMPTION*', 'Unnamed: 9',\n",
      "       'Unnamed: 10', 'Unnamed: 11', 'CO2 EMISSIONS '],\n",
      "      dtype='object') Index(['MODEL', 'MAKE', 'MODEL.1', 'VEHICLE CLASS', 'ENGINE SIZE', 'CYLINDERS',\n",
      "       'TRANSMISSION', 'FUEL', 'FUEL CONSUMPTION', 'Unnamed: 9', 'Unnamed: 10',\n",
      "       'Unnamed: 11', 'CO2 EMISSIONS ', 'CO2'],\n",
      "      dtype='object') Index(['MODEL', 'MAKE', 'MODEL.1', 'VEHICLE CLASS', 'ENGINE SIZE', 'CYLINDERS',\n",
      "       'TRANSMISSION', 'FUEL', 'FUEL CONSUMPTION', 'Unnamed: 9', 'Unnamed: 10',\n",
      "       'Unnamed: 11', 'CO2 EMISSIONS ', 'CO2', 'SMOG'],\n",
      "      dtype='object') Index(['MODEL', 'MAKE', 'MODEL.1', 'VEHICLE CLASS', 'ENGINE SIZE', 'CYLINDERS',\n",
      "       'TRANSMISSION', 'FUEL', 'FUEL CONSUMPTION', 'Unnamed: 9', 'Unnamed: 10',\n",
      "       'Unnamed: 11', 'CO2 EMISSIONS ', 'CO2', 'SMOG'],\n",
      "      dtype='object') Index(['Model', 'Make', 'Model.1', 'Vehicle Class', 'Engine Size', 'Cylinders',\n",
      "       'Transmission', 'Fuel', 'Fuel Consumption', 'Unnamed: 9', 'Unnamed: 10',\n",
      "       'Unnamed: 11', 'CO2 Emissions', 'CO2', 'Smog'],\n",
      "      dtype='object') Index(['Model', 'Make', 'Model.1', 'Vehicle Class', 'Engine Size', 'Cylinders',\n",
      "       'Transmission', 'Fuel', 'Fuel Consumption', 'Unnamed: 9', 'Unnamed: 10',\n",
      "       'Unnamed: 11', 'CO2 Emissions', 'CO2', 'Smog'],\n",
      "      dtype='object')\n"
     ]
    }
   ],
   "source": [
    "print(df_95_99.columns, df_00_14.columns, df_15.columns, df_16.columns, df_17.columns, df_18.columns, df_19.columns, df_20.columns)"
   ]
  },
  {
   "cell_type": "markdown",
   "metadata": {},
   "source": [
    "<b>So from 2016 the extra column that got added to the dataset is : <u>CO2</u> which according to the documentation in the<b/>\n",
    "<b>data scource means: the tailpipe emissions of carbon dioxide rated on a scale from 1 (worst) to 10 (best), this si basically the categorical versin of the co2 emissions feature, whichmakes i redundant, so we are dropping this feature.<b/>\n",
    "    \n",
    "<b>And from 2017 the extra column that got added to the dataset is: <u>Smog</u> which according to the documentation in the<b/>\n",
    "<b>data source means: the tailpipe emissions of smog-forming pollutants rated on a scale from 1 (worst) to 10 (best).<b/>\n",
    "    "
   ]
  },
  {
   "cell_type": "markdown",
   "metadata": {},
   "source": [
    "**so now the question is : do we keep the two extra <u>'Smog'</u> columns in out data or do we discard them?**  \n",
    "\n",
    "**So our first option is if we keep the extra data; then what we we get is a lot of \"NaN\" values in these columns for the years before 2016. We can deal with them by the various techniques used to deal with NaN values; but the fundamental issue in that is if we are replacing the NaN values with some data by some technique then it is very much possible that it will have a significant skewed impact on our prediction, which is not desireable.**  \n",
    "\n",
    "**And clearly so we are left with the second option; that is we will be dropping those columns from the datasets from 2016 to 2020, in order to get low variance in our prediction.**"
   ]
  },
  {
   "cell_type": "code",
   "execution_count": 4,
   "metadata": {},
   "outputs": [
    {
     "name": "stdout",
     "output_type": "stream",
     "text": [
      "(1109, 13) (1057, 13) (1084, 13) (1047, 13) (869, 13)\n"
     ]
    }
   ],
   "source": [
    "df_16.drop(\"CO2\", axis = 1, inplace = True) #because the \"Smog\" column is not present for the 2016 dataset.\n",
    "df_17.drop([\"CO2\", \"SMOG\"], axis = 1, inplace = True)\n",
    "df_18.drop([\"CO2\", \"SMOG\"], axis = 1, inplace = True)\n",
    "df_19.drop([\"CO2\", \"Smog\"], axis = 1, inplace = True)\n",
    "df_20.drop([\"CO2\", \"Smog\"], axis = 1, inplace = True)\n",
    "print(df_16.shape, df_17.shape, df_18.shape, df_19.shape, df_20.shape)"
   ]
  },
  {
   "cell_type": "markdown",
   "metadata": {},
   "source": [
    "**okay so now that we have our columns uniform across the datasets of the various years, we can move forward to the next step.**  \n",
    "**So we can also see from above that, the column names are uniform but they are different, i.e some of them are in upper case and some of them are lower case, this will create an issue during concatenating these datasets that, the program will understand two coulmns with same name but with differnt case of the words as two different coulmns, so lets solve this now.**"
   ]
  },
  {
   "cell_type": "code",
   "execution_count": 5,
   "metadata": {},
   "outputs": [
    {
     "data": {
      "text/plain": [
       "list"
      ]
     },
     "execution_count": 5,
     "metadata": {},
     "output_type": "execute_result"
    }
   ],
   "source": [
    "# let's make a list of the desired column names and then assign it to all the datasets.\n",
    "col_names = [\"Model\", \"Make\", \"Model.1\", \"Vehicle_class\", \"Engine_size\", \"Cylinders\", \"Transmission\", \"Fuel\", \"Fuel_con_city\", \"Fuel_con_hwy\", \"Fuel_con_comb\" , \"Co2_emissioins\"]\n",
    "type(col_names)"
   ]
  },
  {
   "cell_type": "markdown",
   "metadata": {},
   "source": [
    "**You can notice that the last few columns in our list of column names are: \"Fuel_con_city\", \"Fuel_con_hwy\", \"Fuel_con_comb\".**  **These columns were previously: 'FUEL CONSUMPTION', 'Unnamed: 9', 'Unnamed: 10', 'Unnamed: 11' (yes there were 4 of them and we are intending to keep three of them).**\n",
    "\n",
    "**So let's see what they meant: City and highway fuel consumption ratings are shown in litres per 100 kilometres (L/100 km) - the combined rating (55% city, 45% hwy) is shown in L/100 km and in miles per imperial gallon (mpg).**\n",
    "**So we decide to drop the 'Unnamed 11' collumn because it is 'redundant' as it represents the same thing as 'Unnamed 10' but in a different unit of measurement.**\n",
    "**And as of the other three columns, we have intend to change them to the following: \"Fuel_con_city\", \"Fuel_con_hwy\", \"Fuel_con_comb\".**"
   ]
  },
  {
   "cell_type": "code",
   "execution_count": 6,
   "metadata": {},
   "outputs": [],
   "source": [
    "df_95_99.drop('Unnamed: 11',axis = 1, inplace = True)\n",
    "df_00_14.drop('Unnamed: 11', axis = 1, inplace = True)\n",
    "df_15.drop('Unnamed: 11', axis = 1, inplace = True)\n",
    "df_16.drop('Unnamed: 11', axis = 1, inplace = True)\n",
    "df_17.drop(['Unnamed: 11'], axis = 1, inplace = True)\n",
    "df_18.drop(['Unnamed: 11'], axis = 1, inplace = True)\n",
    "df_19.drop(['Unnamed: 11'], axis = 1, inplace = True)\n",
    "df_20.drop(['Unnamed: 11'], axis = 1, inplace = True)"
   ]
  },
  {
   "cell_type": "code",
   "execution_count": 7,
   "metadata": {},
   "outputs": [
    {
     "name": "stdout",
     "output_type": "stream",
     "text": [
      "(3520, 12) (14281, 12) (1133, 12) (1109, 12) (1057, 12) (1084, 12) (1047, 12) (869, 12)\n"
     ]
    }
   ],
   "source": [
    "print(df_95_99.shape, df_00_14.shape, df_15.shape, df_16.shape, df_17.shape, df_18.shape, df_19.shape, df_20.shape)"
   ]
  },
  {
   "cell_type": "markdown",
   "metadata": {},
   "source": [
    "**okay so now lets rename the colmn names and move forward with the concatenation.**"
   ]
  },
  {
   "cell_type": "code",
   "execution_count": 8,
   "metadata": {},
   "outputs": [
    {
     "name": "stdout",
     "output_type": "stream",
     "text": [
      "(3520, 12) (14281, 12) (1133, 12) (1109, 12) (1057, 12) (1084, 12) (1047, 12) (869, 12)\n",
      "Index(['Model', 'Make', 'Model.1', 'Vehicle_class', 'Engine_size', 'Cylinders',\n",
      "       'Transmission', 'Fuel', 'Fuel_con_city', 'Fuel_con_hwy',\n",
      "       'Fuel_con_comb', 'Co2_emissions'],\n",
      "      dtype='object') Index(['Model', 'Make', 'Model.1', 'Vehicle_class', 'Engine_size', 'Cylinders',\n",
      "       'Transmission', 'Fuel', 'Fuel_con_city', 'Fuel_con_hwy',\n",
      "       'Fuel_con_comb', 'Co2_emissions'],\n",
      "      dtype='object') Index(['Model', 'Make', 'Model.1', 'Vehicle_class', 'Engine_size', 'Cylinders',\n",
      "       'Transmission', 'Fuel', 'Fuel_con_city', 'Fuel_con_hwy',\n",
      "       'Fuel_con_comb', 'Co2_emissions'],\n",
      "      dtype='object') Index(['Model', 'Make', 'Model.1', 'Vehicle_class', 'Engine_size', 'Cylinders',\n",
      "       'Transmission', 'Fuel', 'Fuel_con_city', 'Fuel_con_hwy',\n",
      "       'Fuel_con_comb', 'Co2_emissions'],\n",
      "      dtype='object') Index(['Model', 'Make', 'Model.1', 'Vehicle_class', 'Engine_size', 'Cylinders',\n",
      "       'Transmission', 'Fuel', 'Fuel_con_city', 'Fuel_con_hwy',\n",
      "       'Fuel_con_comb', 'Co2_emissions'],\n",
      "      dtype='object') Index(['Model', 'Make', 'Model.1', 'Vehicle_class', 'Engine_size', 'Cylinders',\n",
      "       'Transmission', 'Fuel', 'Fuel_con_city', 'Fuel_con_hwy',\n",
      "       'Fuel_con_comb', 'Co2_emissions'],\n",
      "      dtype='object') Index(['Model', 'Make', 'Model.1', 'Vehicle_class', 'Engine_size', 'Cylinders',\n",
      "       'Transmission', 'Fuel', 'Fuel_con_city', 'Fuel_con_hwy',\n",
      "       'Fuel_con_comb', 'Co2_emissions'],\n",
      "      dtype='object') Index(['Model', 'Make', 'Model.1', 'Vehicle_class', 'Engine_size', 'Cylinders',\n",
      "       'Transmission', 'Fuel', 'Fuel_con_city', 'Fuel_con_hwy',\n",
      "       'Fuel_con_comb', 'Co2_emissions'],\n",
      "      dtype='object')\n"
     ]
    }
   ],
   "source": [
    "df_95_99.columns = [\"Model\", \"Make\", \"Model.1\", \"Vehicle_class\", \"Engine_size\", \"Cylinders\", \"Transmission\", \"Fuel\", \"Fuel_con_city\", \"Fuel_con_hwy\", \"Fuel_con_comb\" , \"Co2_emissions\"]\n",
    "df_00_14.columns = [\"Model\", \"Make\", \"Model.1\", \"Vehicle_class\", \"Engine_size\", \"Cylinders\", \"Transmission\", \"Fuel\", \"Fuel_con_city\", \"Fuel_con_hwy\", \"Fuel_con_comb\" , \"Co2_emissions\"]\n",
    "df_15.columns = [\"Model\", \"Make\", \"Model.1\", \"Vehicle_class\", \"Engine_size\", \"Cylinders\", \"Transmission\", \"Fuel\", \"Fuel_con_city\", \"Fuel_con_hwy\", \"Fuel_con_comb\" , \"Co2_emissions\"]\n",
    "df_16.columns = [\"Model\", \"Make\", \"Model.1\", \"Vehicle_class\", \"Engine_size\", \"Cylinders\", \"Transmission\", \"Fuel\", \"Fuel_con_city\", \"Fuel_con_hwy\", \"Fuel_con_comb\" , \"Co2_emissions\"]\n",
    "df_17.columns = [\"Model\", \"Make\", \"Model.1\", \"Vehicle_class\", \"Engine_size\", \"Cylinders\", \"Transmission\", \"Fuel\", \"Fuel_con_city\", \"Fuel_con_hwy\", \"Fuel_con_comb\" , \"Co2_emissions\"]\n",
    "df_18.columns = [\"Model\", \"Make\", \"Model.1\", \"Vehicle_class\", \"Engine_size\", \"Cylinders\", \"Transmission\", \"Fuel\", \"Fuel_con_city\", \"Fuel_con_hwy\", \"Fuel_con_comb\" , \"Co2_emissions\"]\n",
    "df_19.columns = [\"Model\", \"Make\", \"Model.1\", \"Vehicle_class\", \"Engine_size\", \"Cylinders\", \"Transmission\", \"Fuel\", \"Fuel_con_city\", \"Fuel_con_hwy\", \"Fuel_con_comb\" , \"Co2_emissions\"]\n",
    "df_20.columns = [\"Model\", \"Make\", \"Model.1\", \"Vehicle_class\", \"Engine_size\", \"Cylinders\", \"Transmission\", \"Fuel\", \"Fuel_con_city\", \"Fuel_con_hwy\", \"Fuel_con_comb\" , \"Co2_emissions\"]\n",
    "print(df_95_99.shape, df_00_14.shape, df_15.shape, df_16.shape, df_17.shape, df_18.shape, df_19.shape, df_20.shape)\n",
    "print(df_95_99.columns, df_00_14.columns, df_15.columns, df_16.columns, df_17.columns, df_18.columns, df_19.columns, df_20.columns)"
   ]
  },
  {
   "cell_type": "markdown",
   "metadata": {},
   "source": [
    "**Okay so lets concat our datasets, in order to get our final big dataset.**"
   ]
  },
  {
   "cell_type": "code",
   "execution_count": 9,
   "metadata": {},
   "outputs": [],
   "source": [
    "all_datasets = [df_95_99, df_00_14, df_15, df_16, df_17, df_18, df_19, df_20]\n",
    "\n",
    "data = pd.concat(all_datasets)"
   ]
  },
  {
   "cell_type": "code",
   "execution_count": 10,
   "metadata": {},
   "outputs": [
    {
     "data": {
      "text/plain": [
       "(24100, 12)"
      ]
     },
     "execution_count": 10,
     "metadata": {},
     "output_type": "execute_result"
    }
   ],
   "source": [
    "data.shape"
   ]
  },
  {
   "cell_type": "markdown",
   "metadata": {},
   "source": [
    "**okay so we have 24100 rows and 12 columns in our final dataset.** "
   ]
  },
  {
   "cell_type": "code",
   "execution_count": 11,
   "metadata": {},
   "outputs": [
    {
     "data": {
      "text/html": [
       "<div>\n",
       "<style scoped>\n",
       "    .dataframe tbody tr th:only-of-type {\n",
       "        vertical-align: middle;\n",
       "    }\n",
       "\n",
       "    .dataframe tbody tr th {\n",
       "        vertical-align: top;\n",
       "    }\n",
       "\n",
       "    .dataframe thead th {\n",
       "        text-align: right;\n",
       "    }\n",
       "</style>\n",
       "<table border=\"1\" class=\"dataframe\">\n",
       "  <thead>\n",
       "    <tr style=\"text-align: right;\">\n",
       "      <th></th>\n",
       "      <th>Model</th>\n",
       "      <th>Make</th>\n",
       "      <th>Model.1</th>\n",
       "      <th>Vehicle_class</th>\n",
       "      <th>Engine_size</th>\n",
       "      <th>Cylinders</th>\n",
       "      <th>Transmission</th>\n",
       "      <th>Fuel</th>\n",
       "      <th>Fuel_con_city</th>\n",
       "      <th>Fuel_con_hwy</th>\n",
       "      <th>Fuel_con_comb</th>\n",
       "      <th>Co2_emissions</th>\n",
       "    </tr>\n",
       "  </thead>\n",
       "  <tbody>\n",
       "    <tr>\n",
       "      <th>0</th>\n",
       "      <td>YEAR</td>\n",
       "      <td>NaN</td>\n",
       "      <td># = high output engine</td>\n",
       "      <td>NaN</td>\n",
       "      <td>(L)</td>\n",
       "      <td>NaN</td>\n",
       "      <td>NaN</td>\n",
       "      <td>TYPE</td>\n",
       "      <td>CITY (L/100 km)</td>\n",
       "      <td>HWY (L/100 km)</td>\n",
       "      <td>COMB (L/100 km)</td>\n",
       "      <td>(g/km)</td>\n",
       "    </tr>\n",
       "    <tr>\n",
       "      <th>1</th>\n",
       "      <td>1995</td>\n",
       "      <td>ACURA</td>\n",
       "      <td>INTEGRA</td>\n",
       "      <td>SUBCOMPACT</td>\n",
       "      <td>1.8</td>\n",
       "      <td>4.0</td>\n",
       "      <td>A4</td>\n",
       "      <td>X</td>\n",
       "      <td>10.2</td>\n",
       "      <td>7</td>\n",
       "      <td>8.8</td>\n",
       "      <td>202</td>\n",
       "    </tr>\n",
       "    <tr>\n",
       "      <th>2</th>\n",
       "      <td>1995</td>\n",
       "      <td>ACURA</td>\n",
       "      <td>INTEGRA</td>\n",
       "      <td>SUBCOMPACT</td>\n",
       "      <td>1.8</td>\n",
       "      <td>4.0</td>\n",
       "      <td>M5</td>\n",
       "      <td>X</td>\n",
       "      <td>9.6</td>\n",
       "      <td>7</td>\n",
       "      <td>8.4</td>\n",
       "      <td>193</td>\n",
       "    </tr>\n",
       "    <tr>\n",
       "      <th>3</th>\n",
       "      <td>1995</td>\n",
       "      <td>ACURA</td>\n",
       "      <td>INTEGRA GS-R</td>\n",
       "      <td>SUBCOMPACT</td>\n",
       "      <td>1.8</td>\n",
       "      <td>4.0</td>\n",
       "      <td>M5</td>\n",
       "      <td>Z</td>\n",
       "      <td>9.4</td>\n",
       "      <td>7</td>\n",
       "      <td>8.3</td>\n",
       "      <td>191</td>\n",
       "    </tr>\n",
       "    <tr>\n",
       "      <th>4</th>\n",
       "      <td>1995</td>\n",
       "      <td>ACURA</td>\n",
       "      <td>LEGEND</td>\n",
       "      <td>COMPACT</td>\n",
       "      <td>3.2</td>\n",
       "      <td>6.0</td>\n",
       "      <td>A4</td>\n",
       "      <td>Z</td>\n",
       "      <td>12.6</td>\n",
       "      <td>8.9</td>\n",
       "      <td>10.9</td>\n",
       "      <td>251</td>\n",
       "    </tr>\n",
       "  </tbody>\n",
       "</table>\n",
       "</div>"
      ],
      "text/plain": [
       "  Model   Make                 Model.1 Vehicle_class Engine_size  Cylinders  \\\n",
       "0  YEAR    NaN  # = high output engine           NaN         (L)        NaN   \n",
       "1  1995  ACURA                 INTEGRA    SUBCOMPACT         1.8        4.0   \n",
       "2  1995  ACURA                 INTEGRA    SUBCOMPACT         1.8        4.0   \n",
       "3  1995  ACURA            INTEGRA GS-R    SUBCOMPACT         1.8        4.0   \n",
       "4  1995  ACURA                  LEGEND       COMPACT         3.2        6.0   \n",
       "\n",
       "  Transmission  Fuel    Fuel_con_city    Fuel_con_hwy    Fuel_con_comb  \\\n",
       "0          NaN  TYPE  CITY (L/100 km)  HWY (L/100 km)  COMB (L/100 km)   \n",
       "1           A4     X             10.2               7              8.8   \n",
       "2           M5     X              9.6               7              8.4   \n",
       "3           M5     Z              9.4               7              8.3   \n",
       "4           A4     Z             12.6             8.9             10.9   \n",
       "\n",
       "  Co2_emissions  \n",
       "0        (g/km)  \n",
       "1           202  \n",
       "2           193  \n",
       "3           191  \n",
       "4           251  "
      ]
     },
     "execution_count": 11,
     "metadata": {},
     "output_type": "execute_result"
    }
   ],
   "source": [
    "data.head()"
   ]
  },
  {
   "cell_type": "code",
   "execution_count": 12,
   "metadata": {},
   "outputs": [
    {
     "data": {
      "text/html": [
       "<div>\n",
       "<style scoped>\n",
       "    .dataframe tbody tr th:only-of-type {\n",
       "        vertical-align: middle;\n",
       "    }\n",
       "\n",
       "    .dataframe tbody tr th {\n",
       "        vertical-align: top;\n",
       "    }\n",
       "\n",
       "    .dataframe thead th {\n",
       "        text-align: right;\n",
       "    }\n",
       "</style>\n",
       "<table border=\"1\" class=\"dataframe\">\n",
       "  <thead>\n",
       "    <tr style=\"text-align: right;\">\n",
       "      <th></th>\n",
       "      <th>Model</th>\n",
       "      <th>Make</th>\n",
       "      <th>Model.1</th>\n",
       "      <th>Vehicle_class</th>\n",
       "      <th>Engine_size</th>\n",
       "      <th>Cylinders</th>\n",
       "      <th>Transmission</th>\n",
       "      <th>Fuel</th>\n",
       "      <th>Fuel_con_city</th>\n",
       "      <th>Fuel_con_hwy</th>\n",
       "      <th>Fuel_con_comb</th>\n",
       "      <th>Co2_emissions</th>\n",
       "    </tr>\n",
       "  </thead>\n",
       "  <tbody>\n",
       "    <tr>\n",
       "      <th>864</th>\n",
       "      <td>2020</td>\n",
       "      <td>Volvo</td>\n",
       "      <td>XC40 T5 AWD</td>\n",
       "      <td>SUV: Small</td>\n",
       "      <td>2</td>\n",
       "      <td>4.0</td>\n",
       "      <td>AS8</td>\n",
       "      <td>Z</td>\n",
       "      <td>10.7</td>\n",
       "      <td>7.7</td>\n",
       "      <td>9.4</td>\n",
       "      <td>219</td>\n",
       "    </tr>\n",
       "    <tr>\n",
       "      <th>865</th>\n",
       "      <td>2020</td>\n",
       "      <td>Volvo</td>\n",
       "      <td>XC60 T5 AWD</td>\n",
       "      <td>SUV: Small</td>\n",
       "      <td>2</td>\n",
       "      <td>4.0</td>\n",
       "      <td>AS8</td>\n",
       "      <td>Z</td>\n",
       "      <td>11.2</td>\n",
       "      <td>8.3</td>\n",
       "      <td>9.9</td>\n",
       "      <td>232</td>\n",
       "    </tr>\n",
       "    <tr>\n",
       "      <th>866</th>\n",
       "      <td>2020</td>\n",
       "      <td>Volvo</td>\n",
       "      <td>XC60 T6 AWD</td>\n",
       "      <td>SUV: Small</td>\n",
       "      <td>2</td>\n",
       "      <td>4.0</td>\n",
       "      <td>AS8</td>\n",
       "      <td>Z</td>\n",
       "      <td>11.7</td>\n",
       "      <td>8.6</td>\n",
       "      <td>10.3</td>\n",
       "      <td>240</td>\n",
       "    </tr>\n",
       "    <tr>\n",
       "      <th>867</th>\n",
       "      <td>2020</td>\n",
       "      <td>Volvo</td>\n",
       "      <td>XC90 T5 AWD</td>\n",
       "      <td>SUV: Standard</td>\n",
       "      <td>2</td>\n",
       "      <td>4.0</td>\n",
       "      <td>AS8</td>\n",
       "      <td>Z</td>\n",
       "      <td>11.2</td>\n",
       "      <td>8.3</td>\n",
       "      <td>9.9</td>\n",
       "      <td>232</td>\n",
       "    </tr>\n",
       "    <tr>\n",
       "      <th>868</th>\n",
       "      <td>2020</td>\n",
       "      <td>Volvo</td>\n",
       "      <td>XC90 T6 AWD</td>\n",
       "      <td>SUV: Standard</td>\n",
       "      <td>2</td>\n",
       "      <td>4.0</td>\n",
       "      <td>AS8</td>\n",
       "      <td>Z</td>\n",
       "      <td>12.2</td>\n",
       "      <td>8.7</td>\n",
       "      <td>10.7</td>\n",
       "      <td>248</td>\n",
       "    </tr>\n",
       "  </tbody>\n",
       "</table>\n",
       "</div>"
      ],
      "text/plain": [
       "    Model   Make      Model.1  Vehicle_class Engine_size  Cylinders  \\\n",
       "864  2020  Volvo  XC40 T5 AWD     SUV: Small           2        4.0   \n",
       "865  2020  Volvo  XC60 T5 AWD     SUV: Small           2        4.0   \n",
       "866  2020  Volvo  XC60 T6 AWD     SUV: Small           2        4.0   \n",
       "867  2020  Volvo  XC90 T5 AWD  SUV: Standard           2        4.0   \n",
       "868  2020  Volvo  XC90 T6 AWD  SUV: Standard           2        4.0   \n",
       "\n",
       "    Transmission Fuel Fuel_con_city Fuel_con_hwy Fuel_con_comb Co2_emissions  \n",
       "864          AS8    Z          10.7          7.7           9.4           219  \n",
       "865          AS8    Z          11.2          8.3           9.9           232  \n",
       "866          AS8    Z          11.7          8.6          10.3           240  \n",
       "867          AS8    Z          11.2          8.3           9.9           232  \n",
       "868          AS8    Z          12.2          8.7          10.7           248  "
      ]
     },
     "execution_count": 12,
     "metadata": {},
     "output_type": "execute_result"
    }
   ],
   "source": [
    "data.tail()"
   ]
  },
  {
   "cell_type": "markdown",
   "metadata": {},
   "source": [
    "**let's see the column names that we have in our dataset.**"
   ]
  },
  {
   "cell_type": "code",
   "execution_count": 13,
   "metadata": {},
   "outputs": [
    {
     "data": {
      "text/plain": [
       "Index(['Model', 'Make', 'Model.1', 'Vehicle_class', 'Engine_size', 'Cylinders',\n",
       "       'Transmission', 'Fuel', 'Fuel_con_city', 'Fuel_con_hwy',\n",
       "       'Fuel_con_comb', 'Co2_emissions'],\n",
       "      dtype='object')"
      ]
     },
     "execution_count": 13,
     "metadata": {},
     "output_type": "execute_result"
    }
   ],
   "source": [
    "data.columns"
   ]
  },
  {
   "cell_type": "markdown",
   "metadata": {},
   "source": [
    "**Now lets reset the index of our dataframe, because of the fact that the different datasets that were merged have an index of their own, but that is not a desired outcome.**"
   ]
  },
  {
   "cell_type": "code",
   "execution_count": 14,
   "metadata": {},
   "outputs": [],
   "source": [
    "data.set_index(np.arange(0,len(data),1), inplace = True)"
   ]
  },
  {
   "cell_type": "code",
   "execution_count": 15,
   "metadata": {},
   "outputs": [
    {
     "data": {
      "text/plain": [
       "Int64Index([    0,     1,     2,     3,     4,     5,     6,     7,     8,\n",
       "                9,\n",
       "            ...\n",
       "            24090, 24091, 24092, 24093, 24094, 24095, 24096, 24097, 24098,\n",
       "            24099],\n",
       "           dtype='int64', length=24100)"
      ]
     },
     "execution_count": 15,
     "metadata": {},
     "output_type": "execute_result"
    }
   ],
   "source": [
    "data.index"
   ]
  },
  {
   "cell_type": "markdown",
   "metadata": {},
   "source": [
    "**Let's check for missing values in our dataset, as we can clearly see from above that the first row in our dataset is an extra row, which is the feature explanation part present in the CSV source file of the data.**"
   ]
  },
  {
   "cell_type": "code",
   "execution_count": 16,
   "metadata": {},
   "outputs": [
    {
     "data": {
      "text/plain": [
       "Model            0\n",
       "Make             8\n",
       "Model.1          6\n",
       "Vehicle_class    8\n",
       "Engine_size      0\n",
       "Cylinders        8\n",
       "Transmission     8\n",
       "Fuel             0\n",
       "Fuel_con_city    0\n",
       "Fuel_con_hwy     0\n",
       "Fuel_con_comb    0\n",
       "Co2_emissions    0\n",
       "dtype: int64"
      ]
     },
     "execution_count": 16,
     "metadata": {},
     "output_type": "execute_result"
    }
   ],
   "source": [
    "data.isnull().sum()"
   ]
  },
  {
   "cell_type": "markdown",
   "metadata": {},
   "source": [
    "**okay so lets see the rows where there are missing values in our dataset.**"
   ]
  },
  {
   "cell_type": "code",
   "execution_count": 17,
   "metadata": {},
   "outputs": [
    {
     "name": "stdout",
     "output_type": "stream",
     "text": [
      "This is for Model\n",
      "Empty DataFrame\n",
      "Columns: [Model, Make, Model.1, Vehicle_class, Engine_size, Cylinders, Transmission, Fuel, Fuel_con_city, Fuel_con_hwy, Fuel_con_comb, Co2_emissions]\n",
      "Index: []\n",
      "This is for Make\n",
      "      Model Make                 Model.1 Vehicle_class Engine_size  Cylinders  \\\n",
      "0      YEAR  NaN  # = high output engine           NaN         (L)        NaN   \n",
      "3520   YEAR  NaN  # = high output engine           NaN         (L)        NaN   \n",
      "17801  YEAR  NaN                     NaN           NaN         (L)        NaN   \n",
      "18934  YEAR  NaN                     NaN           NaN         (L)        NaN   \n",
      "20043  YEAR  NaN                     NaN           NaN         (L)        NaN   \n",
      "21100  YEAR  NaN                     NaN           NaN         (L)        NaN   \n",
      "22184  Year  NaN                     NaN           NaN         (L)        NaN   \n",
      "23231  Year  NaN                     NaN           NaN         (L)        NaN   \n",
      "\n",
      "      Transmission  Fuel    Fuel_con_city    Fuel_con_hwy    Fuel_con_comb  \\\n",
      "0              NaN  TYPE  CITY (L/100 km)  HWY (L/100 km)  COMB (L/100 km)   \n",
      "3520           NaN  TYPE  CITY (L/100 km)  HWY (L/100 km)  COMB (L/100 km)   \n",
      "17801          NaN  TYPE  CITY (L/100 km)  HWY (L/100 km)  COMB (L/100 km)   \n",
      "18934          NaN  TYPE  CITY (L/100 km)  HWY (L/100 km)  COMB (L/100 km)   \n",
      "20043          NaN  TYPE  CITY (L/100 km)  HWY (L/100 km)  COMB (L/100 km)   \n",
      "21100          NaN  TYPE  CITY (L/100 km)  HWY (L/100 km)  COMB (L/100 km)   \n",
      "22184          NaN  Type  City (L/100 km)  Hwy (L/100 km)  Comb (L/100 km)   \n",
      "23231          NaN  Type  City (L/100 km)  Hwy (L/100 km)  Comb (L/100 km)   \n",
      "\n",
      "      Co2_emissions  \n",
      "0            (g/km)  \n",
      "3520         (g/km)  \n",
      "17801        (g/km)  \n",
      "18934        (g/km)  \n",
      "20043        (g/km)  \n",
      "21100        (g/km)  \n",
      "22184        (g/km)  \n",
      "23231        (g/km)  \n",
      "This is for Model.1\n",
      "      Model Make Model.1 Vehicle_class Engine_size  Cylinders Transmission  \\\n",
      "17801  YEAR  NaN     NaN           NaN         (L)        NaN          NaN   \n",
      "18934  YEAR  NaN     NaN           NaN         (L)        NaN          NaN   \n",
      "20043  YEAR  NaN     NaN           NaN         (L)        NaN          NaN   \n",
      "21100  YEAR  NaN     NaN           NaN         (L)        NaN          NaN   \n",
      "22184  Year  NaN     NaN           NaN         (L)        NaN          NaN   \n",
      "23231  Year  NaN     NaN           NaN         (L)        NaN          NaN   \n",
      "\n",
      "       Fuel    Fuel_con_city    Fuel_con_hwy    Fuel_con_comb Co2_emissions  \n",
      "17801  TYPE  CITY (L/100 km)  HWY (L/100 km)  COMB (L/100 km)        (g/km)  \n",
      "18934  TYPE  CITY (L/100 km)  HWY (L/100 km)  COMB (L/100 km)        (g/km)  \n",
      "20043  TYPE  CITY (L/100 km)  HWY (L/100 km)  COMB (L/100 km)        (g/km)  \n",
      "21100  TYPE  CITY (L/100 km)  HWY (L/100 km)  COMB (L/100 km)        (g/km)  \n",
      "22184  Type  City (L/100 km)  Hwy (L/100 km)  Comb (L/100 km)        (g/km)  \n",
      "23231  Type  City (L/100 km)  Hwy (L/100 km)  Comb (L/100 km)        (g/km)  \n",
      "This is for Vehicle_class\n",
      "      Model Make                 Model.1 Vehicle_class Engine_size  Cylinders  \\\n",
      "0      YEAR  NaN  # = high output engine           NaN         (L)        NaN   \n",
      "3520   YEAR  NaN  # = high output engine           NaN         (L)        NaN   \n",
      "17801  YEAR  NaN                     NaN           NaN         (L)        NaN   \n",
      "18934  YEAR  NaN                     NaN           NaN         (L)        NaN   \n",
      "20043  YEAR  NaN                     NaN           NaN         (L)        NaN   \n",
      "21100  YEAR  NaN                     NaN           NaN         (L)        NaN   \n",
      "22184  Year  NaN                     NaN           NaN         (L)        NaN   \n",
      "23231  Year  NaN                     NaN           NaN         (L)        NaN   \n",
      "\n",
      "      Transmission  Fuel    Fuel_con_city    Fuel_con_hwy    Fuel_con_comb  \\\n",
      "0              NaN  TYPE  CITY (L/100 km)  HWY (L/100 km)  COMB (L/100 km)   \n",
      "3520           NaN  TYPE  CITY (L/100 km)  HWY (L/100 km)  COMB (L/100 km)   \n",
      "17801          NaN  TYPE  CITY (L/100 km)  HWY (L/100 km)  COMB (L/100 km)   \n",
      "18934          NaN  TYPE  CITY (L/100 km)  HWY (L/100 km)  COMB (L/100 km)   \n",
      "20043          NaN  TYPE  CITY (L/100 km)  HWY (L/100 km)  COMB (L/100 km)   \n",
      "21100          NaN  TYPE  CITY (L/100 km)  HWY (L/100 km)  COMB (L/100 km)   \n",
      "22184          NaN  Type  City (L/100 km)  Hwy (L/100 km)  Comb (L/100 km)   \n",
      "23231          NaN  Type  City (L/100 km)  Hwy (L/100 km)  Comb (L/100 km)   \n",
      "\n",
      "      Co2_emissions  \n",
      "0            (g/km)  \n",
      "3520         (g/km)  \n",
      "17801        (g/km)  \n",
      "18934        (g/km)  \n",
      "20043        (g/km)  \n",
      "21100        (g/km)  \n",
      "22184        (g/km)  \n",
      "23231        (g/km)  \n",
      "This is for Engine_size\n",
      "Empty DataFrame\n",
      "Columns: [Model, Make, Model.1, Vehicle_class, Engine_size, Cylinders, Transmission, Fuel, Fuel_con_city, Fuel_con_hwy, Fuel_con_comb, Co2_emissions]\n",
      "Index: []\n",
      "This is for Cylinders\n",
      "      Model Make                 Model.1 Vehicle_class Engine_size  Cylinders  \\\n",
      "0      YEAR  NaN  # = high output engine           NaN         (L)        NaN   \n",
      "3520   YEAR  NaN  # = high output engine           NaN         (L)        NaN   \n",
      "17801  YEAR  NaN                     NaN           NaN         (L)        NaN   \n",
      "18934  YEAR  NaN                     NaN           NaN         (L)        NaN   \n",
      "20043  YEAR  NaN                     NaN           NaN         (L)        NaN   \n",
      "21100  YEAR  NaN                     NaN           NaN         (L)        NaN   \n",
      "22184  Year  NaN                     NaN           NaN         (L)        NaN   \n",
      "23231  Year  NaN                     NaN           NaN         (L)        NaN   \n",
      "\n",
      "      Transmission  Fuel    Fuel_con_city    Fuel_con_hwy    Fuel_con_comb  \\\n",
      "0              NaN  TYPE  CITY (L/100 km)  HWY (L/100 km)  COMB (L/100 km)   \n",
      "3520           NaN  TYPE  CITY (L/100 km)  HWY (L/100 km)  COMB (L/100 km)   \n",
      "17801          NaN  TYPE  CITY (L/100 km)  HWY (L/100 km)  COMB (L/100 km)   \n",
      "18934          NaN  TYPE  CITY (L/100 km)  HWY (L/100 km)  COMB (L/100 km)   \n",
      "20043          NaN  TYPE  CITY (L/100 km)  HWY (L/100 km)  COMB (L/100 km)   \n",
      "21100          NaN  TYPE  CITY (L/100 km)  HWY (L/100 km)  COMB (L/100 km)   \n",
      "22184          NaN  Type  City (L/100 km)  Hwy (L/100 km)  Comb (L/100 km)   \n",
      "23231          NaN  Type  City (L/100 km)  Hwy (L/100 km)  Comb (L/100 km)   \n",
      "\n",
      "      Co2_emissions  \n",
      "0            (g/km)  \n",
      "3520         (g/km)  \n",
      "17801        (g/km)  \n",
      "18934        (g/km)  \n",
      "20043        (g/km)  \n",
      "21100        (g/km)  \n",
      "22184        (g/km)  \n",
      "23231        (g/km)  \n",
      "This is for Transmission\n",
      "      Model Make                 Model.1 Vehicle_class Engine_size  Cylinders  \\\n",
      "0      YEAR  NaN  # = high output engine           NaN         (L)        NaN   \n",
      "3520   YEAR  NaN  # = high output engine           NaN         (L)        NaN   \n",
      "17801  YEAR  NaN                     NaN           NaN         (L)        NaN   \n",
      "18934  YEAR  NaN                     NaN           NaN         (L)        NaN   \n",
      "20043  YEAR  NaN                     NaN           NaN         (L)        NaN   \n",
      "21100  YEAR  NaN                     NaN           NaN         (L)        NaN   \n",
      "22184  Year  NaN                     NaN           NaN         (L)        NaN   \n",
      "23231  Year  NaN                     NaN           NaN         (L)        NaN   \n",
      "\n",
      "      Transmission  Fuel    Fuel_con_city    Fuel_con_hwy    Fuel_con_comb  \\\n",
      "0              NaN  TYPE  CITY (L/100 km)  HWY (L/100 km)  COMB (L/100 km)   \n",
      "3520           NaN  TYPE  CITY (L/100 km)  HWY (L/100 km)  COMB (L/100 km)   \n",
      "17801          NaN  TYPE  CITY (L/100 km)  HWY (L/100 km)  COMB (L/100 km)   \n",
      "18934          NaN  TYPE  CITY (L/100 km)  HWY (L/100 km)  COMB (L/100 km)   \n",
      "20043          NaN  TYPE  CITY (L/100 km)  HWY (L/100 km)  COMB (L/100 km)   \n",
      "21100          NaN  TYPE  CITY (L/100 km)  HWY (L/100 km)  COMB (L/100 km)   \n",
      "22184          NaN  Type  City (L/100 km)  Hwy (L/100 km)  Comb (L/100 km)   \n",
      "23231          NaN  Type  City (L/100 km)  Hwy (L/100 km)  Comb (L/100 km)   \n",
      "\n",
      "      Co2_emissions  \n",
      "0            (g/km)  \n",
      "3520         (g/km)  \n",
      "17801        (g/km)  \n",
      "18934        (g/km)  \n",
      "20043        (g/km)  \n",
      "21100        (g/km)  \n",
      "22184        (g/km)  \n",
      "23231        (g/km)  \n",
      "This is for Fuel\n",
      "Empty DataFrame\n",
      "Columns: [Model, Make, Model.1, Vehicle_class, Engine_size, Cylinders, Transmission, Fuel, Fuel_con_city, Fuel_con_hwy, Fuel_con_comb, Co2_emissions]\n",
      "Index: []\n",
      "This is for Fuel_con_city\n",
      "Empty DataFrame\n",
      "Columns: [Model, Make, Model.1, Vehicle_class, Engine_size, Cylinders, Transmission, Fuel, Fuel_con_city, Fuel_con_hwy, Fuel_con_comb, Co2_emissions]\n",
      "Index: []\n",
      "This is for Fuel_con_hwy\n",
      "Empty DataFrame\n",
      "Columns: [Model, Make, Model.1, Vehicle_class, Engine_size, Cylinders, Transmission, Fuel, Fuel_con_city, Fuel_con_hwy, Fuel_con_comb, Co2_emissions]\n",
      "Index: []\n",
      "This is for Fuel_con_comb\n",
      "Empty DataFrame\n",
      "Columns: [Model, Make, Model.1, Vehicle_class, Engine_size, Cylinders, Transmission, Fuel, Fuel_con_city, Fuel_con_hwy, Fuel_con_comb, Co2_emissions]\n",
      "Index: []\n",
      "This is for Co2_emissions\n",
      "Empty DataFrame\n",
      "Columns: [Model, Make, Model.1, Vehicle_class, Engine_size, Cylinders, Transmission, Fuel, Fuel_con_city, Fuel_con_hwy, Fuel_con_comb, Co2_emissions]\n",
      "Index: []\n"
     ]
    }
   ],
   "source": [
    "for col in data.columns:\n",
    "    print(\"This is for {}\".format(col))\n",
    "    print(data[data[col].isnull()])"
   ]
  },
  {
   "cell_type": "markdown",
   "metadata": {},
   "source": [
    "**We can see that the index of the rows which has missing values in them re the same for all the features.**  \n",
    "**The reason behind this is these rows are similar to the first row in our dataset, which are basically the feature explanation part present in the CSV source file.**  \n",
    "(**So the logical next step is to discard all these rows, as we do not need them in our analysis**"
   ]
  },
  {
   "cell_type": "code",
   "execution_count": 18,
   "metadata": {},
   "outputs": [
    {
     "data": {
      "text/plain": [
       "(24092, 12)"
      ]
     },
     "execution_count": 18,
     "metadata": {},
     "output_type": "execute_result"
    }
   ],
   "source": [
    "data.dropna(axis = 0, how = 'any', inplace = True)\n",
    "data.shape"
   ]
  },
  {
   "cell_type": "markdown",
   "metadata": {},
   "source": [
    "**As we dont need the first three identity columns in our analysis, lets merge them into a single column.**"
   ]
  },
  {
   "cell_type": "code",
   "execution_count": 19,
   "metadata": {},
   "outputs": [
    {
     "data": {
      "text/html": [
       "<div>\n",
       "<style scoped>\n",
       "    .dataframe tbody tr th:only-of-type {\n",
       "        vertical-align: middle;\n",
       "    }\n",
       "\n",
       "    .dataframe tbody tr th {\n",
       "        vertical-align: top;\n",
       "    }\n",
       "\n",
       "    .dataframe thead th {\n",
       "        text-align: right;\n",
       "    }\n",
       "</style>\n",
       "<table border=\"1\" class=\"dataframe\">\n",
       "  <thead>\n",
       "    <tr style=\"text-align: right;\">\n",
       "      <th></th>\n",
       "      <th>Year_make_model</th>\n",
       "      <th>Vehicle_class</th>\n",
       "      <th>Engine_size</th>\n",
       "      <th>Cylinders</th>\n",
       "      <th>Transmission</th>\n",
       "      <th>Fuel</th>\n",
       "      <th>Fuel_con_city</th>\n",
       "      <th>Fuel_con_hwy</th>\n",
       "      <th>Fuel_con_comb</th>\n",
       "      <th>Co2_emissions</th>\n",
       "    </tr>\n",
       "  </thead>\n",
       "  <tbody>\n",
       "    <tr>\n",
       "      <th>1</th>\n",
       "      <td>1995-ACURA-INTEGRA</td>\n",
       "      <td>SUBCOMPACT</td>\n",
       "      <td>1.8</td>\n",
       "      <td>4.0</td>\n",
       "      <td>A4</td>\n",
       "      <td>X</td>\n",
       "      <td>10.2</td>\n",
       "      <td>7</td>\n",
       "      <td>8.8</td>\n",
       "      <td>202</td>\n",
       "    </tr>\n",
       "    <tr>\n",
       "      <th>2</th>\n",
       "      <td>1995-ACURA-INTEGRA</td>\n",
       "      <td>SUBCOMPACT</td>\n",
       "      <td>1.8</td>\n",
       "      <td>4.0</td>\n",
       "      <td>M5</td>\n",
       "      <td>X</td>\n",
       "      <td>9.6</td>\n",
       "      <td>7</td>\n",
       "      <td>8.4</td>\n",
       "      <td>193</td>\n",
       "    </tr>\n",
       "    <tr>\n",
       "      <th>3</th>\n",
       "      <td>1995-ACURA-INTEGRA GS-R</td>\n",
       "      <td>SUBCOMPACT</td>\n",
       "      <td>1.8</td>\n",
       "      <td>4.0</td>\n",
       "      <td>M5</td>\n",
       "      <td>Z</td>\n",
       "      <td>9.4</td>\n",
       "      <td>7</td>\n",
       "      <td>8.3</td>\n",
       "      <td>191</td>\n",
       "    </tr>\n",
       "    <tr>\n",
       "      <th>4</th>\n",
       "      <td>1995-ACURA-LEGEND</td>\n",
       "      <td>COMPACT</td>\n",
       "      <td>3.2</td>\n",
       "      <td>6.0</td>\n",
       "      <td>A4</td>\n",
       "      <td>Z</td>\n",
       "      <td>12.6</td>\n",
       "      <td>8.9</td>\n",
       "      <td>10.9</td>\n",
       "      <td>251</td>\n",
       "    </tr>\n",
       "    <tr>\n",
       "      <th>5</th>\n",
       "      <td>1995-ACURA-LEGEND COUPE</td>\n",
       "      <td>COMPACT</td>\n",
       "      <td>3.2</td>\n",
       "      <td>6.0</td>\n",
       "      <td>A4</td>\n",
       "      <td>Z</td>\n",
       "      <td>13</td>\n",
       "      <td>9.3</td>\n",
       "      <td>11.3</td>\n",
       "      <td>260</td>\n",
       "    </tr>\n",
       "  </tbody>\n",
       "</table>\n",
       "</div>"
      ],
      "text/plain": [
       "           Year_make_model Vehicle_class Engine_size  Cylinders Transmission  \\\n",
       "1       1995-ACURA-INTEGRA    SUBCOMPACT         1.8        4.0           A4   \n",
       "2       1995-ACURA-INTEGRA    SUBCOMPACT         1.8        4.0           M5   \n",
       "3  1995-ACURA-INTEGRA GS-R    SUBCOMPACT         1.8        4.0           M5   \n",
       "4        1995-ACURA-LEGEND       COMPACT         3.2        6.0           A4   \n",
       "5  1995-ACURA-LEGEND COUPE       COMPACT         3.2        6.0           A4   \n",
       "\n",
       "  Fuel Fuel_con_city Fuel_con_hwy Fuel_con_comb Co2_emissions  \n",
       "1    X          10.2            7           8.8           202  \n",
       "2    X           9.6            7           8.4           193  \n",
       "3    Z           9.4            7           8.3           191  \n",
       "4    Z          12.6          8.9          10.9           251  \n",
       "5    Z            13          9.3          11.3           260  "
      ]
     },
     "execution_count": 19,
     "metadata": {},
     "output_type": "execute_result"
    }
   ],
   "source": [
    "# merging the desired the ID featuring columns into one column as 'Year_make_model'\n",
    "data['Year_make_model'] = data[['Model', 'Make', 'Model.1']].agg('-'.join, axis=1)\n",
    "# dropping the original individual columns\n",
    "data = data.drop(['Model', 'Make', 'Model.1'], 1)\n",
    "# now lets rearrange the columns to get the merged column up in the front, by making a list of the column names in a desired arrangement\n",
    "cols = ['Year_make_model', 'Vehicle_class', 'Engine_size', 'Cylinders', 'Transmission', 'Fuel', 'Fuel_con_city', 'Fuel_con_hwy', 'Fuel_con_comb', 'Co2_emissions']\n",
    "data = data[cols]\n",
    "data.head()"
   ]
  },
  {
   "cell_type": "code",
   "execution_count": 20,
   "metadata": {},
   "outputs": [
    {
     "data": {
      "text/html": [
       "<div>\n",
       "<style scoped>\n",
       "    .dataframe tbody tr th:only-of-type {\n",
       "        vertical-align: middle;\n",
       "    }\n",
       "\n",
       "    .dataframe tbody tr th {\n",
       "        vertical-align: top;\n",
       "    }\n",
       "\n",
       "    .dataframe thead th {\n",
       "        text-align: right;\n",
       "    }\n",
       "</style>\n",
       "<table border=\"1\" class=\"dataframe\">\n",
       "  <thead>\n",
       "    <tr style=\"text-align: right;\">\n",
       "      <th></th>\n",
       "      <th>Year_make_model</th>\n",
       "      <th>Vehicle_class</th>\n",
       "      <th>Engine_size</th>\n",
       "      <th>Cylinders</th>\n",
       "      <th>Transmission</th>\n",
       "      <th>Fuel</th>\n",
       "      <th>Fuel_con_city</th>\n",
       "      <th>Fuel_con_hwy</th>\n",
       "      <th>Fuel_con_comb</th>\n",
       "      <th>Co2_emissions</th>\n",
       "    </tr>\n",
       "  </thead>\n",
       "  <tbody>\n",
       "    <tr>\n",
       "      <th>24095</th>\n",
       "      <td>2020-Volvo-XC40 T5 AWD</td>\n",
       "      <td>SUV: Small</td>\n",
       "      <td>2</td>\n",
       "      <td>4.0</td>\n",
       "      <td>AS8</td>\n",
       "      <td>Z</td>\n",
       "      <td>10.7</td>\n",
       "      <td>7.7</td>\n",
       "      <td>9.4</td>\n",
       "      <td>219</td>\n",
       "    </tr>\n",
       "    <tr>\n",
       "      <th>24096</th>\n",
       "      <td>2020-Volvo-XC60 T5 AWD</td>\n",
       "      <td>SUV: Small</td>\n",
       "      <td>2</td>\n",
       "      <td>4.0</td>\n",
       "      <td>AS8</td>\n",
       "      <td>Z</td>\n",
       "      <td>11.2</td>\n",
       "      <td>8.3</td>\n",
       "      <td>9.9</td>\n",
       "      <td>232</td>\n",
       "    </tr>\n",
       "    <tr>\n",
       "      <th>24097</th>\n",
       "      <td>2020-Volvo-XC60 T6 AWD</td>\n",
       "      <td>SUV: Small</td>\n",
       "      <td>2</td>\n",
       "      <td>4.0</td>\n",
       "      <td>AS8</td>\n",
       "      <td>Z</td>\n",
       "      <td>11.7</td>\n",
       "      <td>8.6</td>\n",
       "      <td>10.3</td>\n",
       "      <td>240</td>\n",
       "    </tr>\n",
       "    <tr>\n",
       "      <th>24098</th>\n",
       "      <td>2020-Volvo-XC90 T5 AWD</td>\n",
       "      <td>SUV: Standard</td>\n",
       "      <td>2</td>\n",
       "      <td>4.0</td>\n",
       "      <td>AS8</td>\n",
       "      <td>Z</td>\n",
       "      <td>11.2</td>\n",
       "      <td>8.3</td>\n",
       "      <td>9.9</td>\n",
       "      <td>232</td>\n",
       "    </tr>\n",
       "    <tr>\n",
       "      <th>24099</th>\n",
       "      <td>2020-Volvo-XC90 T6 AWD</td>\n",
       "      <td>SUV: Standard</td>\n",
       "      <td>2</td>\n",
       "      <td>4.0</td>\n",
       "      <td>AS8</td>\n",
       "      <td>Z</td>\n",
       "      <td>12.2</td>\n",
       "      <td>8.7</td>\n",
       "      <td>10.7</td>\n",
       "      <td>248</td>\n",
       "    </tr>\n",
       "  </tbody>\n",
       "</table>\n",
       "</div>"
      ],
      "text/plain": [
       "              Year_make_model  Vehicle_class Engine_size  Cylinders  \\\n",
       "24095  2020-Volvo-XC40 T5 AWD     SUV: Small           2        4.0   \n",
       "24096  2020-Volvo-XC60 T5 AWD     SUV: Small           2        4.0   \n",
       "24097  2020-Volvo-XC60 T6 AWD     SUV: Small           2        4.0   \n",
       "24098  2020-Volvo-XC90 T5 AWD  SUV: Standard           2        4.0   \n",
       "24099  2020-Volvo-XC90 T6 AWD  SUV: Standard           2        4.0   \n",
       "\n",
       "      Transmission Fuel Fuel_con_city Fuel_con_hwy Fuel_con_comb Co2_emissions  \n",
       "24095          AS8    Z          10.7          7.7           9.4           219  \n",
       "24096          AS8    Z          11.2          8.3           9.9           232  \n",
       "24097          AS8    Z          11.7          8.6          10.3           240  \n",
       "24098          AS8    Z          11.2          8.3           9.9           232  \n",
       "24099          AS8    Z          12.2          8.7          10.7           248  "
      ]
     },
     "execution_count": 20,
     "metadata": {},
     "output_type": "execute_result"
    }
   ],
   "source": [
    "data.tail()"
   ]
  },
  {
   "cell_type": "code",
   "execution_count": 21,
   "metadata": {},
   "outputs": [],
   "source": [
    "# resetting the index, because we droped some rows\n",
    "data.reset_index(drop=True, inplace=True)"
   ]
  },
  {
   "cell_type": "markdown",
   "metadata": {},
   "source": [
    "**Checking the data types of our features in our dataset.**"
   ]
  },
  {
   "cell_type": "code",
   "execution_count": 22,
   "metadata": {},
   "outputs": [
    {
     "data": {
      "text/plain": [
       "Year_make_model     object\n",
       "Vehicle_class       object\n",
       "Engine_size         object\n",
       "Cylinders          float64\n",
       "Transmission        object\n",
       "Fuel                object\n",
       "Fuel_con_city       object\n",
       "Fuel_con_hwy        object\n",
       "Fuel_con_comb       object\n",
       "Co2_emissions       object\n",
       "dtype: object"
      ]
     },
     "execution_count": 22,
     "metadata": {},
     "output_type": "execute_result"
    }
   ],
   "source": [
    "data.dtypes"
   ]
  },
  {
   "cell_type": "markdown",
   "metadata": {},
   "source": [
    "**As we can see above, some columns are not of the correct data type. Numerical variables should have type 'float' or 'int', and variables with strings such as categories should have type 'object'.**  \n",
    "**Okay so lets change the dtypes of some of the columns.**"
   ]
  },
  {
   "cell_type": "code",
   "execution_count": 23,
   "metadata": {},
   "outputs": [
    {
     "data": {
      "text/plain": [
       "Year_make_model     object\n",
       "Vehicle_class       object\n",
       "Engine_size        float64\n",
       "Cylinders            int32\n",
       "Transmission        object\n",
       "Fuel                object\n",
       "Fuel_con_city      float64\n",
       "Fuel_con_hwy       float64\n",
       "Fuel_con_comb      float64\n",
       "Co2_emissions        int32\n",
       "dtype: object"
      ]
     },
     "execution_count": 23,
     "metadata": {},
     "output_type": "execute_result"
    }
   ],
   "source": [
    "data.Engine_size = data.Engine_size.astype(str).astype(float)\n",
    "data.Cylinders = data.Cylinders.astype(int)\n",
    "data.Fuel_con_city = data.Fuel_con_city.astype(float)\n",
    "data.Fuel_con_hwy = data.Fuel_con_hwy.astype(float)\n",
    "data.Fuel_con_comb = data.Fuel_con_comb.astype(float)\n",
    "data.Co2_emissions = data.Co2_emissions.astype(int)\n",
    "\n",
    "data.dtypes"
   ]
  },
  {
   "cell_type": "markdown",
   "metadata": {},
   "source": [
    "# Variable Selection. \n",
    "**okay so lets understand the features of our dataset, and try to figure out two things:**  \n",
    "* the TARGET VARIABLE (i.e Output)\n",
    "* the PREDICTOR VARIABLE(S) (i.e Input)  \n",
    "\n",
    "### Stating the problem statement.\n",
    "**Okay so what we are trying to do is trying to predict the Co2 emissions by a car based on their:**  \n",
    "* Number of cylinders in the engine\n",
    "* Transmission type of the car\n",
    "* Engine size of the car\n",
    "* Class of vehicle it belongs to \n",
    "* Fuel it uses\n",
    "* Fuel consumption by the car in:\n",
    "    * city\n",
    "    * highway\n",
    "    * a combination of both    \n",
    "**in Canada based on the data from 1995 to 2020.**  \n",
    "\n",
    "**We wont be needing the variables called:**  \n",
    "* Model: the year the car was made\n",
    "* Make: Maker of the car\n",
    "* Moel.1: model of a given car by a given maker in a given year  \n",
    "\n",
    "**So our variables are:**  \n",
    "* <u>TARGET VARIABLE</u> : Co2_emmisions\n",
    "* <u>PREDICTOR VARIABLEs</u> : \n",
    "    * Vehicle_class\n",
    "    * Engine_size\n",
    "    * Cylinders\n",
    "    * Transmission\n",
    "    * Fuel\n",
    "    * Fuel_con_city\n",
    "    * Fuel_con_hwy\n",
    "    * Fuel_con_comb\n"
   ]
  },
  {
   "cell_type": "markdown",
   "metadata": {},
   "source": [
    "**Analyzing Individual Feature Patterns using Visualization.**"
   ]
  },
  {
   "cell_type": "code",
   "execution_count": 24,
   "metadata": {},
   "outputs": [
    {
     "name": "stdout",
     "output_type": "stream",
     "text": [
      "Requirement already satisfied: seaborn in c:\\users\\tradeoff\\anaconda3\\lib\\site-packages (0.9.0)\n",
      "Requirement already satisfied: scipy>=0.14.0 in c:\\users\\tradeoff\\anaconda3\\lib\\site-packages (from seaborn) (1.1.0)\n",
      "Requirement already satisfied: pandas>=0.15.2 in c:\\users\\tradeoff\\anaconda3\\lib\\site-packages (from seaborn) (0.23.4)\n",
      "Requirement already satisfied: numpy>=1.9.3 in c:\\users\\tradeoff\\anaconda3\\lib\\site-packages (from seaborn) (1.15.1)\n",
      "Requirement already satisfied: matplotlib>=1.4.3 in c:\\users\\tradeoff\\anaconda3\\lib\\site-packages (from seaborn) (2.2.3)\n",
      "Requirement already satisfied: python-dateutil>=2.5.0 in c:\\users\\tradeoff\\anaconda3\\lib\\site-packages (from pandas>=0.15.2->seaborn) (2.7.3)\n",
      "Requirement already satisfied: pytz>=2011k in c:\\users\\tradeoff\\anaconda3\\lib\\site-packages (from pandas>=0.15.2->seaborn) (2018.5)\n",
      "Requirement already satisfied: cycler>=0.10 in c:\\users\\tradeoff\\anaconda3\\lib\\site-packages (from matplotlib>=1.4.3->seaborn) (0.10.0)\n",
      "Requirement already satisfied: pyparsing!=2.0.4,!=2.1.2,!=2.1.6,>=2.0.1 in c:\\users\\tradeoff\\anaconda3\\lib\\site-packages (from matplotlib>=1.4.3->seaborn) (2.2.0)\n",
      "Requirement already satisfied: six>=1.10 in c:\\users\\tradeoff\\anaconda3\\lib\\site-packages (from matplotlib>=1.4.3->seaborn) (1.11.0)\n",
      "Requirement already satisfied: kiwisolver>=1.0.1 in c:\\users\\tradeoff\\anaconda3\\lib\\site-packages (from matplotlib>=1.4.3->seaborn) (1.0.1)\n",
      "Requirement already satisfied: setuptools in c:\\users\\tradeoff\\anaconda3\\lib\\site-packages (from kiwisolver>=1.0.1->matplotlib>=1.4.3->seaborn) (40.2.0)\n",
      "Matplotlib version:  2.2.3\n"
     ]
    }
   ],
   "source": [
    "!{sys.executable} -m pip install seaborn\n",
    "import seaborn as sns\n",
    "\n",
    "%matplotlib inline \n",
    "\n",
    "import matplotlib as mpl\n",
    "import matplotlib.pyplot as plt\n",
    "\n",
    "# check for latest version of Matplotlib\n",
    "print ('Matplotlib version: ', mpl.__version__) # >= 2.0.0"
   ]
  },
  {
   "cell_type": "code",
   "execution_count": 25,
   "metadata": {
    "scrolled": true
   },
   "outputs": [
    {
     "name": "stdout",
     "output_type": "stream",
     "text": [
      "The number of unique classes in Vehicle_class is 32\n",
      "The number of unique classes in Cylinders is 9\n",
      "The number of unique classes in Transmission is 29\n",
      "The number of unique classes in Fuel is 5\n"
     ]
    }
   ],
   "source": [
    "\"\"\"so in the division of categorical variables, we have the following:\n",
    "Vehicle_class - str categorical data\n",
    "Cylinders - int  categorical data\n",
    "Transmission - str  ctegorical data\n",
    "Fuel - str categorical data.\n",
    "\"\"\"\n",
    "\n",
    "# okay so lets see the unique values in these features and their value count.\n",
    "ctg_var = ['Vehicle_class', 'Cylinders', 'Transmission', 'Fuel']\n",
    "for var in ctg_var:\n",
    "    l = len(data[var].value_counts())\n",
    "    print(\"The number of unique classes in {} is {}\".format(var,l ))"
   ]
  },
  {
   "cell_type": "code",
   "execution_count": 26,
   "metadata": {},
   "outputs": [
    {
     "data": {
      "image/png": "[encoded data removed]",
      "text/plain": [
       "<Figure size 1440x720 with 1 Axes>"
      ]
     },
     "metadata": {
      "needs_background": "light"
     },
     "output_type": "display_data"
    }
   ],
   "source": [
    "# Let's visualize the above output for the Vehicle_class feature with respect to Co2 emissions.\n",
    "plt.figure(figsize=(20,10))\n",
    "sns.boxplot(x=data.Vehicle_class, y=data.Co2_emissions, data=data)\n",
    "plt.xticks(rotation=45, horizontalalignment='right')\n",
    "plt.xlabel('Vehicle class')\n",
    "plt.ylabel('Co2_emissions')\n",
    "plt.title('Vehicle class frequency distribution with Co2_emissions')\n",
    "plt.show()"
   ]
  },
  {
   "cell_type": "markdown",
   "metadata": {},
   "source": [
    "**We see that the distributions of Co_2 emissions between the different vehicle class categories have an intermediate overlap, and so the Vehicle_class feature would be an intermediate predictor of Co_2 emissions.**"
   ]
  },
  {
   "cell_type": "code",
   "execution_count": 27,
   "metadata": {},
   "outputs": [
    {
     "data": {
      "image/png": "[encoded data removed]",
      "text/plain": [
       "<Figure size 1440x720 with 1 Axes>"
      ]
     },
     "metadata": {
      "needs_background": "light"
     },
     "output_type": "display_data"
    }
   ],
   "source": [
    "# Let's visualize the above output for the Cylinders feature\n",
    "plt.figure(figsize=(20,10))\n",
    "sns.boxplot(x=data.Cylinders, y=data.Co2_emissions, data=data)\n",
    "plt.xticks(rotation=45, horizontalalignment='right')\n",
    "plt.xlabel('Number of cylinder')\n",
    "plt.ylabel('Co2_emissions')\n",
    "plt.title('No. of Cylinders frequency distribution with Co2_emissions.')\n",
    "plt.show()"
   ]
  },
  {
   "cell_type": "markdown",
   "metadata": {},
   "source": [
    "**Here we see that the distribution of Co2_emissons between the different number of cylinders in a car engine, are distinct enough to take Cylinders as a potential good predictor of Co2_emissions.**"
   ]
  },
  {
   "cell_type": "code",
   "execution_count": 28,
   "metadata": {},
   "outputs": [
    {
     "data": {
      "image/png": "[encoded data removed]",
      "text/plain": [
       "<Figure size 1440x720 with 1 Axes>"
      ]
     },
     "metadata": {
      "needs_background": "light"
     },
     "output_type": "display_data"
    }
   ],
   "source": [
    "# Let's visualize the above output for the Transmission feature\n",
    "plt.figure(figsize=(20,10))\n",
    "sns.boxplot(x=data.Transmission, y=data.Co2_emissions, data=data)\n",
    "plt.xticks(rotation=45, horizontalalignment='right')\n",
    "plt.xlabel('Transmission types')\n",
    "plt.ylabel('Co2_emissions')\n",
    "plt.title('Transmission type frequency distribution with Co2_emissions.')\n",
    "plt.show()"
   ]
  },
  {
   "cell_type": "markdown",
   "metadata": {},
   "source": [
    "**Here we see that the distribution of Co2_emissons between the different type of transmission in a car engine, are partially distinct enough to take Cylinders as a potential good predictor of Co2_emissions, and partially have an intermediate overlap, and so the Vehicle_class feature can also be an intermediate predictor of Co_2 emissions.**"
   ]
  },
  {
   "cell_type": "code",
   "execution_count": 29,
   "metadata": {},
   "outputs": [
    {
     "data": {
      "text/plain": [
       "<function matplotlib.pyplot.show(*args, **kw)>"
      ]
     },
     "execution_count": 29,
     "metadata": {},
     "output_type": "execute_result"
    },
    {
     "data": {
      "image/png": "[encoded data removed]",
      "text/plain": [
       "<Figure size 1440x720 with 1 Axes>"
      ]
     },
     "metadata": {
      "needs_background": "light"
     },
     "output_type": "display_data"
    }
   ],
   "source": [
    "# Let's visualize the above output for the Fuel feature\n",
    "plt.figure(figsize=(20,10))\n",
    "sns.boxplot(x=data.Fuel, y=data.Co2_emissions, data=data)\n",
    "plt.xticks(rotation=45, horizontalalignment='right')\n",
    "plt.xlabel('Fuel types')\n",
    "plt.ylabel('Co2_emissions')\n",
    "plt.title('Fuel type frequency distribution with Co2 emissions')\n",
    "plt.show"
   ]
  },
  {
   "cell_type": "markdown",
   "metadata": {},
   "source": [
    "**We see that the distributions of Co_2 emissions between the different fuel types used in car have an intermediate overlap, and so the Fuel feature would be an intermediate predictor of Co_2 emissions.**"
   ]
  },
  {
   "cell_type": "code",
   "execution_count": 30,
   "metadata": {},
   "outputs": [
    {
     "name": "stderr",
     "output_type": "stream",
     "text": [
      "C:\\Users\\Tradeoff\\Anaconda3\\lib\\site-packages\\scipy\\stats\\stats.py:1713: FutureWarning: Using a non-tuple sequence for multidimensional indexing is deprecated; use `arr[tuple(seq)]` instead of `arr[seq]`. In the future this will be interpreted as an array index, `arr[np.array(seq)]`, which will result either in an error or a different result.\n",
      "  return np.add.reduce(sorted[indexer] * weights, axis=axis) / sumval\n"
     ]
    },
    {
     "data": {
      "image/png": "[encoded data removed]",
      "text/plain": [
       "<Figure size 1440x720 with 1 Axes>"
      ]
     },
     "metadata": {
      "needs_background": "light"
     },
     "output_type": "display_data"
    }
   ],
   "source": [
    "# Engine size as potential predictor variable of Co2 emissions.\n",
    "plt.figure(figsize=(20,10))\n",
    "sns.regplot(x=\"Engine_size\", y=\"Co2_emissions\", data=data)\n",
    "plt.xticks(rotation=45, horizontalalignment='right')\n",
    "plt.ylim(0,)\n",
    "plt.xlabel('different engine sizes')\n",
    "plt.ylabel('Co2_emissions')\n",
    "plt.title('Frequency distribution of different engine sizes with Co2 emissions')\n",
    "plt.show()"
   ]
  },
  {
   "cell_type": "markdown",
   "metadata": {},
   "source": [
    "**As the engine size goes up, the Co2 emissions goes up: this indicates a positive direct correlation between these two variables. Engine size seems like a pretty good predictor of Co2 emissions, since the regression line is almost a perfect diagonal line.**  \n",
    "**We can notice the presence of some outliers in this feature which we will treat seperately later.**</p>"
   ]
  },
  {
   "cell_type": "code",
   "execution_count": 31,
   "metadata": {},
   "outputs": [
    {
     "name": "stderr",
     "output_type": "stream",
     "text": [
      "C:\\Users\\Tradeoff\\Anaconda3\\lib\\site-packages\\scipy\\stats\\stats.py:1713: FutureWarning: Using a non-tuple sequence for multidimensional indexing is deprecated; use `arr[tuple(seq)]` instead of `arr[seq]`. In the future this will be interpreted as an array index, `arr[np.array(seq)]`, which will result either in an error or a different result.\n",
      "  return np.add.reduce(sorted[indexer] * weights, axis=axis) / sumval\n"
     ]
    },
    {
     "data": {
      "image/png": "[encoded data removed]",
      "text/plain": [
       "<Figure size 1440x720 with 1 Axes>"
      ]
     },
     "metadata": {
      "needs_background": "light"
     },
     "output_type": "display_data"
    }
   ],
   "source": [
    "## Fuel consumption by cars in city roads as potential predictor variable of Co2 emissions.\n",
    "plt.figure(figsize=(20,10))\n",
    "sns.regplot(x=\"Fuel_con_city\", y=\"Co2_emissions\", data=data)\n",
    "plt.xticks(rotation=45, horizontalalignment='right')\n",
    "plt.ylim(0,)\n",
    "plt.xlabel('Fuel economy in the city')\n",
    "plt.ylabel('Co2_emissions')\n",
    "plt.title('Distribution of fuel economy in the city with Co2 emissions.')\n",
    "plt.show()"
   ]
  },
  {
   "cell_type": "markdown",
   "metadata": {},
   "source": [
    "**As the fuel consumption by cars in city conditins goes up, the Co2 emissions  also goes up: this indicates a positive direct correlation between these two variables, and it also seems like a pretty good predictor of Co2 emissions, since the regression line is almost a perfect diagonal line.**  "
   ]
  },
  {
   "cell_type": "code",
   "execution_count": 32,
   "metadata": {},
   "outputs": [
    {
     "name": "stderr",
     "output_type": "stream",
     "text": [
      "C:\\Users\\Tradeoff\\Anaconda3\\lib\\site-packages\\scipy\\stats\\stats.py:1713: FutureWarning: Using a non-tuple sequence for multidimensional indexing is deprecated; use `arr[tuple(seq)]` instead of `arr[seq]`. In the future this will be interpreted as an array index, `arr[np.array(seq)]`, which will result either in an error or a different result.\n",
      "  return np.add.reduce(sorted[indexer] * weights, axis=axis) / sumval\n"
     ]
    },
    {
     "data": {
      "image/png": "[encoded data removed]",
      "text/plain": [
       "<Figure size 1440x720 with 1 Axes>"
      ]
     },
     "metadata": {
      "needs_background": "light"
     },
     "output_type": "display_data"
    }
   ],
   "source": [
    "## Fuel consumption by cars in highway roads as potential predictor variable of Co2 emissions.\n",
    "plt.figure(figsize=(20,10))\n",
    "sns.regplot(x=\"Fuel_con_hwy\", y=\"Co2_emissions\", data=data)\n",
    "plt.xticks(rotation=45, horizontalalignment='right')\n",
    "plt.ylim(0,)\n",
    "plt.xlabel('Fuel economy in the highway')\n",
    "plt.ylabel('Co2_emissions')\n",
    "plt.title('Distribution of fuel economy in the highway with Co2 emissions.')\n",
    "plt.show()"
   ]
  },
  {
   "cell_type": "markdown",
   "metadata": {},
   "source": [
    "**As the fuel consumption by cars in highway conditins goes up, the Co2 emissions  also goes up: this indicates a positive direct correlation between these two variables, and it also seems like a pretty good predictor of Co2 emissions, since the regression line is almost a perfect diagonal line.**  "
   ]
  },
  {
   "cell_type": "code",
   "execution_count": 33,
   "metadata": {},
   "outputs": [
    {
     "name": "stderr",
     "output_type": "stream",
     "text": [
      "C:\\Users\\Tradeoff\\Anaconda3\\lib\\site-packages\\scipy\\stats\\stats.py:1713: FutureWarning: Using a non-tuple sequence for multidimensional indexing is deprecated; use `arr[tuple(seq)]` instead of `arr[seq]`. In the future this will be interpreted as an array index, `arr[np.array(seq)]`, which will result either in an error or a different result.\n",
      "  return np.add.reduce(sorted[indexer] * weights, axis=axis) / sumval\n"
     ]
    },
    {
     "data": {
      "image/png": "[encoded data removed]",
      "text/plain": [
       "<Figure size 1440x720 with 1 Axes>"
      ]
     },
     "metadata": {
      "needs_background": "light"
     },
     "output_type": "display_data"
    }
   ],
   "source": [
    "## Fuel consumption by cars in a combination of highway and city roads as potential predictor variable of Co2 emissions.\n",
    "plt.figure(figsize=(20,10))\n",
    "sns.regplot(x=\"Fuel_con_comb\", y=\"Co2_emissions\", data=data)\n",
    "plt.xticks(rotation=45, horizontalalignment='right')\n",
    "plt.ylim(0,)\n",
    "plt.xlabel('Combined fuel economy by cars.')\n",
    "plt.ylabel('Co2_emissions')\n",
    "plt.title('Distribution of fuel economy by cars in a combination of highway and city roads with Co2 emissions.')\n",
    "plt.show()"
   ]
  },
  {
   "cell_type": "markdown",
   "metadata": {},
   "source": [
    "**As the fuel consumption by cars in a combination of highway and city conditins goes up, the Co2 emissions  also goes up: this indicates a positive direct correlation between these two variables, and it also seems like a pretty good predictor of Co2 emissions, since the regression line is almost a perfect diagonal line.**  "
   ]
  },
  {
   "cell_type": "markdown",
   "metadata": {},
   "source": [
    "**Now that we have vizualized the realtionship between our features and our target variable, let's see the strength of this relationship; we can do so by calculating the corelational coefficient between out numerical features.**"
   ]
  },
  {
   "cell_type": "code",
   "execution_count": 34,
   "metadata": {},
   "outputs": [
    {
     "data": {
      "text/html": [
       "<div>\n",
       "<style scoped>\n",
       "    .dataframe tbody tr th:only-of-type {\n",
       "        vertical-align: middle;\n",
       "    }\n",
       "\n",
       "    .dataframe tbody tr th {\n",
       "        vertical-align: top;\n",
       "    }\n",
       "\n",
       "    .dataframe thead th {\n",
       "        text-align: right;\n",
       "    }\n",
       "</style>\n",
       "<table border=\"1\" class=\"dataframe\">\n",
       "  <thead>\n",
       "    <tr style=\"text-align: right;\">\n",
       "      <th></th>\n",
       "      <th>Engine_size</th>\n",
       "      <th>Cylinders</th>\n",
       "      <th>Fuel_con_city</th>\n",
       "      <th>Fuel_con_hwy</th>\n",
       "      <th>Fuel_con_comb</th>\n",
       "      <th>Co2_emissions</th>\n",
       "    </tr>\n",
       "  </thead>\n",
       "  <tbody>\n",
       "    <tr>\n",
       "      <th>Engine_size</th>\n",
       "      <td>1.000000</td>\n",
       "      <td>0.909162</td>\n",
       "      <td>0.825511</td>\n",
       "      <td>0.760273</td>\n",
       "      <td>0.812832</td>\n",
       "      <td>0.830066</td>\n",
       "    </tr>\n",
       "    <tr>\n",
       "      <th>Cylinders</th>\n",
       "      <td>0.909162</td>\n",
       "      <td>1.000000</td>\n",
       "      <td>0.791049</td>\n",
       "      <td>0.698095</td>\n",
       "      <td>0.768055</td>\n",
       "      <td>0.795040</td>\n",
       "    </tr>\n",
       "    <tr>\n",
       "      <th>Fuel_con_city</th>\n",
       "      <td>0.825511</td>\n",
       "      <td>0.791049</td>\n",
       "      <td>1.000000</td>\n",
       "      <td>0.946864</td>\n",
       "      <td>0.993377</td>\n",
       "      <td>0.924512</td>\n",
       "    </tr>\n",
       "    <tr>\n",
       "      <th>Fuel_con_hwy</th>\n",
       "      <td>0.760273</td>\n",
       "      <td>0.698095</td>\n",
       "      <td>0.946864</td>\n",
       "      <td>1.000000</td>\n",
       "      <td>0.976968</td>\n",
       "      <td>0.901747</td>\n",
       "    </tr>\n",
       "    <tr>\n",
       "      <th>Fuel_con_comb</th>\n",
       "      <td>0.812832</td>\n",
       "      <td>0.768055</td>\n",
       "      <td>0.993377</td>\n",
       "      <td>0.976968</td>\n",
       "      <td>1.000000</td>\n",
       "      <td>0.928143</td>\n",
       "    </tr>\n",
       "    <tr>\n",
       "      <th>Co2_emissions</th>\n",
       "      <td>0.830066</td>\n",
       "      <td>0.795040</td>\n",
       "      <td>0.924512</td>\n",
       "      <td>0.901747</td>\n",
       "      <td>0.928143</td>\n",
       "      <td>1.000000</td>\n",
       "    </tr>\n",
       "  </tbody>\n",
       "</table>\n",
       "</div>"
      ],
      "text/plain": [
       "               Engine_size  Cylinders  Fuel_con_city  Fuel_con_hwy  \\\n",
       "Engine_size       1.000000   0.909162       0.825511      0.760273   \n",
       "Cylinders         0.909162   1.000000       0.791049      0.698095   \n",
       "Fuel_con_city     0.825511   0.791049       1.000000      0.946864   \n",
       "Fuel_con_hwy      0.760273   0.698095       0.946864      1.000000   \n",
       "Fuel_con_comb     0.812832   0.768055       0.993377      0.976968   \n",
       "Co2_emissions     0.830066   0.795040       0.924512      0.901747   \n",
       "\n",
       "               Fuel_con_comb  Co2_emissions  \n",
       "Engine_size         0.812832       0.830066  \n",
       "Cylinders           0.768055       0.795040  \n",
       "Fuel_con_city       0.993377       0.924512  \n",
       "Fuel_con_hwy        0.976968       0.901747  \n",
       "Fuel_con_comb       1.000000       0.928143  \n",
       "Co2_emissions       0.928143       1.000000  "
      ]
     },
     "execution_count": 34,
     "metadata": {},
     "output_type": "execute_result"
    }
   ],
   "source": [
    "data.corr()"
   ]
  },
  {
   "cell_type": "markdown",
   "metadata": {},
   "source": [
    "**Okay lets check the statistical significance of these correlation values.**"
   ]
  },
  {
   "cell_type": "code",
   "execution_count": 35,
   "metadata": {},
   "outputs": [],
   "source": [
    "from scipy import stats"
   ]
  },
  {
   "cell_type": "markdown",
   "metadata": {},
   "source": [
    "**Engine_size VS Co2_emissions.**"
   ]
  },
  {
   "cell_type": "code",
   "execution_count": 36,
   "metadata": {},
   "outputs": [
    {
     "name": "stdout",
     "output_type": "stream",
     "text": [
      "The Pearson Correlation Coefficient is 0.850833758258211  with a P-value of P = 0.0\n"
     ]
    }
   ],
   "source": [
    "pearson_coef, p_value  = stats.spearmanr(data.Engine_size, data.Co2_emissions)\n",
    "print(\"The Pearson Correlation Coefficient is\", pearson_coef, \" with a P-value of P =\", p_value) "
   ]
  },
  {
   "cell_type": "markdown",
   "metadata": {},
   "source": [
    "**Since the p-value is  <  0.001, the correlation between Engine_size and Co2_emissions is statistically significant.**"
   ]
  },
  {
   "cell_type": "markdown",
   "metadata": {},
   "source": [
    "**Fuel_con_city VS Co2_emissions.**"
   ]
  },
  {
   "cell_type": "code",
   "execution_count": 37,
   "metadata": {},
   "outputs": [
    {
     "name": "stdout",
     "output_type": "stream",
     "text": [
      "The Pearson Correlation Coefficient is 0.9572174373519916  with a P-value of P = 0.0\n"
     ]
    }
   ],
   "source": [
    "pearson_coef, p_value  = stats.spearmanr(data.Fuel_con_city, data.Co2_emissions)\n",
    "print(\"The Pearson Correlation Coefficient is\", pearson_coef, \" with a P-value of P =\", p_value) "
   ]
  },
  {
   "cell_type": "markdown",
   "metadata": {},
   "source": [
    "**Since the p-value is < 0.001, the correlation between Fuel_con_city and Co2_emissions is statistically significant.**"
   ]
  },
  {
   "cell_type": "markdown",
   "metadata": {},
   "source": [
    "**Fuel_con_hwy VS Co2_emissions.**"
   ]
  },
  {
   "cell_type": "code",
   "execution_count": 38,
   "metadata": {},
   "outputs": [
    {
     "name": "stdout",
     "output_type": "stream",
     "text": [
      "The Pearson Correlation Coefficient is 0.9458826394658655  with a P-value of P = 0.0\n"
     ]
    }
   ],
   "source": [
    "pearson_coef, p_value  = stats.spearmanr(data.Fuel_con_hwy, data.Co2_emissions)\n",
    "print(\"The Pearson Correlation Coefficient is\", pearson_coef, \" with a P-value of P =\", p_value) "
   ]
  },
  {
   "cell_type": "markdown",
   "metadata": {},
   "source": [
    "**Since the p-value is < 0.001, the correlation between Fuel_con_hwy and Co2_emissions is statistically significant.**"
   ]
  },
  {
   "cell_type": "markdown",
   "metadata": {},
   "source": [
    "**Fuel_con_comb VS Co2_emissions.**"
   ]
  },
  {
   "cell_type": "code",
   "execution_count": 39,
   "metadata": {},
   "outputs": [
    {
     "name": "stdout",
     "output_type": "stream",
     "text": [
      "The Pearson Correlation Coefficient is 0.967001503346109  with a P-value of P = 0.0\n"
     ]
    }
   ],
   "source": [
    "pearson_coef, p_value  = stats.spearmanr(data.Fuel_con_comb, data.Co2_emissions)\n",
    "print(\"The Pearson Correlation Coefficient is\", pearson_coef, \" with a P-value of P =\", p_value) "
   ]
  },
  {
   "cell_type": "markdown",
   "metadata": {},
   "source": [
    "**Since the p-value is < 0.001, the correlation between Fuel_con_comb and Co2_emissions is statistically significant.**"
   ]
  },
  {
   "cell_type": "markdown",
   "metadata": {},
   "source": [
    "**Let's do an initial descriptive statistical analysis of our features.**"
   ]
  },
  {
   "cell_type": "code",
   "execution_count": 40,
   "metadata": {},
   "outputs": [
    {
     "data": {
      "text/html": [
       "<div>\n",
       "<style scoped>\n",
       "    .dataframe tbody tr th:only-of-type {\n",
       "        vertical-align: middle;\n",
       "    }\n",
       "\n",
       "    .dataframe tbody tr th {\n",
       "        vertical-align: top;\n",
       "    }\n",
       "\n",
       "    .dataframe thead th {\n",
       "        text-align: right;\n",
       "    }\n",
       "</style>\n",
       "<table border=\"1\" class=\"dataframe\">\n",
       "  <thead>\n",
       "    <tr style=\"text-align: right;\">\n",
       "      <th></th>\n",
       "      <th>Engine_size</th>\n",
       "      <th>Cylinders</th>\n",
       "      <th>Fuel_con_city</th>\n",
       "      <th>Fuel_con_hwy</th>\n",
       "      <th>Fuel_con_comb</th>\n",
       "      <th>Co2_emissions</th>\n",
       "    </tr>\n",
       "  </thead>\n",
       "  <tbody>\n",
       "    <tr>\n",
       "      <th>count</th>\n",
       "      <td>24092.000000</td>\n",
       "      <td>24092.000000</td>\n",
       "      <td>24092.000000</td>\n",
       "      <td>24092.000000</td>\n",
       "      <td>24092.000000</td>\n",
       "      <td>24092.000000</td>\n",
       "    </tr>\n",
       "    <tr>\n",
       "      <th>mean</th>\n",
       "      <td>3.369077</td>\n",
       "      <td>5.857463</td>\n",
       "      <td>12.843106</td>\n",
       "      <td>8.905114</td>\n",
       "      <td>11.071625</td>\n",
       "      <td>250.925203</td>\n",
       "    </tr>\n",
       "    <tr>\n",
       "      <th>std</th>\n",
       "      <td>1.338363</td>\n",
       "      <td>1.781406</td>\n",
       "      <td>3.462665</td>\n",
       "      <td>2.267760</td>\n",
       "      <td>2.890290</td>\n",
       "      <td>59.512462</td>\n",
       "    </tr>\n",
       "    <tr>\n",
       "      <th>min</th>\n",
       "      <td>0.800000</td>\n",
       "      <td>2.000000</td>\n",
       "      <td>3.500000</td>\n",
       "      <td>3.200000</td>\n",
       "      <td>3.600000</td>\n",
       "      <td>83.000000</td>\n",
       "    </tr>\n",
       "    <tr>\n",
       "      <th>25%</th>\n",
       "      <td>2.300000</td>\n",
       "      <td>4.000000</td>\n",
       "      <td>10.500000</td>\n",
       "      <td>7.300000</td>\n",
       "      <td>9.100000</td>\n",
       "      <td>209.000000</td>\n",
       "    </tr>\n",
       "    <tr>\n",
       "      <th>50%</th>\n",
       "      <td>3.000000</td>\n",
       "      <td>6.000000</td>\n",
       "      <td>12.400000</td>\n",
       "      <td>8.400000</td>\n",
       "      <td>10.600000</td>\n",
       "      <td>244.000000</td>\n",
       "    </tr>\n",
       "    <tr>\n",
       "      <th>75%</th>\n",
       "      <td>4.300000</td>\n",
       "      <td>8.000000</td>\n",
       "      <td>14.800000</td>\n",
       "      <td>10.200000</td>\n",
       "      <td>12.800000</td>\n",
       "      <td>289.000000</td>\n",
       "    </tr>\n",
       "    <tr>\n",
       "      <th>max</th>\n",
       "      <td>8.400000</td>\n",
       "      <td>16.000000</td>\n",
       "      <td>30.600000</td>\n",
       "      <td>20.600000</td>\n",
       "      <td>26.100000</td>\n",
       "      <td>570.000000</td>\n",
       "    </tr>\n",
       "  </tbody>\n",
       "</table>\n",
       "</div>"
      ],
      "text/plain": [
       "        Engine_size     Cylinders  Fuel_con_city  Fuel_con_hwy  Fuel_con_comb  \\\n",
       "count  24092.000000  24092.000000   24092.000000  24092.000000   24092.000000   \n",
       "mean       3.369077      5.857463      12.843106      8.905114      11.071625   \n",
       "std        1.338363      1.781406       3.462665      2.267760       2.890290   \n",
       "min        0.800000      2.000000       3.500000      3.200000       3.600000   \n",
       "25%        2.300000      4.000000      10.500000      7.300000       9.100000   \n",
       "50%        3.000000      6.000000      12.400000      8.400000      10.600000   \n",
       "75%        4.300000      8.000000      14.800000     10.200000      12.800000   \n",
       "max        8.400000     16.000000      30.600000     20.600000      26.100000   \n",
       "\n",
       "       Co2_emissions  \n",
       "count   24092.000000  \n",
       "mean      250.925203  \n",
       "std        59.512462  \n",
       "min        83.000000  \n",
       "25%       209.000000  \n",
       "50%       244.000000  \n",
       "75%       289.000000  \n",
       "max       570.000000  "
      ]
     },
     "execution_count": 40,
     "metadata": {},
     "output_type": "execute_result"
    }
   ],
   "source": [
    "data.describe()  # only accounts for the numerical fetures."
   ]
  },
  {
   "cell_type": "code",
   "execution_count": 41,
   "metadata": {},
   "outputs": [
    {
     "data": {
      "text/html": [
       "<div>\n",
       "<style scoped>\n",
       "    .dataframe tbody tr th:only-of-type {\n",
       "        vertical-align: middle;\n",
       "    }\n",
       "\n",
       "    .dataframe tbody tr th {\n",
       "        vertical-align: top;\n",
       "    }\n",
       "\n",
       "    .dataframe thead th {\n",
       "        text-align: right;\n",
       "    }\n",
       "</style>\n",
       "<table border=\"1\" class=\"dataframe\">\n",
       "  <thead>\n",
       "    <tr style=\"text-align: right;\">\n",
       "      <th></th>\n",
       "      <th>Year_make_model</th>\n",
       "      <th>Vehicle_class</th>\n",
       "      <th>Transmission</th>\n",
       "      <th>Fuel</th>\n",
       "    </tr>\n",
       "  </thead>\n",
       "  <tbody>\n",
       "    <tr>\n",
       "      <th>count</th>\n",
       "      <td>24092</td>\n",
       "      <td>24092</td>\n",
       "      <td>24092</td>\n",
       "      <td>24092</td>\n",
       "    </tr>\n",
       "    <tr>\n",
       "      <th>unique</th>\n",
       "      <td>14322</td>\n",
       "      <td>32</td>\n",
       "      <td>29</td>\n",
       "      <td>5</td>\n",
       "    </tr>\n",
       "    <tr>\n",
       "      <th>top</th>\n",
       "      <td>2001-DODGE-RAM 1500</td>\n",
       "      <td>COMPACT</td>\n",
       "      <td>A4</td>\n",
       "      <td>X</td>\n",
       "    </tr>\n",
       "    <tr>\n",
       "      <th>freq</th>\n",
       "      <td>9</td>\n",
       "      <td>3329</td>\n",
       "      <td>5491</td>\n",
       "      <td>13560</td>\n",
       "    </tr>\n",
       "  </tbody>\n",
       "</table>\n",
       "</div>"
      ],
      "text/plain": [
       "            Year_make_model Vehicle_class Transmission   Fuel\n",
       "count                 24092         24092        24092  24092\n",
       "unique                14322            32           29      5\n",
       "top     2001-DODGE-RAM 1500       COMPACT           A4      X\n",
       "freq                      9          3329         5491  13560"
      ]
     },
     "execution_count": 41,
     "metadata": {},
     "output_type": "execute_result"
    }
   ],
   "source": [
    "data.describe(include = 'object') # also accounts for the categorical features."
   ]
  },
  {
   "cell_type": "markdown",
   "metadata": {},
   "source": [
    "**Okay let's do a deeper analysis of our categorical features.**"
   ]
  },
  {
   "cell_type": "code",
   "execution_count": 42,
   "metadata": {},
   "outputs": [
    {
     "data": {
      "text/html": [
       "<div>\n",
       "<style scoped>\n",
       "    .dataframe tbody tr th:only-of-type {\n",
       "        vertical-align: middle;\n",
       "    }\n",
       "\n",
       "    .dataframe tbody tr th {\n",
       "        vertical-align: top;\n",
       "    }\n",
       "\n",
       "    .dataframe thead th {\n",
       "        text-align: right;\n",
       "    }\n",
       "</style>\n",
       "<table border=\"1\" class=\"dataframe\">\n",
       "  <thead>\n",
       "    <tr style=\"text-align: right;\">\n",
       "      <th></th>\n",
       "      <th>Vehicle_class</th>\n",
       "      <th>Co2_emissions</th>\n",
       "    </tr>\n",
       "  </thead>\n",
       "  <tbody>\n",
       "    <tr>\n",
       "      <th>0</th>\n",
       "      <td>SUBCOMPACT</td>\n",
       "      <td>202</td>\n",
       "    </tr>\n",
       "    <tr>\n",
       "      <th>1</th>\n",
       "      <td>SUBCOMPACT</td>\n",
       "      <td>193</td>\n",
       "    </tr>\n",
       "    <tr>\n",
       "      <th>2</th>\n",
       "      <td>SUBCOMPACT</td>\n",
       "      <td>191</td>\n",
       "    </tr>\n",
       "    <tr>\n",
       "      <th>3</th>\n",
       "      <td>COMPACT</td>\n",
       "      <td>251</td>\n",
       "    </tr>\n",
       "    <tr>\n",
       "      <th>4</th>\n",
       "      <td>COMPACT</td>\n",
       "      <td>260</td>\n",
       "    </tr>\n",
       "  </tbody>\n",
       "</table>\n",
       "</div>"
      ],
      "text/plain": [
       "  Vehicle_class  Co2_emissions\n",
       "0    SUBCOMPACT            202\n",
       "1    SUBCOMPACT            193\n",
       "2    SUBCOMPACT            191\n",
       "3       COMPACT            251\n",
       "4       COMPACT            260"
      ]
     },
     "execution_count": 42,
     "metadata": {},
     "output_type": "execute_result"
    }
   ],
   "source": [
    "catg_VC_Co2 = data[['Vehicle_class','Co2_emissions']]\n",
    "catg_VC_Co2.head()"
   ]
  },
  {
   "cell_type": "code",
   "execution_count": 43,
   "metadata": {},
   "outputs": [
    {
     "data": {
      "text/html": [
       "<div>\n",
       "<style scoped>\n",
       "    .dataframe tbody tr th:only-of-type {\n",
       "        vertical-align: middle;\n",
       "    }\n",
       "\n",
       "    .dataframe tbody tr th {\n",
       "        vertical-align: top;\n",
       "    }\n",
       "\n",
       "    .dataframe thead th {\n",
       "        text-align: right;\n",
       "    }\n",
       "</style>\n",
       "<table border=\"1\" class=\"dataframe\">\n",
       "  <thead>\n",
       "    <tr style=\"text-align: right;\">\n",
       "      <th></th>\n",
       "      <th>Vehicle_class</th>\n",
       "      <th>Co2_emissions</th>\n",
       "    </tr>\n",
       "  </thead>\n",
       "  <tbody>\n",
       "    <tr>\n",
       "      <th>25</th>\n",
       "      <td>Station wagon: Small</td>\n",
       "      <td>193.300000</td>\n",
       "    </tr>\n",
       "    <tr>\n",
       "      <th>16</th>\n",
       "      <td>STATION WAGON - SMALL</td>\n",
       "      <td>203.297998</td>\n",
       "    </tr>\n",
       "    <tr>\n",
       "      <th>1</th>\n",
       "      <td>Compact</td>\n",
       "      <td>212.030769</td>\n",
       "    </tr>\n",
       "    <tr>\n",
       "      <th>0</th>\n",
       "      <td>COMPACT</td>\n",
       "      <td>212.200060</td>\n",
       "    </tr>\n",
       "    <tr>\n",
       "      <th>7</th>\n",
       "      <td>Mid-size</td>\n",
       "      <td>219.590038</td>\n",
       "    </tr>\n",
       "    <tr>\n",
       "      <th>17</th>\n",
       "      <td>SUBCOMPACT</td>\n",
       "      <td>225.717913</td>\n",
       "    </tr>\n",
       "    <tr>\n",
       "      <th>4</th>\n",
       "      <td>MID-SIZE</td>\n",
       "      <td>226.681250</td>\n",
       "    </tr>\n",
       "    <tr>\n",
       "      <th>19</th>\n",
       "      <td>SUV - SMALL</td>\n",
       "      <td>229.036853</td>\n",
       "    </tr>\n",
       "    <tr>\n",
       "      <th>15</th>\n",
       "      <td>STATION WAGON - MID-SIZE</td>\n",
       "      <td>229.372632</td>\n",
       "    </tr>\n",
       "    <tr>\n",
       "      <th>23</th>\n",
       "      <td>Special purpose vehicle</td>\n",
       "      <td>230.250000</td>\n",
       "    </tr>\n",
       "    <tr>\n",
       "      <th>14</th>\n",
       "      <td>SPECIAL PURPOSE VEHICLE</td>\n",
       "      <td>232.080645</td>\n",
       "    </tr>\n",
       "    <tr>\n",
       "      <th>5</th>\n",
       "      <td>MINICOMPACT</td>\n",
       "      <td>232.614709</td>\n",
       "    </tr>\n",
       "    <tr>\n",
       "      <th>21</th>\n",
       "      <td>SUV: Small</td>\n",
       "      <td>233.108571</td>\n",
       "    </tr>\n",
       "    <tr>\n",
       "      <th>8</th>\n",
       "      <td>Minicompact</td>\n",
       "      <td>241.225352</td>\n",
       "    </tr>\n",
       "    <tr>\n",
       "      <th>26</th>\n",
       "      <td>Subcompact</td>\n",
       "      <td>250.037838</td>\n",
       "    </tr>\n",
       "    <tr>\n",
       "      <th>6</th>\n",
       "      <td>MINIVAN</td>\n",
       "      <td>255.920635</td>\n",
       "    </tr>\n",
       "    <tr>\n",
       "      <th>3</th>\n",
       "      <td>Full-size</td>\n",
       "      <td>258.683616</td>\n",
       "    </tr>\n",
       "    <tr>\n",
       "      <th>2</th>\n",
       "      <td>FULL-SIZE</td>\n",
       "      <td>260.645940</td>\n",
       "    </tr>\n",
       "    <tr>\n",
       "      <th>10</th>\n",
       "      <td>PICKUP TRUCK - SMALL</td>\n",
       "      <td>261.154930</td>\n",
       "    </tr>\n",
       "    <tr>\n",
       "      <th>9</th>\n",
       "      <td>Minivan</td>\n",
       "      <td>261.437500</td>\n",
       "    </tr>\n",
       "    <tr>\n",
       "      <th>27</th>\n",
       "      <td>TWO-SEATER</td>\n",
       "      <td>268.120646</td>\n",
       "    </tr>\n",
       "    <tr>\n",
       "      <th>18</th>\n",
       "      <td>SUV</td>\n",
       "      <td>273.276021</td>\n",
       "    </tr>\n",
       "    <tr>\n",
       "      <th>24</th>\n",
       "      <td>Station wagon: Mid-size</td>\n",
       "      <td>277.571429</td>\n",
       "    </tr>\n",
       "    <tr>\n",
       "      <th>12</th>\n",
       "      <td>Pickup truck: Small</td>\n",
       "      <td>281.863636</td>\n",
       "    </tr>\n",
       "    <tr>\n",
       "      <th>28</th>\n",
       "      <td>Two-seater</td>\n",
       "      <td>288.081818</td>\n",
       "    </tr>\n",
       "    <tr>\n",
       "      <th>20</th>\n",
       "      <td>SUV - STANDARD</td>\n",
       "      <td>294.119808</td>\n",
       "    </tr>\n",
       "    <tr>\n",
       "      <th>13</th>\n",
       "      <td>Pickup truck: Standard</td>\n",
       "      <td>301.095745</td>\n",
       "    </tr>\n",
       "    <tr>\n",
       "      <th>22</th>\n",
       "      <td>SUV: Standard</td>\n",
       "      <td>303.666667</td>\n",
       "    </tr>\n",
       "    <tr>\n",
       "      <th>11</th>\n",
       "      <td>PICKUP TRUCK - STANDARD</td>\n",
       "      <td>306.327158</td>\n",
       "    </tr>\n",
       "    <tr>\n",
       "      <th>29</th>\n",
       "      <td>VAN - CARGO</td>\n",
       "      <td>326.938166</td>\n",
       "    </tr>\n",
       "    <tr>\n",
       "      <th>31</th>\n",
       "      <td>Van: Passenger</td>\n",
       "      <td>339.500000</td>\n",
       "    </tr>\n",
       "    <tr>\n",
       "      <th>30</th>\n",
       "      <td>VAN - PASSENGER</td>\n",
       "      <td>350.177835</td>\n",
       "    </tr>\n",
       "  </tbody>\n",
       "</table>\n",
       "</div>"
      ],
      "text/plain": [
       "               Vehicle_class  Co2_emissions\n",
       "25      Station wagon: Small     193.300000\n",
       "16     STATION WAGON - SMALL     203.297998\n",
       "1                    Compact     212.030769\n",
       "0                    COMPACT     212.200060\n",
       "7                   Mid-size     219.590038\n",
       "17                SUBCOMPACT     225.717913\n",
       "4                   MID-SIZE     226.681250\n",
       "19               SUV - SMALL     229.036853\n",
       "15  STATION WAGON - MID-SIZE     229.372632\n",
       "23   Special purpose vehicle     230.250000\n",
       "14   SPECIAL PURPOSE VEHICLE     232.080645\n",
       "5                MINICOMPACT     232.614709\n",
       "21                SUV: Small     233.108571\n",
       "8                Minicompact     241.225352\n",
       "26                Subcompact     250.037838\n",
       "6                    MINIVAN     255.920635\n",
       "3                  Full-size     258.683616\n",
       "2                  FULL-SIZE     260.645940\n",
       "10      PICKUP TRUCK - SMALL     261.154930\n",
       "9                    Minivan     261.437500\n",
       "27                TWO-SEATER     268.120646\n",
       "18                       SUV     273.276021\n",
       "24   Station wagon: Mid-size     277.571429\n",
       "12       Pickup truck: Small     281.863636\n",
       "28                Two-seater     288.081818\n",
       "20            SUV - STANDARD     294.119808\n",
       "13    Pickup truck: Standard     301.095745\n",
       "22             SUV: Standard     303.666667\n",
       "11   PICKUP TRUCK - STANDARD     306.327158\n",
       "29               VAN - CARGO     326.938166\n",
       "31            Van: Passenger     339.500000\n",
       "30           VAN - PASSENGER     350.177835"
      ]
     },
     "execution_count": 43,
     "metadata": {},
     "output_type": "execute_result"
    }
   ],
   "source": [
    "catg_VC_Co2 = catg_VC_Co2.groupby(['Vehicle_class'],as_index=False).mean()\n",
    "catg_VC_Co2.sort_values(\"Co2_emissions\", axis = 0, ascending = True, \n",
    "                 inplace = True, na_position ='last')\n",
    "catg_VC_Co2"
   ]
  },
  {
   "cell_type": "markdown",
   "metadata": {},
   "source": [
    "**From our data, it seems that vehicles in the Station wagon: Small\t class are, on average, the least expensive in terms of Co2 emissions by cars, vehicles in the Van:Passenger class most expensive in terms of Co2 emissoins by them.**"
   ]
  },
  {
   "cell_type": "code",
   "execution_count": 44,
   "metadata": {},
   "outputs": [
    {
     "data": {
      "text/html": [
       "<div>\n",
       "<style scoped>\n",
       "    .dataframe tbody tr th:only-of-type {\n",
       "        vertical-align: middle;\n",
       "    }\n",
       "\n",
       "    .dataframe tbody tr th {\n",
       "        vertical-align: top;\n",
       "    }\n",
       "\n",
       "    .dataframe thead th {\n",
       "        text-align: right;\n",
       "    }\n",
       "</style>\n",
       "<table border=\"1\" class=\"dataframe\">\n",
       "  <thead>\n",
       "    <tr style=\"text-align: right;\">\n",
       "      <th></th>\n",
       "      <th>Cylinders</th>\n",
       "      <th>Co2_emissions</th>\n",
       "    </tr>\n",
       "  </thead>\n",
       "  <tbody>\n",
       "    <tr>\n",
       "      <th>0</th>\n",
       "      <td>4</td>\n",
       "      <td>202</td>\n",
       "    </tr>\n",
       "    <tr>\n",
       "      <th>1</th>\n",
       "      <td>4</td>\n",
       "      <td>193</td>\n",
       "    </tr>\n",
       "    <tr>\n",
       "      <th>2</th>\n",
       "      <td>4</td>\n",
       "      <td>191</td>\n",
       "    </tr>\n",
       "    <tr>\n",
       "      <th>3</th>\n",
       "      <td>6</td>\n",
       "      <td>251</td>\n",
       "    </tr>\n",
       "    <tr>\n",
       "      <th>4</th>\n",
       "      <td>6</td>\n",
       "      <td>260</td>\n",
       "    </tr>\n",
       "  </tbody>\n",
       "</table>\n",
       "</div>"
      ],
      "text/plain": [
       "   Cylinders  Co2_emissions\n",
       "0          4            202\n",
       "1          4            193\n",
       "2          4            191\n",
       "3          6            251\n",
       "4          6            260"
      ]
     },
     "execution_count": 44,
     "metadata": {},
     "output_type": "execute_result"
    }
   ],
   "source": [
    "catg_CY_Co2 = data[['Cylinders','Co2_emissions']]\n",
    "catg_CY_Co2.head()"
   ]
  },
  {
   "cell_type": "code",
   "execution_count": 45,
   "metadata": {},
   "outputs": [
    {
     "data": {
      "text/html": [
       "<div>\n",
       "<style scoped>\n",
       "    .dataframe tbody tr th:only-of-type {\n",
       "        vertical-align: middle;\n",
       "    }\n",
       "\n",
       "    .dataframe tbody tr th {\n",
       "        vertical-align: top;\n",
       "    }\n",
       "\n",
       "    .dataframe thead th {\n",
       "        text-align: right;\n",
       "    }\n",
       "</style>\n",
       "<table border=\"1\" class=\"dataframe\">\n",
       "  <thead>\n",
       "    <tr style=\"text-align: right;\">\n",
       "      <th></th>\n",
       "      <th>Cylinders</th>\n",
       "      <th>Co2_emissions</th>\n",
       "    </tr>\n",
       "  </thead>\n",
       "  <tbody>\n",
       "    <tr>\n",
       "      <th>1</th>\n",
       "      <td>3</td>\n",
       "      <td>157.553846</td>\n",
       "    </tr>\n",
       "    <tr>\n",
       "      <th>2</th>\n",
       "      <td>4</td>\n",
       "      <td>198.453886</td>\n",
       "    </tr>\n",
       "    <tr>\n",
       "      <th>3</th>\n",
       "      <td>5</td>\n",
       "      <td>234.825424</td>\n",
       "    </tr>\n",
       "    <tr>\n",
       "      <th>4</th>\n",
       "      <td>6</td>\n",
       "      <td>255.807649</td>\n",
       "    </tr>\n",
       "    <tr>\n",
       "      <th>0</th>\n",
       "      <td>2</td>\n",
       "      <td>258.176471</td>\n",
       "    </tr>\n",
       "    <tr>\n",
       "      <th>5</th>\n",
       "      <td>8</td>\n",
       "      <td>313.649072</td>\n",
       "    </tr>\n",
       "    <tr>\n",
       "      <th>6</th>\n",
       "      <td>10</td>\n",
       "      <td>354.785714</td>\n",
       "    </tr>\n",
       "    <tr>\n",
       "      <th>7</th>\n",
       "      <td>12</td>\n",
       "      <td>373.418919</td>\n",
       "    </tr>\n",
       "    <tr>\n",
       "      <th>8</th>\n",
       "      <td>16</td>\n",
       "      <td>509.000000</td>\n",
       "    </tr>\n",
       "  </tbody>\n",
       "</table>\n",
       "</div>"
      ],
      "text/plain": [
       "   Cylinders  Co2_emissions\n",
       "1          3     157.553846\n",
       "2          4     198.453886\n",
       "3          5     234.825424\n",
       "4          6     255.807649\n",
       "0          2     258.176471\n",
       "5          8     313.649072\n",
       "6         10     354.785714\n",
       "7         12     373.418919\n",
       "8         16     509.000000"
      ]
     },
     "execution_count": 45,
     "metadata": {},
     "output_type": "execute_result"
    }
   ],
   "source": [
    "catg_CY_Co2 = catg_CY_Co2.groupby(['Cylinders'],as_index=False).mean()\n",
    "catg_CY_Co2.sort_values(\"Co2_emissions\", axis = 0, ascending = True, \n",
    "                 inplace = True, na_position ='last')\n",
    "catg_CY_Co2"
   ]
  },
  {
   "cell_type": "markdown",
   "metadata": {},
   "source": [
    "**From our data, it seems that vehicles with 3 cylinders are, on average, the least expensive in terms of Co2 emissions by cars, vehicles 16 cylinders are on average most expensive in terms of Co2 emissoins by them.**"
   ]
  },
  {
   "cell_type": "code",
   "execution_count": 46,
   "metadata": {},
   "outputs": [
    {
     "data": {
      "text/html": [
       "<div>\n",
       "<style scoped>\n",
       "    .dataframe tbody tr th:only-of-type {\n",
       "        vertical-align: middle;\n",
       "    }\n",
       "\n",
       "    .dataframe tbody tr th {\n",
       "        vertical-align: top;\n",
       "    }\n",
       "\n",
       "    .dataframe thead th {\n",
       "        text-align: right;\n",
       "    }\n",
       "</style>\n",
       "<table border=\"1\" class=\"dataframe\">\n",
       "  <thead>\n",
       "    <tr style=\"text-align: right;\">\n",
       "      <th></th>\n",
       "      <th>Transmission</th>\n",
       "      <th>Co2_emissions</th>\n",
       "    </tr>\n",
       "  </thead>\n",
       "  <tbody>\n",
       "    <tr>\n",
       "      <th>0</th>\n",
       "      <td>A4</td>\n",
       "      <td>202</td>\n",
       "    </tr>\n",
       "    <tr>\n",
       "      <th>1</th>\n",
       "      <td>M5</td>\n",
       "      <td>193</td>\n",
       "    </tr>\n",
       "    <tr>\n",
       "      <th>2</th>\n",
       "      <td>M5</td>\n",
       "      <td>191</td>\n",
       "    </tr>\n",
       "    <tr>\n",
       "      <th>3</th>\n",
       "      <td>A4</td>\n",
       "      <td>251</td>\n",
       "    </tr>\n",
       "    <tr>\n",
       "      <th>4</th>\n",
       "      <td>A4</td>\n",
       "      <td>260</td>\n",
       "    </tr>\n",
       "  </tbody>\n",
       "</table>\n",
       "</div>"
      ],
      "text/plain": [
       "  Transmission  Co2_emissions\n",
       "0           A4            202\n",
       "1           M5            193\n",
       "2           M5            191\n",
       "3           A4            251\n",
       "4           A4            260"
      ]
     },
     "execution_count": 46,
     "metadata": {},
     "output_type": "execute_result"
    }
   ],
   "source": [
    "catg_TR_Co2 = data[['Transmission', 'Co2_emissions']]\n",
    "catg_TR_Co2.head()"
   ]
  },
  {
   "cell_type": "code",
   "execution_count": 47,
   "metadata": {},
   "outputs": [
    {
     "data": {
      "text/html": [
       "<div>\n",
       "<style scoped>\n",
       "    .dataframe tbody tr th:only-of-type {\n",
       "        vertical-align: middle;\n",
       "    }\n",
       "\n",
       "    .dataframe tbody tr th {\n",
       "        vertical-align: top;\n",
       "    }\n",
       "\n",
       "    .dataframe thead th {\n",
       "        text-align: right;\n",
       "    }\n",
       "</style>\n",
       "<table border=\"1\" class=\"dataframe\">\n",
       "  <thead>\n",
       "    <tr style=\"text-align: right;\">\n",
       "      <th></th>\n",
       "      <th>Transmission</th>\n",
       "      <th>Co2_emissions</th>\n",
       "    </tr>\n",
       "  </thead>\n",
       "  <tbody>\n",
       "    <tr>\n",
       "      <th>8</th>\n",
       "      <td>AM5</td>\n",
       "      <td>131.333333</td>\n",
       "    </tr>\n",
       "    <tr>\n",
       "      <th>25</th>\n",
       "      <td>M4</td>\n",
       "      <td>152.666667</td>\n",
       "    </tr>\n",
       "    <tr>\n",
       "      <th>20</th>\n",
       "      <td>AV</td>\n",
       "      <td>177.742779</td>\n",
       "    </tr>\n",
       "    <tr>\n",
       "      <th>21</th>\n",
       "      <td>AV10</td>\n",
       "      <td>185.090909</td>\n",
       "    </tr>\n",
       "    <tr>\n",
       "      <th>22</th>\n",
       "      <td>AV6</td>\n",
       "      <td>185.840000</td>\n",
       "    </tr>\n",
       "    <tr>\n",
       "      <th>23</th>\n",
       "      <td>AV7</td>\n",
       "      <td>189.991736</td>\n",
       "    </tr>\n",
       "    <tr>\n",
       "      <th>9</th>\n",
       "      <td>AM6</td>\n",
       "      <td>205.128866</td>\n",
       "    </tr>\n",
       "    <tr>\n",
       "      <th>24</th>\n",
       "      <td>AV8</td>\n",
       "      <td>214.125000</td>\n",
       "    </tr>\n",
       "    <tr>\n",
       "      <th>26</th>\n",
       "      <td>M5</td>\n",
       "      <td>223.729511</td>\n",
       "    </tr>\n",
       "    <tr>\n",
       "      <th>14</th>\n",
       "      <td>AS4</td>\n",
       "      <td>232.155039</td>\n",
       "    </tr>\n",
       "    <tr>\n",
       "      <th>27</th>\n",
       "      <td>M6</td>\n",
       "      <td>239.497025</td>\n",
       "    </tr>\n",
       "    <tr>\n",
       "      <th>16</th>\n",
       "      <td>AS6</td>\n",
       "      <td>242.734940</td>\n",
       "    </tr>\n",
       "    <tr>\n",
       "      <th>19</th>\n",
       "      <td>AS9</td>\n",
       "      <td>242.986667</td>\n",
       "    </tr>\n",
       "    <tr>\n",
       "      <th>1</th>\n",
       "      <td>A3</td>\n",
       "      <td>244.171123</td>\n",
       "    </tr>\n",
       "    <tr>\n",
       "      <th>7</th>\n",
       "      <td>A9</td>\n",
       "      <td>247.329377</td>\n",
       "    </tr>\n",
       "    <tr>\n",
       "      <th>15</th>\n",
       "      <td>AS5</td>\n",
       "      <td>249.697460</td>\n",
       "    </tr>\n",
       "    <tr>\n",
       "      <th>28</th>\n",
       "      <td>M7</td>\n",
       "      <td>252.699029</td>\n",
       "    </tr>\n",
       "    <tr>\n",
       "      <th>11</th>\n",
       "      <td>AM8</td>\n",
       "      <td>253.661290</td>\n",
       "    </tr>\n",
       "    <tr>\n",
       "      <th>18</th>\n",
       "      <td>AS8</td>\n",
       "      <td>259.539514</td>\n",
       "    </tr>\n",
       "    <tr>\n",
       "      <th>17</th>\n",
       "      <td>AS7</td>\n",
       "      <td>260.855000</td>\n",
       "    </tr>\n",
       "    <tr>\n",
       "      <th>12</th>\n",
       "      <td>AM9</td>\n",
       "      <td>261.000000</td>\n",
       "    </tr>\n",
       "    <tr>\n",
       "      <th>4</th>\n",
       "      <td>A6</td>\n",
       "      <td>265.190026</td>\n",
       "    </tr>\n",
       "    <tr>\n",
       "      <th>10</th>\n",
       "      <td>AM7</td>\n",
       "      <td>265.977230</td>\n",
       "    </tr>\n",
       "    <tr>\n",
       "      <th>6</th>\n",
       "      <td>A8</td>\n",
       "      <td>269.581513</td>\n",
       "    </tr>\n",
       "    <tr>\n",
       "      <th>2</th>\n",
       "      <td>A4</td>\n",
       "      <td>271.975779</td>\n",
       "    </tr>\n",
       "    <tr>\n",
       "      <th>5</th>\n",
       "      <td>A7</td>\n",
       "      <td>272.384058</td>\n",
       "    </tr>\n",
       "    <tr>\n",
       "      <th>3</th>\n",
       "      <td>A5</td>\n",
       "      <td>273.177681</td>\n",
       "    </tr>\n",
       "    <tr>\n",
       "      <th>13</th>\n",
       "      <td>AS10</td>\n",
       "      <td>283.525000</td>\n",
       "    </tr>\n",
       "    <tr>\n",
       "      <th>0</th>\n",
       "      <td>A10</td>\n",
       "      <td>315.161290</td>\n",
       "    </tr>\n",
       "  </tbody>\n",
       "</table>\n",
       "</div>"
      ],
      "text/plain": [
       "   Transmission  Co2_emissions\n",
       "8           AM5     131.333333\n",
       "25           M4     152.666667\n",
       "20           AV     177.742779\n",
       "21         AV10     185.090909\n",
       "22          AV6     185.840000\n",
       "23          AV7     189.991736\n",
       "9           AM6     205.128866\n",
       "24          AV8     214.125000\n",
       "26           M5     223.729511\n",
       "14          AS4     232.155039\n",
       "27           M6     239.497025\n",
       "16          AS6     242.734940\n",
       "19          AS9     242.986667\n",
       "1            A3     244.171123\n",
       "7            A9     247.329377\n",
       "15          AS5     249.697460\n",
       "28           M7     252.699029\n",
       "11          AM8     253.661290\n",
       "18          AS8     259.539514\n",
       "17          AS7     260.855000\n",
       "12          AM9     261.000000\n",
       "4            A6     265.190026\n",
       "10          AM7     265.977230\n",
       "6            A8     269.581513\n",
       "2            A4     271.975779\n",
       "5            A7     272.384058\n",
       "3            A5     273.177681\n",
       "13         AS10     283.525000\n",
       "0           A10     315.161290"
      ]
     },
     "execution_count": 47,
     "metadata": {},
     "output_type": "execute_result"
    }
   ],
   "source": [
    "catg_TR_Co2 = catg_TR_Co2.groupby(['Transmission'],as_index=False).mean()\n",
    "catg_TR_Co2.sort_values(\"Co2_emissions\", axis = 0, ascending = True, \n",
    "                 inplace = True, na_position ='last')\n",
    "catg_TR_Co2"
   ]
  },
  {
   "cell_type": "markdown",
   "metadata": {},
   "source": [
    "**From our data, it seems that vehicles with AM5 type of transmission are, on average, the least expensive in terms of Co2 emissions by cars, vehicles with A10 type of transmission are on average most expensive in terms of Co2 emissoins by them.**"
   ]
  },
  {
   "cell_type": "code",
   "execution_count": 48,
   "metadata": {},
   "outputs": [
    {
     "data": {
      "text/html": [
       "<div>\n",
       "<style scoped>\n",
       "    .dataframe tbody tr th:only-of-type {\n",
       "        vertical-align: middle;\n",
       "    }\n",
       "\n",
       "    .dataframe tbody tr th {\n",
       "        vertical-align: top;\n",
       "    }\n",
       "\n",
       "    .dataframe thead th {\n",
       "        text-align: right;\n",
       "    }\n",
       "</style>\n",
       "<table border=\"1\" class=\"dataframe\">\n",
       "  <thead>\n",
       "    <tr style=\"text-align: right;\">\n",
       "      <th></th>\n",
       "      <th>Fuel</th>\n",
       "      <th>Co2_emissions</th>\n",
       "    </tr>\n",
       "  </thead>\n",
       "  <tbody>\n",
       "    <tr>\n",
       "      <th>0</th>\n",
       "      <td>X</td>\n",
       "      <td>202</td>\n",
       "    </tr>\n",
       "    <tr>\n",
       "      <th>1</th>\n",
       "      <td>X</td>\n",
       "      <td>193</td>\n",
       "    </tr>\n",
       "    <tr>\n",
       "      <th>2</th>\n",
       "      <td>Z</td>\n",
       "      <td>191</td>\n",
       "    </tr>\n",
       "    <tr>\n",
       "      <th>3</th>\n",
       "      <td>Z</td>\n",
       "      <td>251</td>\n",
       "    </tr>\n",
       "    <tr>\n",
       "      <th>4</th>\n",
       "      <td>Z</td>\n",
       "      <td>260</td>\n",
       "    </tr>\n",
       "  </tbody>\n",
       "</table>\n",
       "</div>"
      ],
      "text/plain": [
       "  Fuel  Co2_emissions\n",
       "0    X            202\n",
       "1    X            193\n",
       "2    Z            191\n",
       "3    Z            251\n",
       "4    Z            260"
      ]
     },
     "execution_count": 48,
     "metadata": {},
     "output_type": "execute_result"
    }
   ],
   "source": [
    "catg_FU_Co2 = data[['Fuel', 'Co2_emissions']]\n",
    "catg_FU_Co2.head()"
   ]
  },
  {
   "cell_type": "code",
   "execution_count": 49,
   "metadata": {},
   "outputs": [
    {
     "data": {
      "text/html": [
       "<div>\n",
       "<style scoped>\n",
       "    .dataframe tbody tr th:only-of-type {\n",
       "        vertical-align: middle;\n",
       "    }\n",
       "\n",
       "    .dataframe tbody tr th {\n",
       "        vertical-align: top;\n",
       "    }\n",
       "\n",
       "    .dataframe thead th {\n",
       "        text-align: right;\n",
       "    }\n",
       "</style>\n",
       "<table border=\"1\" class=\"dataframe\">\n",
       "  <thead>\n",
       "    <tr style=\"text-align: right;\">\n",
       "      <th></th>\n",
       "      <th>Fuel</th>\n",
       "      <th>Co2_emissions</th>\n",
       "    </tr>\n",
       "  </thead>\n",
       "  <tbody>\n",
       "    <tr>\n",
       "      <th>0</th>\n",
       "      <td>D</td>\n",
       "      <td>237.478632</td>\n",
       "    </tr>\n",
       "    <tr>\n",
       "      <th>3</th>\n",
       "      <td>X</td>\n",
       "      <td>243.964602</td>\n",
       "    </tr>\n",
       "    <tr>\n",
       "      <th>4</th>\n",
       "      <td>Z</td>\n",
       "      <td>259.350451</td>\n",
       "    </tr>\n",
       "    <tr>\n",
       "      <th>1</th>\n",
       "      <td>E</td>\n",
       "      <td>269.977099</td>\n",
       "    </tr>\n",
       "    <tr>\n",
       "      <th>2</th>\n",
       "      <td>N</td>\n",
       "      <td>315.538462</td>\n",
       "    </tr>\n",
       "  </tbody>\n",
       "</table>\n",
       "</div>"
      ],
      "text/plain": [
       "  Fuel  Co2_emissions\n",
       "0    D     237.478632\n",
       "3    X     243.964602\n",
       "4    Z     259.350451\n",
       "1    E     269.977099\n",
       "2    N     315.538462"
      ]
     },
     "execution_count": 49,
     "metadata": {},
     "output_type": "execute_result"
    }
   ],
   "source": [
    "catg_FU_Co2 = catg_FU_Co2.groupby(['Fuel'],as_index=False).mean()\n",
    "catg_FU_Co2.sort_values(\"Co2_emissions\", axis = 0, ascending = True, \n",
    "                 inplace = True, na_position ='last')\n",
    "catg_FU_Co2"
   ]
  },
  {
   "cell_type": "markdown",
   "metadata": {},
   "source": [
    "**From our data, it seems that vehicles using the D type of fuel are, on average, the least expensive in terms of Co2 emissions by cars, vehicles using the N type of fuel are on average most expensive in terms of Co2 emissoins by them.**"
   ]
  },
  {
   "cell_type": "code",
   "execution_count": 50,
   "metadata": {},
   "outputs": [
    {
     "data": {
      "text/html": [
       "<div>\n",
       "<style scoped>\n",
       "    .dataframe tbody tr th:only-of-type {\n",
       "        vertical-align: middle;\n",
       "    }\n",
       "\n",
       "    .dataframe tbody tr th {\n",
       "        vertical-align: top;\n",
       "    }\n",
       "\n",
       "    .dataframe thead th {\n",
       "        text-align: right;\n",
       "    }\n",
       "</style>\n",
       "<table border=\"1\" class=\"dataframe\">\n",
       "  <thead>\n",
       "    <tr style=\"text-align: right;\">\n",
       "      <th></th>\n",
       "      <th>Vehicle_class</th>\n",
       "      <th>Cylinders</th>\n",
       "      <th>Transmission</th>\n",
       "      <th>Fuel</th>\n",
       "      <th>Co2_emissions</th>\n",
       "    </tr>\n",
       "  </thead>\n",
       "  <tbody>\n",
       "    <tr>\n",
       "      <th>0</th>\n",
       "      <td>SUBCOMPACT</td>\n",
       "      <td>4</td>\n",
       "      <td>A4</td>\n",
       "      <td>X</td>\n",
       "      <td>202</td>\n",
       "    </tr>\n",
       "    <tr>\n",
       "      <th>1</th>\n",
       "      <td>SUBCOMPACT</td>\n",
       "      <td>4</td>\n",
       "      <td>M5</td>\n",
       "      <td>X</td>\n",
       "      <td>193</td>\n",
       "    </tr>\n",
       "    <tr>\n",
       "      <th>2</th>\n",
       "      <td>SUBCOMPACT</td>\n",
       "      <td>4</td>\n",
       "      <td>M5</td>\n",
       "      <td>Z</td>\n",
       "      <td>191</td>\n",
       "    </tr>\n",
       "    <tr>\n",
       "      <th>3</th>\n",
       "      <td>COMPACT</td>\n",
       "      <td>6</td>\n",
       "      <td>A4</td>\n",
       "      <td>Z</td>\n",
       "      <td>251</td>\n",
       "    </tr>\n",
       "    <tr>\n",
       "      <th>4</th>\n",
       "      <td>COMPACT</td>\n",
       "      <td>6</td>\n",
       "      <td>A4</td>\n",
       "      <td>Z</td>\n",
       "      <td>260</td>\n",
       "    </tr>\n",
       "  </tbody>\n",
       "</table>\n",
       "</div>"
      ],
      "text/plain": [
       "  Vehicle_class  Cylinders Transmission Fuel  Co2_emissions\n",
       "0    SUBCOMPACT          4           A4    X            202\n",
       "1    SUBCOMPACT          4           M5    X            193\n",
       "2    SUBCOMPACT          4           M5    Z            191\n",
       "3       COMPACT          6           A4    Z            251\n",
       "4       COMPACT          6           A4    Z            260"
      ]
     },
     "execution_count": 50,
     "metadata": {},
     "output_type": "execute_result"
    }
   ],
   "source": [
    "catg_features = data[['Vehicle_class', 'Cylinders', 'Transmission', 'Fuel', 'Co2_emissions']]\n",
    "catg_features.head()"
   ]
  },
  {
   "cell_type": "code",
   "execution_count": 51,
   "metadata": {},
   "outputs": [],
   "source": [
    "catg_features = catg_features.groupby(['Vehicle_class', 'Cylinders', 'Transmission', 'Fuel'],as_index=False).mean()\n",
    "catg_features.sort_values(\"Co2_emissions\", axis = 0, ascending = True, \n",
    "                 inplace = True, na_position ='last')"
   ]
  },
  {
   "cell_type": "code",
   "execution_count": 52,
   "metadata": {},
   "outputs": [
    {
     "data": {
      "text/html": [
       "<div>\n",
       "<style scoped>\n",
       "    .dataframe tbody tr th:only-of-type {\n",
       "        vertical-align: middle;\n",
       "    }\n",
       "\n",
       "    .dataframe tbody tr th {\n",
       "        vertical-align: top;\n",
       "    }\n",
       "\n",
       "    .dataframe thead th {\n",
       "        text-align: right;\n",
       "    }\n",
       "</style>\n",
       "<table border=\"1\" class=\"dataframe\">\n",
       "  <thead>\n",
       "    <tr style=\"text-align: right;\">\n",
       "      <th></th>\n",
       "      <th>Vehicle_class</th>\n",
       "      <th>Cylinders</th>\n",
       "      <th>Transmission</th>\n",
       "      <th>Fuel</th>\n",
       "      <th>Co2_emissions</th>\n",
       "    </tr>\n",
       "  </thead>\n",
       "  <tbody>\n",
       "    <tr>\n",
       "      <th>1230</th>\n",
       "      <td>TWO-SEATER</td>\n",
       "      <td>3</td>\n",
       "      <td>M5</td>\n",
       "      <td>X</td>\n",
       "      <td>83.00</td>\n",
       "    </tr>\n",
       "    <tr>\n",
       "      <th>244</th>\n",
       "      <td>Full-size</td>\n",
       "      <td>4</td>\n",
       "      <td>AM6</td>\n",
       "      <td>X</td>\n",
       "      <td>98.75</td>\n",
       "    </tr>\n",
       "    <tr>\n",
       "      <th>164</th>\n",
       "      <td>FULL-SIZE</td>\n",
       "      <td>4</td>\n",
       "      <td>AM6</td>\n",
       "      <td>X</td>\n",
       "      <td>99.25</td>\n",
       "    </tr>\n",
       "    <tr>\n",
       "      <th>1231</th>\n",
       "      <td>TWO-SEATER</td>\n",
       "      <td>3</td>\n",
       "      <td>M6</td>\n",
       "      <td>D</td>\n",
       "      <td>113.00</td>\n",
       "    </tr>\n",
       "    <tr>\n",
       "      <th>1226</th>\n",
       "      <td>TWO-SEATER</td>\n",
       "      <td>3</td>\n",
       "      <td>A6</td>\n",
       "      <td>D</td>\n",
       "      <td>113.00</td>\n",
       "    </tr>\n",
       "  </tbody>\n",
       "</table>\n",
       "</div>"
      ],
      "text/plain": [
       "     Vehicle_class  Cylinders Transmission Fuel  Co2_emissions\n",
       "1230    TWO-SEATER          3           M5    X          83.00\n",
       "244      Full-size          4          AM6    X          98.75\n",
       "164      FULL-SIZE          4          AM6    X          99.25\n",
       "1231    TWO-SEATER          3           M6    D         113.00\n",
       "1226    TWO-SEATER          3           A6    D         113.00"
      ]
     },
     "execution_count": 52,
     "metadata": {},
     "output_type": "execute_result"
    }
   ],
   "source": [
    "catg_features.head()"
   ]
  },
  {
   "cell_type": "code",
   "execution_count": 53,
   "metadata": {},
   "outputs": [
    {
     "data": {
      "text/html": [
       "<div>\n",
       "<style scoped>\n",
       "    .dataframe tbody tr th:only-of-type {\n",
       "        vertical-align: middle;\n",
       "    }\n",
       "\n",
       "    .dataframe tbody tr th {\n",
       "        vertical-align: top;\n",
       "    }\n",
       "\n",
       "    .dataframe thead th {\n",
       "        text-align: right;\n",
       "    }\n",
       "</style>\n",
       "<table border=\"1\" class=\"dataframe\">\n",
       "  <thead>\n",
       "    <tr style=\"text-align: right;\">\n",
       "      <th></th>\n",
       "      <th>Vehicle_class</th>\n",
       "      <th>Cylinders</th>\n",
       "      <th>Transmission</th>\n",
       "      <th>Fuel</th>\n",
       "      <th>Co2_emissions</th>\n",
       "    </tr>\n",
       "  </thead>\n",
       "  <tbody>\n",
       "    <tr>\n",
       "      <th>1323</th>\n",
       "      <td>Two-seater</td>\n",
       "      <td>12</td>\n",
       "      <td>AM7</td>\n",
       "      <td>Z</td>\n",
       "      <td>489.5</td>\n",
       "    </tr>\n",
       "    <tr>\n",
       "      <th>1300</th>\n",
       "      <td>TWO-SEATER</td>\n",
       "      <td>16</td>\n",
       "      <td>AS7</td>\n",
       "      <td>Z</td>\n",
       "      <td>496.0</td>\n",
       "    </tr>\n",
       "    <tr>\n",
       "      <th>609</th>\n",
       "      <td>PICKUP TRUCK - STANDARD</td>\n",
       "      <td>10</td>\n",
       "      <td>A4</td>\n",
       "      <td>Z</td>\n",
       "      <td>513.0</td>\n",
       "    </tr>\n",
       "    <tr>\n",
       "      <th>1324</th>\n",
       "      <td>Two-seater</td>\n",
       "      <td>16</td>\n",
       "      <td>AM7</td>\n",
       "      <td>Z</td>\n",
       "      <td>522.0</td>\n",
       "    </tr>\n",
       "    <tr>\n",
       "      <th>1299</th>\n",
       "      <td>TWO-SEATER</td>\n",
       "      <td>16</td>\n",
       "      <td>AM7</td>\n",
       "      <td>Z</td>\n",
       "      <td>522.0</td>\n",
       "    </tr>\n",
       "  </tbody>\n",
       "</table>\n",
       "</div>"
      ],
      "text/plain": [
       "                Vehicle_class  Cylinders Transmission Fuel  Co2_emissions\n",
       "1323               Two-seater         12          AM7    Z          489.5\n",
       "1300               TWO-SEATER         16          AS7    Z          496.0\n",
       "609   PICKUP TRUCK - STANDARD         10           A4    Z          513.0\n",
       "1324               Two-seater         16          AM7    Z          522.0\n",
       "1299               TWO-SEATER         16          AM7    Z          522.0"
      ]
     },
     "execution_count": 53,
     "metadata": {},
     "output_type": "execute_result"
    }
   ],
   "source": [
    "catg_features.tail()"
   ]
  },
  {
   "cell_type": "markdown",
   "metadata": {},
   "source": [
    "**From our data, it seems that -**  \n",
    "* <b>vehicles in the class TWO-SEATER with 3 cylinders with M5 type of transmission and using X fuel type are, on average the least expensive in terms of Co2 emissions by cars,</b> and  \n",
    "* <b>vehicles  in the class Two-SEATER with 16 cylinders with AM7 type of transmission and using Z fuel type are, on average most expensive in terms of Co2 emissoins by them.</b>"
   ]
  },
  {
   "cell_type": "markdown",
   "metadata": {},
   "source": [
    "**Outlier detection and removal in the features of our data.**"
   ]
  },
  {
   "cell_type": "code",
   "execution_count": 54,
   "metadata": {},
   "outputs": [],
   "source": [
    "# Function: print_quantile_info(qu_dataset, qu_field)\n",
    "#   Print out the following information about the data\n",
    "#   - interquartile range\n",
    "#   - upper_inner_fence\n",
    "#   - lower_inner_fence\n",
    "#   - upper_outer_fence\n",
    "#   - lower_outer_fence\n",
    "#   - percentage of records out of inner fences\n",
    "#   - percentage of records out of outer fences\n",
    "# Input: \n",
    "#   - pandas dataframe (qu_dataset)\n",
    "#   - name of the column to analyze (qu_field)\n",
    "# Output:\n",
    "#   None\n",
    "\n",
    "def print_quantile_info(qu_dataset, qu_field):\n",
    "    a = qu_dataset[qu_field].describe()\n",
    "    \n",
    "    iqr = a[\"75%\"] - a[\"25%\"]\n",
    "    print(\"interquartile range:\", iqr)\n",
    "    \n",
    "    upper_inner_fence = a[\"75%\"] + 1.5 * iqr\n",
    "    lower_inner_fence = a[\"25%\"] - 1.5 * iqr\n",
    "    print(\"upper_inner_fence:\", upper_inner_fence)\n",
    "    print(\"lower_inner_fence:\", lower_inner_fence)\n",
    "    \n",
    "    upper_outer_fence = a[\"75%\"] + 3 * iqr\n",
    "    lower_outer_fence = a[\"25%\"] - 3 * iqr\n",
    "    print(\"upper_outer_fence:\", upper_outer_fence)\n",
    "    print(\"lower_outer_fence:\", lower_outer_fence)\n",
    "    \n",
    "    count_over_upper = len(qu_dataset[qu_dataset[qu_field]>upper_inner_fence])\n",
    "    count_under_lower = len(qu_dataset[qu_dataset[qu_field]<lower_inner_fence])\n",
    "    percentage = 100 * (count_under_lower + count_over_upper) / a[\"count\"]\n",
    "    print(\"percentage of records out of inner fences for \"  +qu_field+ \" is: %.2f\"% (percentage))\n",
    "    \n",
    "    count_over_upper = len(qu_dataset[qu_dataset[qu_field]>upper_outer_fence])\n",
    "    count_under_lower = len(qu_dataset[qu_dataset[qu_field]<lower_outer_fence])\n",
    "    percentage = 100 * (count_under_lower + count_over_upper) / a[\"count\"]\n",
    "    print(\"percentage of records out of outer fences for \"  +qu_field+ \" is: %.2f\"% (percentage))\n",
    "    \n",
    "    \n",
    "    # Function: remove_outliers_using_quantiles(qu_dataset, qu_field, qu_fence)\n",
    "#   1- Remove outliers according to the given fence value and return new dataframe.\n",
    "#   2- Print out the following information about the data\n",
    "#      - interquartile range\n",
    "#      - upper_inner_fence\n",
    "#      - lower_inner_fence\n",
    "#      - upper_outer_fence\n",
    "#      - lower_outer_fence\n",
    "#      - percentage of records out of inner fences\n",
    "#      - percentage of records out of outer fences\n",
    "# Input: \n",
    "#   - pandas dataframe (qu_dataset)\n",
    "#   - name of the column to analyze (qu_field)\n",
    "#   - inner (1.5*iqr) or outer (3.0*iqr) (qu_fence) values: \"inner\" or \"outer\"\n",
    "# Output:\n",
    "#   - new pandas dataframe (output_dataset)\n",
    "\n",
    "def remove_outliers_using_quantiles(qu_dataset, qu_field, qu_fence):\n",
    "    a = qu_dataset[qu_field].describe()\n",
    "    \n",
    "    iqr = a[\"75%\"] - a[\"25%\"]\n",
    "    print(\"interquartile range:\", iqr)\n",
    "    \n",
    "    upper_inner_fence = a[\"75%\"] + 1.5 * iqr\n",
    "    lower_inner_fence = a[\"25%\"] - 1.5 * iqr\n",
    "    print(\"upper_inner_fence:\", upper_inner_fence)\n",
    "    print(\"lower_inner_fence:\", lower_inner_fence)\n",
    "    \n",
    "    upper_outer_fence = a[\"75%\"] + 3 * iqr\n",
    "    lower_outer_fence = a[\"25%\"] - 3 * iqr\n",
    "    print(\"upper_outer_fence:\", upper_outer_fence)\n",
    "    print(\"lower_outer_fence:\", lower_outer_fence)\n",
    "    \n",
    "    count_over_upper = len(qu_dataset[qu_dataset[qu_field]>upper_inner_fence])\n",
    "    count_under_lower = len(qu_dataset[qu_dataset[qu_field]<lower_inner_fence])\n",
    "    percentage = 100 * (count_under_lower + count_over_upper) / a[\"count\"]\n",
    "    print(\"percentage of records out of inner fences: %.2f\"% (percentage))\n",
    "    \n",
    "    count_over_upper = len(qu_dataset[qu_dataset[qu_field]>upper_outer_fence])\n",
    "    count_under_lower = len(qu_dataset[qu_dataset[qu_field]<lower_outer_fence])\n",
    "    percentage = 100 * (count_under_lower + count_over_upper) / a[\"count\"]\n",
    "    print(\"percentage of records out of outer fences: %.2f\"% (percentage))\n",
    "    \n",
    "    if qu_fence == \"inner\":\n",
    "        output_dataset = qu_dataset[qu_dataset[qu_field]<=upper_inner_fence]\n",
    "        output_dataset = output_dataset[output_dataset[qu_field]>=lower_inner_fence]\n",
    "    elif qu_fence == \"outer\":\n",
    "        output_dataset = qu_dataset[qu_dataset[qu_field]<=upper_outer_fence]\n",
    "        output_dataset = output_dataset[output_dataset[qu_field]>=lower_outer_fence]\n",
    "    else:\n",
    "        output_dataset = qu_dataset\n",
    "    \n",
    "    print(\"length of input dataframe:\", len(qu_dataset))\n",
    "    print(\"length of new dataframe after outlier removal:\", len(output_dataset))\n",
    "    \n",
    "    return output_dataset"
   ]
  },
  {
   "cell_type": "code",
   "execution_count": 55,
   "metadata": {
    "scrolled": false
   },
   "outputs": [
    {
     "name": "stdout",
     "output_type": "stream",
     "text": [
      "interquartile range: 2.0\n",
      "upper_inner_fence: 7.3\n",
      "lower_inner_fence: -0.7000000000000002\n",
      "upper_outer_fence: 10.3\n",
      "lower_outer_fence: -3.7\n",
      "percentage of records out of inner fences for Engine_size is: 0.17\n",
      "percentage of records out of outer fences for Engine_size is: 0.00\n",
      "interquartile range: 4.0\n",
      "upper_inner_fence: 14.0\n",
      "lower_inner_fence: -2.0\n",
      "upper_outer_fence: 20.0\n",
      "lower_outer_fence: -8.0\n",
      "percentage of records out of inner fences for Cylinders is: 0.02\n",
      "percentage of records out of outer fences for Cylinders is: 0.00\n",
      "interquartile range: 4.300000000000001\n",
      "upper_inner_fence: 21.25\n",
      "lower_inner_fence: 4.049999999999999\n",
      "upper_outer_fence: 27.700000000000003\n",
      "lower_outer_fence: -2.400000000000002\n",
      "percentage of records out of inner fences for Fuel_con_city is: 2.18\n",
      "percentage of records out of outer fences for Fuel_con_city is: 0.05\n",
      "interquartile range: 2.8999999999999995\n",
      "upper_inner_fence: 14.549999999999999\n",
      "lower_inner_fence: 2.95\n",
      "upper_outer_fence: 18.9\n",
      "lower_outer_fence: -1.3999999999999995\n",
      "percentage of records out of inner fences for Fuel_con_hwy is: 2.13\n",
      "percentage of records out of outer fences for Fuel_con_hwy is: 0.04\n",
      "interquartile range: 3.700000000000001\n",
      "upper_inner_fence: 18.35\n",
      "lower_inner_fence: 3.549999999999998\n",
      "upper_outer_fence: 23.900000000000006\n",
      "lower_outer_fence: -2.0000000000000036\n",
      "percentage of records out of inner fences for Fuel_con_comb is: 2.07\n",
      "percentage of records out of outer fences for Fuel_con_comb is: 0.02\n",
      "interquartile range: 80.0\n",
      "upper_inner_fence: 409.0\n",
      "lower_inner_fence: 89.0\n",
      "upper_outer_fence: 529.0\n",
      "lower_outer_fence: -31.0\n",
      "percentage of records out of inner fences for Co2_emissions is: 0.91\n",
      "percentage of records out of outer fences for Co2_emissions is: 0.00\n"
     ]
    }
   ],
   "source": [
    "for col in ['Engine_size', 'Cylinders', 'Fuel_con_city', 'Fuel_con_hwy', 'Fuel_con_comb', 'Co2_emissions']:\n",
    "    print_quantile_info(data, col)\n",
    "\n",
    "# data.dropna(inplace=True)\n",
    "# new_dataset = remove_outliers_using_quantiles(data, \"Fuel_con_city\", \"outer\")"
   ]
  },
  {
   "cell_type": "markdown",
   "metadata": {},
   "source": [
    "**We can clearly see that our dataset does not contain outliers as such that it is necessary to remove them.**"
   ]
  },
  {
   "cell_type": "markdown",
   "metadata": {},
   "source": [
    "**Okay so now that we hae a deeper understanding of our dataset and its features,**  \n",
    "**let's move forward with the next steps in processing the dataset.**"
   ]
  },
  {
   "cell_type": "code",
   "execution_count": 56,
   "metadata": {},
   "outputs": [
    {
     "name": "stdout",
     "output_type": "stream",
     "text": [
      "   Vehicle_class_COMPACT  Vehicle_class_Compact  Vehicle_class_FULL-SIZE  \\\n",
      "0                      0                      0                        0   \n",
      "1                      0                      0                        0   \n",
      "2                      0                      0                        0   \n",
      "3                      1                      0                        0   \n",
      "4                      1                      0                        0   \n",
      "\n",
      "   Vehicle_class_Full-size  Vehicle_class_MID-SIZE  Vehicle_class_MINICOMPACT  \\\n",
      "0                        0                       0                          0   \n",
      "1                        0                       0                          0   \n",
      "2                        0                       0                          0   \n",
      "3                        0                       0                          0   \n",
      "4                        0                       0                          0   \n",
      "\n",
      "   Vehicle_class_MINIVAN  Vehicle_class_Mid-size  Vehicle_class_Minicompact  \\\n",
      "0                      0                       0                          0   \n",
      "1                      0                       0                          0   \n",
      "2                      0                       0                          0   \n",
      "3                      0                       0                          0   \n",
      "4                      0                       0                          0   \n",
      "\n",
      "   Vehicle_class_Minivan              ...               \\\n",
      "0                      0              ...                \n",
      "1                      0              ...                \n",
      "2                      0              ...                \n",
      "3                      0              ...                \n",
      "4                      0              ...                \n",
      "\n",
      "   Vehicle_class_SUV: Standard  Vehicle_class_Special purpose vehicle  \\\n",
      "0                            0                                      0   \n",
      "1                            0                                      0   \n",
      "2                            0                                      0   \n",
      "3                            0                                      0   \n",
      "4                            0                                      0   \n",
      "\n",
      "   Vehicle_class_Station wagon: Mid-size  Vehicle_class_Station wagon: Small  \\\n",
      "0                                      0                                   0   \n",
      "1                                      0                                   0   \n",
      "2                                      0                                   0   \n",
      "3                                      0                                   0   \n",
      "4                                      0                                   0   \n",
      "\n",
      "   Vehicle_class_Subcompact  Vehicle_class_TWO-SEATER  \\\n",
      "0                         0                         0   \n",
      "1                         0                         0   \n",
      "2                         0                         0   \n",
      "3                         0                         0   \n",
      "4                         0                         0   \n",
      "\n",
      "   Vehicle_class_Two-seater  Vehicle_class_VAN - CARGO  \\\n",
      "0                         0                          0   \n",
      "1                         0                          0   \n",
      "2                         0                          0   \n",
      "3                         0                          0   \n",
      "4                         0                          0   \n",
      "\n",
      "   Vehicle_class_VAN - PASSENGER  Vehicle_class_Van: Passenger  \n",
      "0                              0                             0  \n",
      "1                              0                             0  \n",
      "2                              0                             0  \n",
      "3                              0                             0  \n",
      "4                              0                             0  \n",
      "\n",
      "[5 rows x 32 columns]    cylinder_2  cylinder_3  cylinder_4  cylinder_5  cylinder_6  cylinder_8  \\\n",
      "0           0           0           1           0           0           0   \n",
      "1           0           0           1           0           0           0   \n",
      "2           0           0           1           0           0           0   \n",
      "3           0           0           0           0           1           0   \n",
      "4           0           0           0           0           1           0   \n",
      "\n",
      "   cylinder_10  cylinder_12  cylinder_16  \n",
      "0            0            0            0  \n",
      "1            0            0            0  \n",
      "2            0            0            0  \n",
      "3            0            0            0  \n",
      "4            0            0            0      Transmission_type_A10  Transmission_type_A3  Transmission_type_A4  \\\n",
      "0                      0                     0                     1   \n",
      "1                      0                     0                     0   \n",
      "2                      0                     0                     0   \n",
      "3                      0                     0                     1   \n",
      "4                      0                     0                     1   \n",
      "\n",
      "   Transmission_type_A5  Transmission_type_A6  Transmission_type_A7  \\\n",
      "0                     0                     0                     0   \n",
      "1                     0                     0                     0   \n",
      "2                     0                     0                     0   \n",
      "3                     0                     0                     0   \n",
      "4                     0                     0                     0   \n",
      "\n",
      "   Transmission_type_A8  Transmission_type_A9  Transmission_type_AM5  \\\n",
      "0                     0                     0                      0   \n",
      "1                     0                     0                      0   \n",
      "2                     0                     0                      0   \n",
      "3                     0                     0                      0   \n",
      "4                     0                     0                      0   \n",
      "\n",
      "   Transmission_type_AM6          ...           Transmission_type_AS9  \\\n",
      "0                      0          ...                               0   \n",
      "1                      0          ...                               0   \n",
      "2                      0          ...                               0   \n",
      "3                      0          ...                               0   \n",
      "4                      0          ...                               0   \n",
      "\n",
      "   Transmission_type_AV  Transmission_type_AV10  Transmission_type_AV6  \\\n",
      "0                     0                       0                      0   \n",
      "1                     0                       0                      0   \n",
      "2                     0                       0                      0   \n",
      "3                     0                       0                      0   \n",
      "4                     0                       0                      0   \n",
      "\n",
      "   Transmission_type_AV7  Transmission_type_AV8  Transmission_type_M4  \\\n",
      "0                      0                      0                     0   \n",
      "1                      0                      0                     0   \n",
      "2                      0                      0                     0   \n",
      "3                      0                      0                     0   \n",
      "4                      0                      0                     0   \n",
      "\n",
      "   Transmission_type_M5  Transmission_type_M6  Transmission_type_M7  \n",
      "0                     0                     0                     0  \n",
      "1                     1                     0                     0  \n",
      "2                     1                     0                     0  \n",
      "3                     0                     0                     0  \n",
      "4                     0                     0                     0  \n",
      "\n",
      "[5 rows x 29 columns]    Fuel_type_D  Fuel_type_E  Fuel_type_N  Fuel_type_X  Fuel_type_Z\n",
      "0            0            0            0            1            0\n",
      "1            0            0            0            1            0\n",
      "2            0            0            0            0            1\n",
      "3            0            0            0            0            1\n",
      "4            0            0            0            0            1\n"
     ]
    }
   ],
   "source": [
    "dummies_VC = pd.get_dummies(data['Vehicle_class'], prefix='Vehicle_class', prefix_sep = '_', drop_first=False)\n",
    "dummies_C = pd.get_dummies(data['Cylinders'], prefix='cylinder', prefix_sep = '_', drop_first=False)\n",
    "dummies_TR = pd.get_dummies(data['Transmission'], prefix='Transmission_', prefix_sep = 'type_', drop_first=False)\n",
    "dummies_F = pd.get_dummies(data['Fuel'], prefix='Fuel_', prefix_sep = 'type_', drop_first=False)\n",
    "\n",
    "print(dummies_VC.head(),\n",
    "dummies_C.head(),\n",
    "dummies_TR.head(),\n",
    "dummies_F.head())"
   ]
  },
  {
   "cell_type": "code",
   "execution_count": null,
   "metadata": {},
   "outputs": [],
   "source": []
  },
  {
   "cell_type": "code",
   "execution_count": 57,
   "metadata": {},
   "outputs": [
    {
     "data": {
      "text/html": [
       "<div>\n",
       "<style scoped>\n",
       "    .dataframe tbody tr th:only-of-type {\n",
       "        vertical-align: middle;\n",
       "    }\n",
       "\n",
       "    .dataframe tbody tr th {\n",
       "        vertical-align: top;\n",
       "    }\n",
       "\n",
       "    .dataframe thead th {\n",
       "        text-align: right;\n",
       "    }\n",
       "</style>\n",
       "<table border=\"1\" class=\"dataframe\">\n",
       "  <thead>\n",
       "    <tr style=\"text-align: right;\">\n",
       "      <th></th>\n",
       "      <th>Year_make_model</th>\n",
       "      <th>Engine_size</th>\n",
       "      <th>Fuel_con_city</th>\n",
       "      <th>Fuel_con_hwy</th>\n",
       "      <th>Fuel_con_comb</th>\n",
       "      <th>Co2_emissions</th>\n",
       "    </tr>\n",
       "  </thead>\n",
       "  <tbody>\n",
       "    <tr>\n",
       "      <th>0</th>\n",
       "      <td>1995-ACURA-INTEGRA</td>\n",
       "      <td>1.8</td>\n",
       "      <td>10.2</td>\n",
       "      <td>7.0</td>\n",
       "      <td>8.8</td>\n",
       "      <td>202</td>\n",
       "    </tr>\n",
       "    <tr>\n",
       "      <th>1</th>\n",
       "      <td>1995-ACURA-INTEGRA</td>\n",
       "      <td>1.8</td>\n",
       "      <td>9.6</td>\n",
       "      <td>7.0</td>\n",
       "      <td>8.4</td>\n",
       "      <td>193</td>\n",
       "    </tr>\n",
       "    <tr>\n",
       "      <th>2</th>\n",
       "      <td>1995-ACURA-INTEGRA GS-R</td>\n",
       "      <td>1.8</td>\n",
       "      <td>9.4</td>\n",
       "      <td>7.0</td>\n",
       "      <td>8.3</td>\n",
       "      <td>191</td>\n",
       "    </tr>\n",
       "    <tr>\n",
       "      <th>3</th>\n",
       "      <td>1995-ACURA-LEGEND</td>\n",
       "      <td>3.2</td>\n",
       "      <td>12.6</td>\n",
       "      <td>8.9</td>\n",
       "      <td>10.9</td>\n",
       "      <td>251</td>\n",
       "    </tr>\n",
       "    <tr>\n",
       "      <th>4</th>\n",
       "      <td>1995-ACURA-LEGEND COUPE</td>\n",
       "      <td>3.2</td>\n",
       "      <td>13.0</td>\n",
       "      <td>9.3</td>\n",
       "      <td>11.3</td>\n",
       "      <td>260</td>\n",
       "    </tr>\n",
       "  </tbody>\n",
       "</table>\n",
       "</div>"
      ],
      "text/plain": [
       "           Year_make_model  Engine_size  Fuel_con_city  Fuel_con_hwy  \\\n",
       "0       1995-ACURA-INTEGRA          1.8           10.2           7.0   \n",
       "1       1995-ACURA-INTEGRA          1.8            9.6           7.0   \n",
       "2  1995-ACURA-INTEGRA GS-R          1.8            9.4           7.0   \n",
       "3        1995-ACURA-LEGEND          3.2           12.6           8.9   \n",
       "4  1995-ACURA-LEGEND COUPE          3.2           13.0           9.3   \n",
       "\n",
       "   Fuel_con_comb  Co2_emissions  \n",
       "0            8.8            202  \n",
       "1            8.4            193  \n",
       "2            8.3            191  \n",
       "3           10.9            251  \n",
       "4           11.3            260  "
      ]
     },
     "execution_count": 57,
     "metadata": {},
     "output_type": "execute_result"
    }
   ],
   "source": [
    "data = data.drop(['Vehicle_class', 'Cylinders', 'Transmission', 'Fuel'], 1)\n",
    "data.head()"
   ]
  },
  {
   "cell_type": "code",
   "execution_count": 58,
   "metadata": {},
   "outputs": [
    {
     "data": {
      "text/html": [
       "<div>\n",
       "<style scoped>\n",
       "    .dataframe tbody tr th:only-of-type {\n",
       "        vertical-align: middle;\n",
       "    }\n",
       "\n",
       "    .dataframe tbody tr th {\n",
       "        vertical-align: top;\n",
       "    }\n",
       "\n",
       "    .dataframe thead th {\n",
       "        text-align: right;\n",
       "    }\n",
       "</style>\n",
       "<table border=\"1\" class=\"dataframe\">\n",
       "  <thead>\n",
       "    <tr style=\"text-align: right;\">\n",
       "      <th></th>\n",
       "      <th>Year_make_model</th>\n",
       "      <th>Engine_size</th>\n",
       "      <th>Fuel_con_city</th>\n",
       "      <th>Fuel_con_hwy</th>\n",
       "      <th>Fuel_con_comb</th>\n",
       "      <th>Co2_emissions</th>\n",
       "      <th>Vehicle_class_COMPACT</th>\n",
       "      <th>Vehicle_class_Compact</th>\n",
       "      <th>Vehicle_class_FULL-SIZE</th>\n",
       "      <th>Vehicle_class_Full-size</th>\n",
       "      <th>...</th>\n",
       "      <th>Transmission_type_AV8</th>\n",
       "      <th>Transmission_type_M4</th>\n",
       "      <th>Transmission_type_M5</th>\n",
       "      <th>Transmission_type_M6</th>\n",
       "      <th>Transmission_type_M7</th>\n",
       "      <th>Fuel_type_D</th>\n",
       "      <th>Fuel_type_E</th>\n",
       "      <th>Fuel_type_N</th>\n",
       "      <th>Fuel_type_X</th>\n",
       "      <th>Fuel_type_Z</th>\n",
       "    </tr>\n",
       "  </thead>\n",
       "  <tbody>\n",
       "    <tr>\n",
       "      <th>0</th>\n",
       "      <td>1995-ACURA-INTEGRA</td>\n",
       "      <td>1.8</td>\n",
       "      <td>10.2</td>\n",
       "      <td>7.0</td>\n",
       "      <td>8.8</td>\n",
       "      <td>202</td>\n",
       "      <td>0</td>\n",
       "      <td>0</td>\n",
       "      <td>0</td>\n",
       "      <td>0</td>\n",
       "      <td>...</td>\n",
       "      <td>0</td>\n",
       "      <td>0</td>\n",
       "      <td>0</td>\n",
       "      <td>0</td>\n",
       "      <td>0</td>\n",
       "      <td>0</td>\n",
       "      <td>0</td>\n",
       "      <td>0</td>\n",
       "      <td>1</td>\n",
       "      <td>0</td>\n",
       "    </tr>\n",
       "    <tr>\n",
       "      <th>1</th>\n",
       "      <td>1995-ACURA-INTEGRA</td>\n",
       "      <td>1.8</td>\n",
       "      <td>9.6</td>\n",
       "      <td>7.0</td>\n",
       "      <td>8.4</td>\n",
       "      <td>193</td>\n",
       "      <td>0</td>\n",
       "      <td>0</td>\n",
       "      <td>0</td>\n",
       "      <td>0</td>\n",
       "      <td>...</td>\n",
       "      <td>0</td>\n",
       "      <td>0</td>\n",
       "      <td>1</td>\n",
       "      <td>0</td>\n",
       "      <td>0</td>\n",
       "      <td>0</td>\n",
       "      <td>0</td>\n",
       "      <td>0</td>\n",
       "      <td>1</td>\n",
       "      <td>0</td>\n",
       "    </tr>\n",
       "    <tr>\n",
       "      <th>2</th>\n",
       "      <td>1995-ACURA-INTEGRA GS-R</td>\n",
       "      <td>1.8</td>\n",
       "      <td>9.4</td>\n",
       "      <td>7.0</td>\n",
       "      <td>8.3</td>\n",
       "      <td>191</td>\n",
       "      <td>0</td>\n",
       "      <td>0</td>\n",
       "      <td>0</td>\n",
       "      <td>0</td>\n",
       "      <td>...</td>\n",
       "      <td>0</td>\n",
       "      <td>0</td>\n",
       "      <td>1</td>\n",
       "      <td>0</td>\n",
       "      <td>0</td>\n",
       "      <td>0</td>\n",
       "      <td>0</td>\n",
       "      <td>0</td>\n",
       "      <td>0</td>\n",
       "      <td>1</td>\n",
       "    </tr>\n",
       "    <tr>\n",
       "      <th>3</th>\n",
       "      <td>1995-ACURA-LEGEND</td>\n",
       "      <td>3.2</td>\n",
       "      <td>12.6</td>\n",
       "      <td>8.9</td>\n",
       "      <td>10.9</td>\n",
       "      <td>251</td>\n",
       "      <td>1</td>\n",
       "      <td>0</td>\n",
       "      <td>0</td>\n",
       "      <td>0</td>\n",
       "      <td>...</td>\n",
       "      <td>0</td>\n",
       "      <td>0</td>\n",
       "      <td>0</td>\n",
       "      <td>0</td>\n",
       "      <td>0</td>\n",
       "      <td>0</td>\n",
       "      <td>0</td>\n",
       "      <td>0</td>\n",
       "      <td>0</td>\n",
       "      <td>1</td>\n",
       "    </tr>\n",
       "    <tr>\n",
       "      <th>4</th>\n",
       "      <td>1995-ACURA-LEGEND COUPE</td>\n",
       "      <td>3.2</td>\n",
       "      <td>13.0</td>\n",
       "      <td>9.3</td>\n",
       "      <td>11.3</td>\n",
       "      <td>260</td>\n",
       "      <td>1</td>\n",
       "      <td>0</td>\n",
       "      <td>0</td>\n",
       "      <td>0</td>\n",
       "      <td>...</td>\n",
       "      <td>0</td>\n",
       "      <td>0</td>\n",
       "      <td>0</td>\n",
       "      <td>0</td>\n",
       "      <td>0</td>\n",
       "      <td>0</td>\n",
       "      <td>0</td>\n",
       "      <td>0</td>\n",
       "      <td>0</td>\n",
       "      <td>1</td>\n",
       "    </tr>\n",
       "  </tbody>\n",
       "</table>\n",
       "<p>5 rows × 81 columns</p>\n",
       "</div>"
      ],
      "text/plain": [
       "           Year_make_model  Engine_size  Fuel_con_city  Fuel_con_hwy  \\\n",
       "0       1995-ACURA-INTEGRA          1.8           10.2           7.0   \n",
       "1       1995-ACURA-INTEGRA          1.8            9.6           7.0   \n",
       "2  1995-ACURA-INTEGRA GS-R          1.8            9.4           7.0   \n",
       "3        1995-ACURA-LEGEND          3.2           12.6           8.9   \n",
       "4  1995-ACURA-LEGEND COUPE          3.2           13.0           9.3   \n",
       "\n",
       "   Fuel_con_comb  Co2_emissions  Vehicle_class_COMPACT  Vehicle_class_Compact  \\\n",
       "0            8.8            202                      0                      0   \n",
       "1            8.4            193                      0                      0   \n",
       "2            8.3            191                      0                      0   \n",
       "3           10.9            251                      1                      0   \n",
       "4           11.3            260                      1                      0   \n",
       "\n",
       "   Vehicle_class_FULL-SIZE  Vehicle_class_Full-size     ...       \\\n",
       "0                        0                        0     ...        \n",
       "1                        0                        0     ...        \n",
       "2                        0                        0     ...        \n",
       "3                        0                        0     ...        \n",
       "4                        0                        0     ...        \n",
       "\n",
       "   Transmission_type_AV8  Transmission_type_M4  Transmission_type_M5  \\\n",
       "0                      0                     0                     0   \n",
       "1                      0                     0                     1   \n",
       "2                      0                     0                     1   \n",
       "3                      0                     0                     0   \n",
       "4                      0                     0                     0   \n",
       "\n",
       "   Transmission_type_M6  Transmission_type_M7  Fuel_type_D  Fuel_type_E  \\\n",
       "0                     0                     0            0            0   \n",
       "1                     0                     0            0            0   \n",
       "2                     0                     0            0            0   \n",
       "3                     0                     0            0            0   \n",
       "4                     0                     0            0            0   \n",
       "\n",
       "   Fuel_type_N  Fuel_type_X  Fuel_type_Z  \n",
       "0            0            1            0  \n",
       "1            0            1            0  \n",
       "2            0            0            1  \n",
       "3            0            0            1  \n",
       "4            0            0            1  \n",
       "\n",
       "[5 rows x 81 columns]"
      ]
     },
     "execution_count": 58,
     "metadata": {},
     "output_type": "execute_result"
    }
   ],
   "source": [
    "data = pd.concat([data, dummies_VC, dummies_C, dummies_TR, dummies_F], axis=1)\n",
    "data.head()"
   ]
  },
  {
   "cell_type": "code",
   "execution_count": 59,
   "metadata": {},
   "outputs": [
    {
     "data": {
      "text/plain": [
       "(24092, 81)"
      ]
     },
     "execution_count": 59,
     "metadata": {},
     "output_type": "execute_result"
    }
   ],
   "source": [
    "data.shape"
   ]
  },
  {
   "cell_type": "code",
   "execution_count": 60,
   "metadata": {},
   "outputs": [
    {
     "data": {
      "text/html": [
       "<div>\n",
       "<style scoped>\n",
       "    .dataframe tbody tr th:only-of-type {\n",
       "        vertical-align: middle;\n",
       "    }\n",
       "\n",
       "    .dataframe tbody tr th {\n",
       "        vertical-align: top;\n",
       "    }\n",
       "\n",
       "    .dataframe thead th {\n",
       "        text-align: right;\n",
       "    }\n",
       "</style>\n",
       "<table border=\"1\" class=\"dataframe\">\n",
       "  <thead>\n",
       "    <tr style=\"text-align: right;\">\n",
       "      <th></th>\n",
       "      <th>Engine_size</th>\n",
       "      <th>Fuel_con_city</th>\n",
       "      <th>Fuel_con_hwy</th>\n",
       "      <th>Fuel_con_comb</th>\n",
       "      <th>Co2_emissions</th>\n",
       "      <th>Vehicle_class_COMPACT</th>\n",
       "      <th>Vehicle_class_Compact</th>\n",
       "      <th>Vehicle_class_FULL-SIZE</th>\n",
       "      <th>Vehicle_class_Full-size</th>\n",
       "      <th>Vehicle_class_MID-SIZE</th>\n",
       "      <th>...</th>\n",
       "      <th>Transmission_type_AV8</th>\n",
       "      <th>Transmission_type_M4</th>\n",
       "      <th>Transmission_type_M5</th>\n",
       "      <th>Transmission_type_M6</th>\n",
       "      <th>Transmission_type_M7</th>\n",
       "      <th>Fuel_type_D</th>\n",
       "      <th>Fuel_type_E</th>\n",
       "      <th>Fuel_type_N</th>\n",
       "      <th>Fuel_type_X</th>\n",
       "      <th>Fuel_type_Z</th>\n",
       "    </tr>\n",
       "  </thead>\n",
       "  <tbody>\n",
       "    <tr>\n",
       "      <th>0</th>\n",
       "      <td>1.8</td>\n",
       "      <td>10.2</td>\n",
       "      <td>7.0</td>\n",
       "      <td>8.8</td>\n",
       "      <td>202</td>\n",
       "      <td>0</td>\n",
       "      <td>0</td>\n",
       "      <td>0</td>\n",
       "      <td>0</td>\n",
       "      <td>0</td>\n",
       "      <td>...</td>\n",
       "      <td>0</td>\n",
       "      <td>0</td>\n",
       "      <td>0</td>\n",
       "      <td>0</td>\n",
       "      <td>0</td>\n",
       "      <td>0</td>\n",
       "      <td>0</td>\n",
       "      <td>0</td>\n",
       "      <td>1</td>\n",
       "      <td>0</td>\n",
       "    </tr>\n",
       "    <tr>\n",
       "      <th>1</th>\n",
       "      <td>1.8</td>\n",
       "      <td>9.6</td>\n",
       "      <td>7.0</td>\n",
       "      <td>8.4</td>\n",
       "      <td>193</td>\n",
       "      <td>0</td>\n",
       "      <td>0</td>\n",
       "      <td>0</td>\n",
       "      <td>0</td>\n",
       "      <td>0</td>\n",
       "      <td>...</td>\n",
       "      <td>0</td>\n",
       "      <td>0</td>\n",
       "      <td>1</td>\n",
       "      <td>0</td>\n",
       "      <td>0</td>\n",
       "      <td>0</td>\n",
       "      <td>0</td>\n",
       "      <td>0</td>\n",
       "      <td>1</td>\n",
       "      <td>0</td>\n",
       "    </tr>\n",
       "    <tr>\n",
       "      <th>2</th>\n",
       "      <td>1.8</td>\n",
       "      <td>9.4</td>\n",
       "      <td>7.0</td>\n",
       "      <td>8.3</td>\n",
       "      <td>191</td>\n",
       "      <td>0</td>\n",
       "      <td>0</td>\n",
       "      <td>0</td>\n",
       "      <td>0</td>\n",
       "      <td>0</td>\n",
       "      <td>...</td>\n",
       "      <td>0</td>\n",
       "      <td>0</td>\n",
       "      <td>1</td>\n",
       "      <td>0</td>\n",
       "      <td>0</td>\n",
       "      <td>0</td>\n",
       "      <td>0</td>\n",
       "      <td>0</td>\n",
       "      <td>0</td>\n",
       "      <td>1</td>\n",
       "    </tr>\n",
       "    <tr>\n",
       "      <th>3</th>\n",
       "      <td>3.2</td>\n",
       "      <td>12.6</td>\n",
       "      <td>8.9</td>\n",
       "      <td>10.9</td>\n",
       "      <td>251</td>\n",
       "      <td>1</td>\n",
       "      <td>0</td>\n",
       "      <td>0</td>\n",
       "      <td>0</td>\n",
       "      <td>0</td>\n",
       "      <td>...</td>\n",
       "      <td>0</td>\n",
       "      <td>0</td>\n",
       "      <td>0</td>\n",
       "      <td>0</td>\n",
       "      <td>0</td>\n",
       "      <td>0</td>\n",
       "      <td>0</td>\n",
       "      <td>0</td>\n",
       "      <td>0</td>\n",
       "      <td>1</td>\n",
       "    </tr>\n",
       "    <tr>\n",
       "      <th>4</th>\n",
       "      <td>3.2</td>\n",
       "      <td>13.0</td>\n",
       "      <td>9.3</td>\n",
       "      <td>11.3</td>\n",
       "      <td>260</td>\n",
       "      <td>1</td>\n",
       "      <td>0</td>\n",
       "      <td>0</td>\n",
       "      <td>0</td>\n",
       "      <td>0</td>\n",
       "      <td>...</td>\n",
       "      <td>0</td>\n",
       "      <td>0</td>\n",
       "      <td>0</td>\n",
       "      <td>0</td>\n",
       "      <td>0</td>\n",
       "      <td>0</td>\n",
       "      <td>0</td>\n",
       "      <td>0</td>\n",
       "      <td>0</td>\n",
       "      <td>1</td>\n",
       "    </tr>\n",
       "  </tbody>\n",
       "</table>\n",
       "<p>5 rows × 80 columns</p>\n",
       "</div>"
      ],
      "text/plain": [
       "   Engine_size  Fuel_con_city  Fuel_con_hwy  Fuel_con_comb  Co2_emissions  \\\n",
       "0          1.8           10.2           7.0            8.8            202   \n",
       "1          1.8            9.6           7.0            8.4            193   \n",
       "2          1.8            9.4           7.0            8.3            191   \n",
       "3          3.2           12.6           8.9           10.9            251   \n",
       "4          3.2           13.0           9.3           11.3            260   \n",
       "\n",
       "   Vehicle_class_COMPACT  Vehicle_class_Compact  Vehicle_class_FULL-SIZE  \\\n",
       "0                      0                      0                        0   \n",
       "1                      0                      0                        0   \n",
       "2                      0                      0                        0   \n",
       "3                      1                      0                        0   \n",
       "4                      1                      0                        0   \n",
       "\n",
       "   Vehicle_class_Full-size  Vehicle_class_MID-SIZE     ...       \\\n",
       "0                        0                       0     ...        \n",
       "1                        0                       0     ...        \n",
       "2                        0                       0     ...        \n",
       "3                        0                       0     ...        \n",
       "4                        0                       0     ...        \n",
       "\n",
       "   Transmission_type_AV8  Transmission_type_M4  Transmission_type_M5  \\\n",
       "0                      0                     0                     0   \n",
       "1                      0                     0                     1   \n",
       "2                      0                     0                     1   \n",
       "3                      0                     0                     0   \n",
       "4                      0                     0                     0   \n",
       "\n",
       "   Transmission_type_M6  Transmission_type_M7  Fuel_type_D  Fuel_type_E  \\\n",
       "0                     0                     0            0            0   \n",
       "1                     0                     0            0            0   \n",
       "2                     0                     0            0            0   \n",
       "3                     0                     0            0            0   \n",
       "4                     0                     0            0            0   \n",
       "\n",
       "   Fuel_type_N  Fuel_type_X  Fuel_type_Z  \n",
       "0            0            1            0  \n",
       "1            0            1            0  \n",
       "2            0            0            1  \n",
       "3            0            0            1  \n",
       "4            0            0            1  \n",
       "\n",
       "[5 rows x 80 columns]"
      ]
     },
     "execution_count": 60,
     "metadata": {},
     "output_type": "execute_result"
    }
   ],
   "source": [
    "data = data.drop(['Year_make_model'], 1)  # droping the ID feature from our dataset because it is not necesary in our prediction.\n",
    "data.head()"
   ]
  },
  {
   "cell_type": "code",
   "execution_count": 63,
   "metadata": {},
   "outputs": [
    {
     "data": {
      "text/html": [
       "<div>\n",
       "<style scoped>\n",
       "    .dataframe tbody tr th:only-of-type {\n",
       "        vertical-align: middle;\n",
       "    }\n",
       "\n",
       "    .dataframe tbody tr th {\n",
       "        vertical-align: top;\n",
       "    }\n",
       "\n",
       "    .dataframe thead th {\n",
       "        text-align: right;\n",
       "    }\n",
       "</style>\n",
       "<table border=\"1\" class=\"dataframe\">\n",
       "  <thead>\n",
       "    <tr style=\"text-align: right;\">\n",
       "      <th></th>\n",
       "      <th>Engine_size</th>\n",
       "      <th>Fuel_con_city</th>\n",
       "      <th>Fuel_con_hwy</th>\n",
       "      <th>Fuel_con_comb</th>\n",
       "      <th>Vehicle_class_COMPACT</th>\n",
       "      <th>Vehicle_class_Compact</th>\n",
       "      <th>Vehicle_class_FULL-SIZE</th>\n",
       "      <th>Vehicle_class_Full-size</th>\n",
       "      <th>Vehicle_class_MID-SIZE</th>\n",
       "      <th>Vehicle_class_MINICOMPACT</th>\n",
       "      <th>...</th>\n",
       "      <th>Transmission_type_AV8</th>\n",
       "      <th>Transmission_type_M4</th>\n",
       "      <th>Transmission_type_M5</th>\n",
       "      <th>Transmission_type_M6</th>\n",
       "      <th>Transmission_type_M7</th>\n",
       "      <th>Fuel_type_D</th>\n",
       "      <th>Fuel_type_E</th>\n",
       "      <th>Fuel_type_N</th>\n",
       "      <th>Fuel_type_X</th>\n",
       "      <th>Fuel_type_Z</th>\n",
       "    </tr>\n",
       "  </thead>\n",
       "  <tbody>\n",
       "    <tr>\n",
       "      <th>0</th>\n",
       "      <td>1.8</td>\n",
       "      <td>10.2</td>\n",
       "      <td>7.0</td>\n",
       "      <td>8.8</td>\n",
       "      <td>0</td>\n",
       "      <td>0</td>\n",
       "      <td>0</td>\n",
       "      <td>0</td>\n",
       "      <td>0</td>\n",
       "      <td>0</td>\n",
       "      <td>...</td>\n",
       "      <td>0</td>\n",
       "      <td>0</td>\n",
       "      <td>0</td>\n",
       "      <td>0</td>\n",
       "      <td>0</td>\n",
       "      <td>0</td>\n",
       "      <td>0</td>\n",
       "      <td>0</td>\n",
       "      <td>1</td>\n",
       "      <td>0</td>\n",
       "    </tr>\n",
       "    <tr>\n",
       "      <th>1</th>\n",
       "      <td>1.8</td>\n",
       "      <td>9.6</td>\n",
       "      <td>7.0</td>\n",
       "      <td>8.4</td>\n",
       "      <td>0</td>\n",
       "      <td>0</td>\n",
       "      <td>0</td>\n",
       "      <td>0</td>\n",
       "      <td>0</td>\n",
       "      <td>0</td>\n",
       "      <td>...</td>\n",
       "      <td>0</td>\n",
       "      <td>0</td>\n",
       "      <td>1</td>\n",
       "      <td>0</td>\n",
       "      <td>0</td>\n",
       "      <td>0</td>\n",
       "      <td>0</td>\n",
       "      <td>0</td>\n",
       "      <td>1</td>\n",
       "      <td>0</td>\n",
       "    </tr>\n",
       "    <tr>\n",
       "      <th>2</th>\n",
       "      <td>1.8</td>\n",
       "      <td>9.4</td>\n",
       "      <td>7.0</td>\n",
       "      <td>8.3</td>\n",
       "      <td>0</td>\n",
       "      <td>0</td>\n",
       "      <td>0</td>\n",
       "      <td>0</td>\n",
       "      <td>0</td>\n",
       "      <td>0</td>\n",
       "      <td>...</td>\n",
       "      <td>0</td>\n",
       "      <td>0</td>\n",
       "      <td>1</td>\n",
       "      <td>0</td>\n",
       "      <td>0</td>\n",
       "      <td>0</td>\n",
       "      <td>0</td>\n",
       "      <td>0</td>\n",
       "      <td>0</td>\n",
       "      <td>1</td>\n",
       "    </tr>\n",
       "    <tr>\n",
       "      <th>3</th>\n",
       "      <td>3.2</td>\n",
       "      <td>12.6</td>\n",
       "      <td>8.9</td>\n",
       "      <td>10.9</td>\n",
       "      <td>1</td>\n",
       "      <td>0</td>\n",
       "      <td>0</td>\n",
       "      <td>0</td>\n",
       "      <td>0</td>\n",
       "      <td>0</td>\n",
       "      <td>...</td>\n",
       "      <td>0</td>\n",
       "      <td>0</td>\n",
       "      <td>0</td>\n",
       "      <td>0</td>\n",
       "      <td>0</td>\n",
       "      <td>0</td>\n",
       "      <td>0</td>\n",
       "      <td>0</td>\n",
       "      <td>0</td>\n",
       "      <td>1</td>\n",
       "    </tr>\n",
       "    <tr>\n",
       "      <th>4</th>\n",
       "      <td>3.2</td>\n",
       "      <td>13.0</td>\n",
       "      <td>9.3</td>\n",
       "      <td>11.3</td>\n",
       "      <td>1</td>\n",
       "      <td>0</td>\n",
       "      <td>0</td>\n",
       "      <td>0</td>\n",
       "      <td>0</td>\n",
       "      <td>0</td>\n",
       "      <td>...</td>\n",
       "      <td>0</td>\n",
       "      <td>0</td>\n",
       "      <td>0</td>\n",
       "      <td>0</td>\n",
       "      <td>0</td>\n",
       "      <td>0</td>\n",
       "      <td>0</td>\n",
       "      <td>0</td>\n",
       "      <td>0</td>\n",
       "      <td>1</td>\n",
       "    </tr>\n",
       "  </tbody>\n",
       "</table>\n",
       "<p>5 rows × 79 columns</p>\n",
       "</div>"
      ],
      "text/plain": [
       "   Engine_size  Fuel_con_city  Fuel_con_hwy  Fuel_con_comb  \\\n",
       "0          1.8           10.2           7.0            8.8   \n",
       "1          1.8            9.6           7.0            8.4   \n",
       "2          1.8            9.4           7.0            8.3   \n",
       "3          3.2           12.6           8.9           10.9   \n",
       "4          3.2           13.0           9.3           11.3   \n",
       "\n",
       "   Vehicle_class_COMPACT  Vehicle_class_Compact  Vehicle_class_FULL-SIZE  \\\n",
       "0                      0                      0                        0   \n",
       "1                      0                      0                        0   \n",
       "2                      0                      0                        0   \n",
       "3                      1                      0                        0   \n",
       "4                      1                      0                        0   \n",
       "\n",
       "   Vehicle_class_Full-size  Vehicle_class_MID-SIZE  Vehicle_class_MINICOMPACT  \\\n",
       "0                        0                       0                          0   \n",
       "1                        0                       0                          0   \n",
       "2                        0                       0                          0   \n",
       "3                        0                       0                          0   \n",
       "4                        0                       0                          0   \n",
       "\n",
       "      ...       Transmission_type_AV8  Transmission_type_M4  \\\n",
       "0     ...                           0                     0   \n",
       "1     ...                           0                     0   \n",
       "2     ...                           0                     0   \n",
       "3     ...                           0                     0   \n",
       "4     ...                           0                     0   \n",
       "\n",
       "   Transmission_type_M5  Transmission_type_M6  Transmission_type_M7  \\\n",
       "0                     0                     0                     0   \n",
       "1                     1                     0                     0   \n",
       "2                     1                     0                     0   \n",
       "3                     0                     0                     0   \n",
       "4                     0                     0                     0   \n",
       "\n",
       "   Fuel_type_D  Fuel_type_E  Fuel_type_N  Fuel_type_X  Fuel_type_Z  \n",
       "0            0            0            0            1            0  \n",
       "1            0            0            0            1            0  \n",
       "2            0            0            0            0            1  \n",
       "3            0            0            0            0            1  \n",
       "4            0            0            0            0            1  \n",
       "\n",
       "[5 rows x 79 columns]"
      ]
     },
     "execution_count": 63,
     "metadata": {},
     "output_type": "execute_result"
    }
   ],
   "source": [
    "x_data = data.drop('Co2_emissions', axis = 1)\n",
    "x.head()"
   ]
  },
  {
   "cell_type": "code",
   "execution_count": 64,
   "metadata": {},
   "outputs": [
    {
     "data": {
      "text/html": [
       "<div>\n",
       "<style scoped>\n",
       "    .dataframe tbody tr th:only-of-type {\n",
       "        vertical-align: middle;\n",
       "    }\n",
       "\n",
       "    .dataframe tbody tr th {\n",
       "        vertical-align: top;\n",
       "    }\n",
       "\n",
       "    .dataframe thead th {\n",
       "        text-align: right;\n",
       "    }\n",
       "</style>\n",
       "<table border=\"1\" class=\"dataframe\">\n",
       "  <thead>\n",
       "    <tr style=\"text-align: right;\">\n",
       "      <th></th>\n",
       "      <th>Co2_emissions</th>\n",
       "    </tr>\n",
       "  </thead>\n",
       "  <tbody>\n",
       "    <tr>\n",
       "      <th>0</th>\n",
       "      <td>202</td>\n",
       "    </tr>\n",
       "    <tr>\n",
       "      <th>1</th>\n",
       "      <td>193</td>\n",
       "    </tr>\n",
       "    <tr>\n",
       "      <th>2</th>\n",
       "      <td>191</td>\n",
       "    </tr>\n",
       "    <tr>\n",
       "      <th>3</th>\n",
       "      <td>251</td>\n",
       "    </tr>\n",
       "    <tr>\n",
       "      <th>4</th>\n",
       "      <td>260</td>\n",
       "    </tr>\n",
       "  </tbody>\n",
       "</table>\n",
       "</div>"
      ],
      "text/plain": [
       "   Co2_emissions\n",
       "0            202\n",
       "1            193\n",
       "2            191\n",
       "3            251\n",
       "4            260"
      ]
     },
     "execution_count": 64,
     "metadata": {},
     "output_type": "execute_result"
    }
   ],
   "source": [
    "y_data = data[['Co2_emissions']]\n",
    "y_data.head()"
   ]
  },
  {
   "cell_type": "code",
   "execution_count": 65,
   "metadata": {},
   "outputs": [
    {
     "name": "stdout",
     "output_type": "stream",
     "text": [
      "(24092, 79) (24092, 1)\n"
     ]
    }
   ],
   "source": [
    "print(x_data.shape, y_data.shape)"
   ]
  },
  {
   "cell_type": "code",
   "execution_count": 66,
   "metadata": {},
   "outputs": [
    {
     "name": "stdout",
     "output_type": "stream",
     "text": [
      "Requirement already satisfied: sklearn in c:\\users\\tradeoff\\anaconda3\\lib\\site-packages (0.0)\n",
      "Requirement already satisfied: scikit-learn in c:\\users\\tradeoff\\anaconda3\\lib\\site-packages (from sklearn) (0.19.2)\n"
     ]
    }
   ],
   "source": [
    "!{sys.executable} -m pip install sklearn"
   ]
  },
  {
   "cell_type": "code",
   "execution_count": 79,
   "metadata": {},
   "outputs": [],
   "source": [
    "from sklearn.linear_model import LinearRegression\n",
    "from sklearn.model_selection import cross_val_score\n",
    "from sklearn.model_selection import train_test_split\n",
    "from sklearn import metrics"
   ]
  },
  {
   "cell_type": "code",
   "execution_count": 80,
   "metadata": {},
   "outputs": [
    {
     "name": "stdout",
     "output_type": "stream",
     "text": [
      "train: 0.6% | validation: 0.2% | test 0.2%\n",
      "number of test samples : 14454, number of validation samples : 4819, number of training samples : 4819\n"
     ]
    }
   ],
   "source": [
    "# intermediate/test split (gives us test set)\n",
    "x_intermediate, x_test, y_intermediate, y_test = train_test_split(x_data, \n",
    "                                                                  y_data, \n",
    "                                                                  shuffle=True,\n",
    "                                                                  test_size=0.2, \n",
    "                                                                  random_state=15)\n",
    "\n",
    "# train/validation split (gives us train and validation sets)\n",
    "x_train, x_validation, y_train, y_validation = train_test_split(x_intermediate,\n",
    "                                                                y_intermediate,\n",
    "                                                                shuffle=False,\n",
    "                                                                test_size=0.25,\n",
    "                                                                random_state=2018)\n",
    "# delete intermediate variables\n",
    "del x_intermediate, y_intermediate\n",
    "\n",
    "# print proportions\n",
    "print('train: {}% | validation: {}% | test {}%'.format(round(len(y_train)/len(y_data),2),\n",
    "                                                       round(len(y_validation)/len(y_data),2),\n",
    "                                                       round(len(y_test)/len(y_data),2)))\n",
    "\n",
    "print(\"number of test samples : {}, number of validation samples : {}, number of training samples : {}\".format(len(x_train), \n",
    "                                                                                                               len(x_validation),\n",
    "                                                                                                               len(x_test)))\n",
    "\n",
    "\n"
   ]
  },
  {
   "cell_type": "code",
   "execution_count": 82,
   "metadata": {},
   "outputs": [],
   "source": [
    "def calc_train_error(X_train, y_train, model):\n",
    "    '''returns in-sample error for already fit model.'''\n",
    "    predictions = model.predict(X_train)\n",
    "    mse = mean_squared_error(y_train, predictions)\n",
    "    rmse = np.sqrt(mse)\n",
    "    return mse\n",
    "    \n",
    "def calc_validation_error(X_test, y_test, model):\n",
    "    '''returns out-of-sample error for already fit model.'''\n",
    "    predictions = model.predict(X_test)\n",
    "    mse = mean_squared_error(y_test, predictions)\n",
    "    rmse = np.sqrt(mse)\n",
    "    return mse\n",
    "    \n",
    "def calc_metrics(X_train, y_train, X_test, y_test, model):\n",
    "    '''fits model and returns the RMSE for in-sample error and out-of-sample error'''\n",
    "    model.fit(X_train, y_train)\n",
    "    train_error = calc_train_error(X_train, y_train, model)\n",
    "    validation_error = calc_validation_error(X_test, y_test, model)\n",
    "    return train_error, validation_error"
   ]
  },
  {
   "cell_type": "code",
   "execution_count": 91,
   "metadata": {},
   "outputs": [
    {
     "name": "stdout",
     "output_type": "stream",
     "text": [
      "(14454, 79) (4819, 79) (4819, 79) (14454, 1) (4819, 1) (4819, 1) (4819, 1)\n"
     ]
    }
   ],
   "source": [
    "print(x_train.shape,\n",
    "x_validation.shape,\n",
    "x_test.shape,\n",
    "y_train.shape,\n",
    "y_validation.shape,\n",
    "y_test.shape,\n",
    "yhat_validation.shape)"
   ]
  },
  {
   "cell_type": "code",
   "execution_count": 81,
   "metadata": {},
   "outputs": [],
   "source": [
    "lre = LinearRegression(fit_intercept = True, normalize= True, copy_X = True)"
   ]
  },
  {
   "cell_type": "code",
   "execution_count": 83,
   "metadata": {},
   "outputs": [
    {
     "data": {
      "text/plain": [
       "LinearRegression(copy_X=True, fit_intercept=True, n_jobs=1, normalize=True)"
      ]
     },
     "execution_count": 83,
     "metadata": {},
     "output_type": "execute_result"
    }
   ],
   "source": [
    "lre.fit(x_train, y_train)"
   ]
  },
  {
   "cell_type": "code",
   "execution_count": 86,
   "metadata": {},
   "outputs": [],
   "source": [
    "yhat_validation = lre.predict(x_validation)"
   ]
  },
  {
   "cell_type": "code",
   "execution_count": 92,
   "metadata": {},
   "outputs": [
    {
     "ename": "ValueError",
     "evalue": "shapes (4819,1) and (79,1) not aligned: 1 (dim 1) != 79 (dim 0)",
     "output_type": "error",
     "traceback": [
      "\u001b[1;31m---------------------------------------------------------------------------\u001b[0m",
      "\u001b[1;31mValueError\u001b[0m                                Traceback (most recent call last)",
      "\u001b[1;32m<ipython-input-92-69b1fc69ee0a>\u001b[0m in \u001b[0;36m<module>\u001b[1;34m()\u001b[0m\n\u001b[1;32m----> 1\u001b[1;33m \u001b[0mlre\u001b[0m\u001b[1;33m.\u001b[0m\u001b[0mscore\u001b[0m\u001b[1;33m(\u001b[0m\u001b[0my_validation\u001b[0m\u001b[1;33m,\u001b[0m \u001b[0myhat_validation\u001b[0m\u001b[1;33m)\u001b[0m\u001b[1;33m\u001b[0m\u001b[0m\n\u001b[0m",
      "\u001b[1;32m~\\Anaconda3\\lib\\site-packages\\sklearn\\base.py\u001b[0m in \u001b[0;36mscore\u001b[1;34m(self, X, y, sample_weight)\u001b[0m\n\u001b[0;32m    384\u001b[0m \u001b[1;33m\u001b[0m\u001b[0m\n\u001b[0;32m    385\u001b[0m         \u001b[1;32mfrom\u001b[0m \u001b[1;33m.\u001b[0m\u001b[0mmetrics\u001b[0m \u001b[1;32mimport\u001b[0m \u001b[0mr2_score\u001b[0m\u001b[1;33m\u001b[0m\u001b[0m\n\u001b[1;32m--> 386\u001b[1;33m         return r2_score(y, self.predict(X), sample_weight=sample_weight,\n\u001b[0m\u001b[0;32m    387\u001b[0m                         multioutput='variance_weighted')\n\u001b[0;32m    388\u001b[0m \u001b[1;33m\u001b[0m\u001b[0m\n",
      "\u001b[1;32m~\\Anaconda3\\lib\\site-packages\\sklearn\\linear_model\\base.py\u001b[0m in \u001b[0;36mpredict\u001b[1;34m(self, X)\u001b[0m\n\u001b[0;32m    254\u001b[0m             \u001b[0mReturns\u001b[0m \u001b[0mpredicted\u001b[0m \u001b[0mvalues\u001b[0m\u001b[1;33m.\u001b[0m\u001b[1;33m\u001b[0m\u001b[0m\n\u001b[0;32m    255\u001b[0m         \"\"\"\n\u001b[1;32m--> 256\u001b[1;33m         \u001b[1;32mreturn\u001b[0m \u001b[0mself\u001b[0m\u001b[1;33m.\u001b[0m\u001b[0m_decision_function\u001b[0m\u001b[1;33m(\u001b[0m\u001b[0mX\u001b[0m\u001b[1;33m)\u001b[0m\u001b[1;33m\u001b[0m\u001b[0m\n\u001b[0m\u001b[0;32m    257\u001b[0m \u001b[1;33m\u001b[0m\u001b[0m\n\u001b[0;32m    258\u001b[0m     \u001b[0m_preprocess_data\u001b[0m \u001b[1;33m=\u001b[0m \u001b[0mstaticmethod\u001b[0m\u001b[1;33m(\u001b[0m\u001b[0m_preprocess_data\u001b[0m\u001b[1;33m)\u001b[0m\u001b[1;33m\u001b[0m\u001b[0m\n",
      "\u001b[1;32m~\\Anaconda3\\lib\\site-packages\\sklearn\\linear_model\\base.py\u001b[0m in \u001b[0;36m_decision_function\u001b[1;34m(self, X)\u001b[0m\n\u001b[0;32m    239\u001b[0m         \u001b[0mX\u001b[0m \u001b[1;33m=\u001b[0m \u001b[0mcheck_array\u001b[0m\u001b[1;33m(\u001b[0m\u001b[0mX\u001b[0m\u001b[1;33m,\u001b[0m \u001b[0maccept_sparse\u001b[0m\u001b[1;33m=\u001b[0m\u001b[1;33m[\u001b[0m\u001b[1;34m'csr'\u001b[0m\u001b[1;33m,\u001b[0m \u001b[1;34m'csc'\u001b[0m\u001b[1;33m,\u001b[0m \u001b[1;34m'coo'\u001b[0m\u001b[1;33m]\u001b[0m\u001b[1;33m)\u001b[0m\u001b[1;33m\u001b[0m\u001b[0m\n\u001b[0;32m    240\u001b[0m         return safe_sparse_dot(X, self.coef_.T,\n\u001b[1;32m--> 241\u001b[1;33m                                dense_output=True) + self.intercept_\n\u001b[0m\u001b[0;32m    242\u001b[0m \u001b[1;33m\u001b[0m\u001b[0m\n\u001b[0;32m    243\u001b[0m     \u001b[1;32mdef\u001b[0m \u001b[0mpredict\u001b[0m\u001b[1;33m(\u001b[0m\u001b[0mself\u001b[0m\u001b[1;33m,\u001b[0m \u001b[0mX\u001b[0m\u001b[1;33m)\u001b[0m\u001b[1;33m:\u001b[0m\u001b[1;33m\u001b[0m\u001b[0m\n",
      "\u001b[1;32m~\\Anaconda3\\lib\\site-packages\\sklearn\\utils\\extmath.py\u001b[0m in \u001b[0;36msafe_sparse_dot\u001b[1;34m(a, b, dense_output)\u001b[0m\n\u001b[0;32m    138\u001b[0m         \u001b[1;32mreturn\u001b[0m \u001b[0mret\u001b[0m\u001b[1;33m\u001b[0m\u001b[0m\n\u001b[0;32m    139\u001b[0m     \u001b[1;32melse\u001b[0m\u001b[1;33m:\u001b[0m\u001b[1;33m\u001b[0m\u001b[0m\n\u001b[1;32m--> 140\u001b[1;33m         \u001b[1;32mreturn\u001b[0m \u001b[0mnp\u001b[0m\u001b[1;33m.\u001b[0m\u001b[0mdot\u001b[0m\u001b[1;33m(\u001b[0m\u001b[0ma\u001b[0m\u001b[1;33m,\u001b[0m \u001b[0mb\u001b[0m\u001b[1;33m)\u001b[0m\u001b[1;33m\u001b[0m\u001b[0m\n\u001b[0m\u001b[0;32m    141\u001b[0m \u001b[1;33m\u001b[0m\u001b[0m\n\u001b[0;32m    142\u001b[0m \u001b[1;33m\u001b[0m\u001b[0m\n",
      "\u001b[1;31mValueError\u001b[0m: shapes (4819,1) and (79,1) not aligned: 1 (dim 1) != 79 (dim 0)"
     ]
    }
   ],
   "source": [
    "lre.score(y_validation, yhat_validation)"
   ]
  },
  {
   "cell_type": "code",
   "execution_count": null,
   "metadata": {},
   "outputs": [],
   "source": [
    "print(\"The R^2 score for the TRAINING and TESTING set are as follows {}, {}:\".format(lre.score(x_train, y_train) ,lre.score(x_test, y_test)))"
   ]
  },
  {
   "cell_type": "code",
   "execution_count": null,
   "metadata": {},
   "outputs": [],
   "source": [
    "yhat_train = lre.predict(x_train)\n",
    "yhat_train"
   ]
  },
  {
   "cell_type": "raw",
   "metadata": {},
   "source": [
    "yhat_test = lre.predict(x_test)\n",
    "yhat_test"
   ]
  },
  {
   "cell_type": "code",
   "execution_count": null,
   "metadata": {},
   "outputs": [],
   "source": [
    "def DistributionPlot(RedFunction, BlueFunction, RedName, BlueName, Title):\n",
    "    width = 12\n",
    "    height = 10\n",
    "    plt.figure(figsize=(width, height))\n",
    "\n",
    "    ax1 = sns.distplot(RedFunction, hist=False, color=\"r\", label=RedName)\n",
    "    ax2 = sns.distplot(BlueFunction, hist=False, color=\"b\", label=BlueName, ax=ax1)\n",
    "\n",
    "    plt.title(Title)\n",
    "    plt.xlabel('Price (in dollars)')\n",
    "    plt.ylabel('Proportion of Cars')\n",
    "\n",
    "    plt.show()\n",
    "    plt.close()"
   ]
  },
  {
   "cell_type": "code",
   "execution_count": null,
   "metadata": {},
   "outputs": [],
   "source": [
    "Title = 'Distribution  Plot of  Predicted Value Using Training Data vs Training Data Distribution'\n",
    "DistributionPlot(y_train, yhat_train, \"Actual Values (Train)\", \"Predicted Values (Train)\", Title)"
   ]
  },
  {
   "cell_type": "code",
   "execution_count": null,
   "metadata": {},
   "outputs": [],
   "source": [
    "Title='Distribution  Plot of  Predicted Value Using Test Data vs Data Distribution of Test Data'\n",
    "DistributionPlot(y_test,yhat_test,\"Actual Values (Test)\",\"Predicted Values (Test)\",Title)"
   ]
  },
  {
   "cell_type": "code",
   "execution_count": null,
   "metadata": {},
   "outputs": [],
   "source": [
    "from sklearn.model_selection import cross_val_score\n",
    "from sklearn.model_selection import cross_val_predict"
   ]
  },
  {
   "cell_type": "code",
   "execution_count": null,
   "metadata": {},
   "outputs": [],
   "source": [
    "Rcross = cross_val_score(lre, x_data, y_data, cv=4)"
   ]
  },
  {
   "cell_type": "code",
   "execution_count": null,
   "metadata": {},
   "outputs": [],
   "source": []
  },
  {
   "cell_type": "code",
   "execution_count": null,
   "metadata": {},
   "outputs": [],
   "source": []
  },
  {
   "cell_type": "code",
   "execution_count": null,
   "metadata": {},
   "outputs": [],
   "source": []
  },
  {
   "cell_type": "markdown",
   "metadata": {},
   "source": [
    "**okay so let's encode our categorical features into integer categories so that the algorith can understand the feature information.**"
   ]
  },
  {
   "attachments": {
    "image.png": {
     "image/png": "[encoded data removed]"
    }
   },
   "cell_type": "markdown",
   "metadata": {},
   "source": [
    "* https://www.kaggle.com/vjchoudhary7/hr-analytics-case-study - Logistic Regession\n",
    "* https://www.kaggle.com/vpfahad/telecom-churn-data-sets - \n",
    "* https://www.kaggle.com/hpratt/hiring-decision-with-scikit-learn/kernels - \n",
    "* https://www.kaggle.com/mrferozi/flight-delays - \n",
    "* https://www.kaggle.com/uciml/pima-indians-diabetes-database - \n",
    "* https://www.kaggle.com/himanshupoddar/zomato-bangalore-restaurants - \n",
    "* https://www.kaggle.com/anderas/car-consume - \n",
    "* https://www.kaggle.com/uciml/red-wine-quality-cortez-et-al-2009 - \n",
    "* https://www.kaggle.com/nehalbirla/vehicle-dataset-from-cardekho - \n",
    "* https://www.kaggle.com/ranja7/bankloan-tobeapproved - \n",
    "* https://www.kaggle.com/noordeen/insurance-premium-prediction - Multivariate Linear Regression.\n",
    "* https://www.kaggle.com/teertha/ushealthinsurancedataset - \n",
    "* https://www.kaggle.com/mirichoi0218/insurance - \n",
    "* https://www.kaggle.com/skihikingkevin/online-p2p-lending - \n",
    "* https://www.kaggle.com/rikdifos/credit-card-approval-prediction - \n",
    "* https://www.kaggle.com/broach/button-tone-sz - \n",
    "* https://www.kaggle.com/karvalo/indian-card-payment-data-set - \n",
    "* https://www.kaggle.com/dhimananubhav/equity-investing-fundamental-analysis - \n",
    "* \n",
    "\n",
    "\n",
    "\n",
    "\n",
    "Understanding the Table\t\t\t\t\t\t\t\t\t\t\t\t\t\t\t\t\t\t\t\n",
    "Model\t4WD/4X4 = Four-wheel drive\t\t\t\t\t\t\t\t\t\t\t\t\t\t\t\t\t\t\n",
    "\tAWD = All-wheel drive\t\t\t\t\t\t\t\t\t\t\t\t\t\t\t\t\t\t\n",
    "\tCNG = Compressed natural gas\t\t\t\t\t\t\t\t\t\t\t\t\t\t\t\t\t\t\n",
    "\tFFV = Flexible-fuel vehicle\t\t\t\t\t\t\t\t\t\t\t\t\t\t\t\t\t\t\n",
    "\tNGV = Natural gas vehicle\t\t\t\t\t\t\t\t\t\t\t\t\t\t\t\t\t\t\n",
    "\t# = High output engine that provides more power than the standard engine of the same size\t\t\t\t\t\t\t\t\t\t\t\t\t\t\t\t\t\t\n",
    "Transmission\tA = Automatic\t\t\t\t\t\t\t\t\t\t\t\t\t\t\t\t\t\t\n",
    "\tAM = Automated manual\t\t\t\t\t\t\t\t\t\t\t\t\t\t\t\t\t\t\n",
    "\tAS = Automatic with select shift\t\t\t\t\t\t\t\t\t\t\t\t\t\t\t\t\t\t\n",
    "\tAV = Continuously variable\t\t\t\t\t\t\t\t\t\t\t\t\t\t\t\t\t\t\n",
    "\tM = Manual\t\t\t\t\t\t\t\t\t\t\t\t\t\t\t\t\t\t\n",
    "\t3 – 10 = Number of gears\t\t\t\t\t\t\t\t\t\t\t\t\t\t\t\t\t\t\n",
    "Fuel Type\tX = Regular gasoline\t\t\t\t\t\t\t\t\t\t\t\t\t\t\t\t\t\t\n",
    "\tZ = Premium gasoline\t\t\t\t\t\t\t\t\t\t\t\t\t\t\t\t\t\t\n",
    "\tD = Diesel\t\t\t\t\t\t\t\t\t\t\t\t\t\t\t\t\t\t\n",
    "\tE = Ethanol (E85)\t\t\t\t\t\t\t\t\t\t\t\t\t\t\t\t\t\t\n",
    "\tN = Natural Gas\t\t\t\t\t\t\t\t\t\t\t\t\t\t\t\t\t\t\n",
    "Fuel Consumption\tCity and highway fuel consumption ratings are shown in litres per 100 kilometres (L/100 km) - combined rating (55% city, 45% hwy) is shown in L/100 km and in miles per imperial gallon (mpg)\t\t\t\t\t\t\t\t\t\t\t\t\t\t\t\t\t\t\n",
    "CO2 Emissions (g/km)\tEstimated tailpipe carbon dioxide emissions (in grams per kilometre) are based on fuel type and the combined fuel consumption rating.\t\t\t\t\t\t\t\t\t\t\t\t\t\t\t\t\t\t\n",
    "![image.png](attachment:image.png)"
   ]
  },
  {
   "cell_type": "code",
   "execution_count": null,
   "metadata": {},
   "outputs": [],
   "source": []
  }
 ],
 "metadata": {
  "kernelspec": {
   "display_name": "Python 3",
   "language": "python",
   "name": "python3"
  },
  "language_info": {
   "codemirror_mode": {
    "name": "ipython",
    "version": 3
   },
   "file_extension": ".py",
   "mimetype": "text/x-python",
   "name": "python",
   "nbconvert_exporter": "python",
   "pygments_lexer": "ipython3",
   "version": "3.7.0"
  }
 },
 "nbformat": 4,
 "nbformat_minor": 2
}
